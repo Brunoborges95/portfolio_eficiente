{
 "cells": [
  {
   "cell_type": "markdown",
   "id": "efd858df",
   "metadata": {},
   "source": [
    "<h1> Minimizando o risco de uma Carteira de Investimentos com otimização linear </h1>"
   ]
  },
  {
   "cell_type": "markdown",
   "id": "bb1466f5",
   "metadata": {},
   "source": [
    "<img src=\"https://media-exp1.licdn.com/dms/image/C4D12AQH4b_B99E8plQ/article-cover_image-shrink_720_1280/0/1559514788836?e=1629936000&v=beta&t=UOSOnwThfNUoyLrcYNW__SmXREmruEIGWh6pEY0WiuY\">"
   ]
  },
  {
   "cell_type": "markdown",
   "id": "5ae4e457",
   "metadata": {},
   "source": [
    "<p>As decisões financeiras na prática não são tomadas em ambiente de total certeza com relação a seus resultados. Por essas decisões estarem fundamentalmente voltadas para o futuro, é imprescindível que se introduza a variável incerteza (risco) como um dos mais significativos aspectos do estudo das finanças corporativas. Saber mensurar corretamente o risco e retorno de um negócio, ou seja, saber exatamente com o que está lidando, é uma das principais habilidades que um empreendedor ou um gestor de fundos precisa ter para obter sucesso.</p>\n",
    "\n",
    "<p> Como então mensuramos o risco? Primeiro precisamos definir uma medida de risco. De maneira geral, medimos o risco pelo quanto de capital precisamos adicionar à nossa posição de risco para termos uma posição aceitável. Por exemplo, suponha que você tenha 1000 reais para investir no mercado de ações e quer ganhar 1 milhão de reais em três anos. O grau de incerteza de obter esse retorno seria ridiculamente alto, (mas teoricamente seria possível, bastando investir no início do dia, na ação que vai dar maior retorno no final dia, e depois trocando para a ação que vai dar maior retorno no final do dia seguinte, sucessivamente) e deveríamos adicionar um capital bastante expressivo nesse investimento para obtermos uma posição aceitável de risco.</p>\n",
    "\n",
    "<p> Existem várias maneiras de medir um risco de uma carteira de investimentos. Vamos avaliar neste artigo as três mais importantes: Modelo de Markowitz, Valor em Risco (VaR) e Valor em Risco Condicional (CVaR). Mas antes disso, vamos entender o que é ter uma carteira \"coerente\". A noção de coerência foi introduzida por Artzner et al e atualmente, é um conceito fundamental relacionado à aceitabilidade de uma medida de risco. A literatura introduz um número de propriedades que são usadas para determinar um medida de risco. As propriedades mais importantes para a medida de risco são: </p>\n",
    "\n",
    "<ol>\n",
    "    <li><b>Invariância à translação </b>: Se adicionarmos ou subtrairmos uma quantidade certa de nossa carteira, a medida de risco aumenta ou diminui. Matematicamente, se $A$ é o quanto queremos adicionar aos ganhos da carteira, $X$ e $p$ a nossa medida de risco, então $p(X+A)=p(X)+A$. Veja que, se trocarmos instrumentos de renda varável e alocarmos em renda fixa (nessa caso, $A$ é negativo) a carteira diminui o risco no mesmo montante.</li>\n",
    "    <li><b>Subaditividade</b>: Na minha opinião, é a propriedade mais importante ao se avaliar uma medida de risco. Esta medida é intimamente relacionada com o efeito da diversificação do portfólio. A medida do risco total da carteira (conjunto de ativos) é menor ou igual que a medida do risco da soma individual dos ativos da carteira ($p(X_{1})+p(X_{2})<p(X_{1}+X_{2})$). É o princípio da Teoria Moderno do Portfólio, do grande Markowitz. E para quem gosta de avaliar o desempenho de uma carteira usando o VaR, desculpe decepcioná-los, mais <b>o VaR falha na subaditivade</b>. Isso significa que, minimizar o VaR não garante que você vá diversificar os investimentos da carteira considerada.</li>\n",
    "    <li><b>Monotonicidade</b>:  Se os ganhos na carteira $X$ são menores que os da carteira $Y$ para todos os cenários possíveis, então o risco na carteira $X$ é menor que na carteira $Y$ (Se $X_{1}<X_{2}$, então $p(X_{1})<p(X_{2})$). Claro, num portfólio devidamente otimizado, se você quiser arriscar mais, espera que sua possibilidade de ganho seja maior. Se você é fã da Teoria de Markowitz, não vai ser fã dessa propriedade, pois infelizmente Markowitz falha na monotonicidade :(.</li>\n",
    "    <li><b>Homogeneidade Positiva</b>: Ao aumentar o tamanho de cada posição da carteira o risco da carteira aumenta em igual proporção ($p(bX)=bp(X)$), sendo $b$ uma constante). Isso significa que, se você trocar a moeda de uma carteira, ou dobrar seu investimento em cada ação, seu risco aumentará na mesma proporção. Se você aposta 100 reais num jogo de poker e depois triplica a aposta, seu risco triplica também, pois você pode perder (ou ganhar) três vezes mais do que antes.</li>\n",
    "</ol>"
   ]
  },
  {
   "cell_type": "markdown",
   "id": "0bbe6bfe",
   "metadata": {},
   "source": [
    "<h3> Importando bibliotecas </h3>\n",
    "\n",
    "Para começar nosso projeto, vamos importar as bibliotecas necessárias."
   ]
  },
  {
   "cell_type": "code",
   "execution_count": 1,
   "id": "dying-watson",
   "metadata": {},
   "outputs": [],
   "source": [
    "import numpy as np #manipulação de matrizes/ álgebra linear\n",
    "import pandas as pd #manipulação de dataframes\n",
    "from datetime import datetime,timedelta #datas\n",
    "import numpy.matlib\n",
    "import matplotlib.pyplot as plt #imagens\n",
    "import plotly.express as px #imagens interativas\n",
    "import plotly.graph_objects as go\n",
    "import pandas_datareader.data as web #importar dados históricos de ativos\n",
    "import scipy.io #estatística\n",
    "from scipy.optimize import linprog #algoritmo para otimização linear\n",
    "from time import sleep \n",
    "from tqdm.notebook import tqdm #avaliar passar em um loop"
   ]
  },
  {
   "cell_type": "code",
   "execution_count": 2,
   "id": "21dd41e2",
   "metadata": {},
   "outputs": [
    {
     "data": {
      "text/plain": [
       "'5.9.0'"
      ]
     },
     "execution_count": 2,
     "metadata": {},
     "output_type": "execute_result"
    }
   ],
   "source": [
    "import plotly\n",
    "plotly.__version__"
   ]
  },
  {
   "cell_type": "code",
   "execution_count": 3,
   "id": "765b44e8-0729-467c-8a4c-720118d88b61",
   "metadata": {},
   "outputs": [],
   "source": [
    "pd.set_option('display.max_columns', 500)"
   ]
  },
  {
   "cell_type": "markdown",
   "id": "southwest-friday",
   "metadata": {},
   "source": [
    "<h3> Coletando o histórico de ações </h3>\n",
    "\n",
    "Selecionaremos as principais ações da bolsa de valores do Brasil."
   ]
  },
  {
   "cell_type": "code",
   "execution_count": 4,
   "id": "0b4317e0-eed7-4611-85ad-48fb3809bb6d",
   "metadata": {},
   "outputs": [],
   "source": [
    "from pandas_datareader import data as pdr\n",
    "import yfinance as yfin\n",
    "\n",
    "\n",
    "yfin.pdr_override()"
   ]
  },
  {
   "cell_type": "code",
   "execution_count": 5,
   "id": "44903ec9-1b0c-431e-8c35-8c087812d3ab",
   "metadata": {},
   "outputs": [],
   "source": [
    "from selenium import webdriver\n",
    "from bs4 import BeautifulSoup\n",
    "from selenium.webdriver.common.by import By\n",
    "import time"
   ]
  },
  {
   "cell_type": "code",
   "execution_count": 6,
   "id": "278beded-5161-4ebe-a064-1834e5225582",
   "metadata": {
    "scrolled": true
   },
   "outputs": [
    {
     "name": "stdout",
     "output_type": "stream",
     "text": [
      "página 1\n",
      "página 2\n",
      "página 3\n",
      "página 4\n",
      "página 5\n",
      "página 6\n",
      "página 7\n",
      "página 8\n",
      "página 9\n",
      "página 10\n",
      "página 11\n",
      "página 12\n",
      "página 13\n",
      "página 14\n",
      "página 15\n",
      "página 16\n",
      "página 17\n",
      "página 18\n",
      "página 19\n",
      "página 20\n",
      "página 21\n",
      "página 22\n",
      "página 23\n",
      "página 24\n",
      "página 25\n",
      "página 26\n",
      "página 27\n",
      "página 28\n",
      "Número de páginas alcançadas: Message: no such element: Unable to locate element: {\"method\":\"xpath\",\"selector\":\"//*[@id=\"paginationWrap\"]/div[3]/a\"}\n",
      "  (Session info: chrome=120.0.6099.130); For documentation on this error, please visit: https://www.selenium.dev/documentation/webdriver/troubleshooting/errors#no-such-element-exception\n",
      "Stacktrace:\n",
      "\tGetHandleVerifier [0x00007FF7D7F12142+3514994]\n",
      "\t(No symbol) [0x00007FF7D7B30CE2]\n",
      "\t(No symbol) [0x00007FF7D79D76AA]\n",
      "\t(No symbol) [0x00007FF7D7A21860]\n",
      "\t(No symbol) [0x00007FF7D7A2197C]\n",
      "\t(No symbol) [0x00007FF7D7A64EE7]\n",
      "\t(No symbol) [0x00007FF7D7A4602F]\n",
      "\t(No symbol) [0x00007FF7D7A628F6]\n",
      "\t(No symbol) [0x00007FF7D7A45D93]\n",
      "\t(No symbol) [0x00007FF7D7A14BDC]\n",
      "\t(No symbol) [0x00007FF7D7A15C64]\n",
      "\tGetHandleVerifier [0x00007FF7D7F3E16B+3695259]\n",
      "\tGetHandleVerifier [0x00007FF7D7F96737+4057191]\n",
      "\tGetHandleVerifier [0x00007FF7D7F8E4E3+4023827]\n",
      "\tGetHandleVerifier [0x00007FF7D7C604F9+689705]\n",
      "\t(No symbol) [0x00007FF7D7B3C048]\n",
      "\t(No symbol) [0x00007FF7D7B38044]\n",
      "\t(No symbol) [0x00007FF7D7B381C9]\n",
      "\t(No symbol) [0x00007FF7D7B288C4]\n",
      "\tBaseThreadInitThunk [0x00007FFCB82B257D+29]\n",
      "\tRtlUserThreadStart [0x00007FFCBA4AAA58+40]\n",
      "\n"
     ]
    }
   ],
   "source": [
    "url = 'https://br.investing.com/stock-screener/?sp=country::32|sector::a|industry::a|equityType::a|exchange::a%3Ceq_market_cap;1'\n",
    "driver = webdriver.Chrome()\n",
    "driver.get(url)\n",
    "time.sleep(5)\n",
    "list_df = []\n",
    "c = True\n",
    "i=0\n",
    "while c:\n",
    "    try:\n",
    "        table_element = driver.find_element(By.XPATH, '//*[@id=\"resultsTable\"]')\n",
    "        table_html = table_element.get_attribute('outerHTML')\n",
    "        list_df.append(pd.read_html(table_html, index_col=0, thousands='.', decimal=',', na_values=['-'])[0].reset_index(drop=True))\n",
    "        driver.find_element(By.XPATH, '//*[@id=\"paginationWrap\"]/div[3]/a').click()\n",
    "        time.sleep(5)\n",
    "        i+=1\n",
    "        print('página', i)\n",
    "    except Exception as e:\n",
    "        # Trate o erro aqui, se necessário\n",
    "        print(f\"Número de páginas alcançadas: {e}\")\n",
    "        # Encerre o loop após o erro\n",
    "        c = False\n",
    "        \n",
    "df = pd.concat(list_df)\n",
    "df = df.iloc[:,:-1]"
   ]
  },
  {
   "cell_type": "code",
   "execution_count": 7,
   "id": "d7234a5e",
   "metadata": {},
   "outputs": [],
   "source": [
    "col_str = ['Nome', 'Códigos', 'Bolsa', 'Setor', 'Indústria', '15 minutos', 'Hora', 'Diário', 'Semanal', 'Mensal']\n",
    "for coluna in df.columns:\n",
    "    if coluna not in col_str:\n",
    "        if df[coluna].dtype == 'O':  # Verifica se a coluna é do tipo objeto (string)\n",
    "            df[coluna] = pd.to_numeric(df[coluna], errors='coerce')\n",
    "Tipos_depara = {'34':'BDR', '11':'FII', '3':'ON', '4':'PN', '5':'PNA', '6':'PNB', '31': 'BDR', \n",
    "                '12':'Subscrição', '33':'BDR', '32':'BDR', '35':'BDR', '7': 'PNC', '8': 'PND'} \n",
    "df['Tipo'] = df['Códigos'].str[4:].replace(to_replace='[^0-9]', value='', regex=True).replace(Tipos_depara)\n",
    "df.to_parquet(\"df_stocks_info.parquet\")"
   ]
  },
  {
   "cell_type": "code",
   "execution_count": 11,
   "id": "handmade-disaster",
   "metadata": {},
   "outputs": [],
   "source": [
    "#stocks = [i+'.SA' for i in df_ON.Códigos.unique()]\n",
    "df_stocks_info = pd.read_parquet(\"df_stocks_info.parquet\")\n",
    "start = datetime(2020,1,1)\n",
    "end = datetime(2023,12,10)\n",
    "\n",
    "stock_type = [\"ON\"]\n",
    "stock_sector = list(df_stocks_info[\"Setor\"].unique())\n",
    "stock_technical = [\"Compra Forte\"]\n",
    "\n",
    "df_filter = df_stocks_info.query(\n",
    "    \"Tipo in @stock_type and Setor in @stock_sector and Mensal in @stock_technical\"\n",
    ")\n",
    "stocks_codes = [i + \".SA\" for i in df_filter.Códigos.unique()]"
   ]
  },
  {
   "cell_type": "code",
   "execution_count": 12,
   "id": "3868f4d3-17d8-4f0f-9a4d-0835f8a71e86",
   "metadata": {},
   "outputs": [
    {
     "name": "stdout",
     "output_type": "stream",
     "text": [
      "[*********************100%%**********************]  149 of 149 completed"
     ]
    },
    {
     "name": "stderr",
     "output_type": "stream",
     "text": [
      "\n",
      "2 Failed downloads:\n",
      "['1WIZC3.SA', '1ALOS3.SA']: Exception('%ticker%: No timezone found, symbol may be delisted')\n"
     ]
    },
    {
     "name": "stdout",
     "output_type": "stream",
     "text": [
      "\n"
     ]
    }
   ],
   "source": [
    "historico_stocks = web.DataReader(stocks_codes, start, end)['Adj Close']"
   ]
  },
  {
   "cell_type": "code",
   "execution_count": 13,
   "id": "d3b65e64",
   "metadata": {},
   "outputs": [
    {
     "name": "stdout",
     "output_type": "stream",
     "text": [
      "Os ativos ['1ALOS3.SA', '1WIZC3.SA', 'AESB3.SA', 'ALOS3.SA', 'ALPK3.SA', 'APER3.SA', 'BAZA3.SA', 'BMEB3.SA', 'BMKS3.SA', 'BNBR3.SA', 'BRGE3.SA', 'BRIT3.SA', 'CALI3.SA', 'CEDO3.SA', 'CEEB3.SA', 'CMIN3.SA', 'CRIV3.SA', 'CSED3.SA', 'CURY3.SA', 'CXSE3.SA', 'DESK3.SA', 'DMVF3.SA', 'EALT3.SA', 'ELMD3.SA', 'ENJU3.SA', 'EQMA3B.SA', 'FESA3.SA', 'FRIO3.SA', 'GEPA3.SA', 'GGPS3.SA', 'GMAT3.SA', 'GPAR3.SA', 'HBRE3.SA', 'HBSA3.SA', 'JSLG3.SA', 'LAVV3.SA', 'LIPR3.SA', 'LJQQ3.SA', 'MDNE3.SA', 'MELK3.SA', 'NINJ3.SA', 'ONCO3.SA', 'OPCT3.SA', 'ORVR3.SA', 'PINE3.SA', 'PLPL3.SA', 'PORT3.SA', 'PRNR3.SA', 'RPAD3.SA', 'SIMH3.SA', 'SMFT3.SA', 'SOJA3.SA'] contém dados faltantes, e portante não devem ser utilizadas no portfólio\n"
     ]
    }
   ],
   "source": [
    "#colunas que contém nan\n",
    "colunas_nan = list(historico_stocks.iloc[:,list(historico_stocks.isna().any())].columns)\n",
    "if colunas_nan!=[]:\n",
    "    print(f'Os ativos {colunas_nan} contém dados faltantes, e portante não devem ser utilizadas no portfólio')\n",
    "    historico_stocks = historico_stocks.drop(columns=colunas_nan)\n",
    "    stocks = list(historico_stocks.columns)\n",
    "else:\n",
    "    stocks = list(historico_stocks.columns)"
   ]
  },
  {
   "cell_type": "code",
   "execution_count": 29,
   "id": "cce42d69",
   "metadata": {},
   "outputs": [
    {
     "ename": "TypeError",
     "evalue": "bad operand type for unary ~: 'list'",
     "output_type": "error",
     "traceback": [
      "\u001b[1;31m---------------------------------------------------------------------------\u001b[0m",
      "\u001b[1;31mTypeError\u001b[0m                                 Traceback (most recent call last)",
      "Cell \u001b[1;32mIn[29], line 1\u001b[0m\n\u001b[1;32m----> 1\u001b[0m historico_stocks\u001b[38;5;241m.\u001b[39misin(\u001b[38;5;241m~\u001b[39m[\u001b[38;5;28;01mNone\u001b[39;00m])\u001b[38;5;241m.\u001b[39msum()\u001b[38;5;241m.\u001b[39msum()\n",
      "\u001b[1;31mTypeError\u001b[0m: bad operand type for unary ~: 'list'"
     ]
    }
   ],
   "source": []
  },
  {
   "cell_type": "code",
   "execution_count": 92,
   "id": "adc9496c-fedb-43ce-b9f0-4fcba01a7dd6",
   "metadata": {},
   "outputs": [],
   "source": [
    "def df_moving_avg(df, sma=25):\n",
    "    return df.rolling(sma).mean().dropna()"
   ]
  },
  {
   "cell_type": "code",
   "execution_count": 93,
   "id": "bf8913c0-fca8-46f5-9a15-00c17db180a4",
   "metadata": {},
   "outputs": [],
   "source": [
    "def df_optimal_pso_points(df, num_points_to_choose = 30, num_particles = 15, num_iterations = 40):\n",
    "    stocks_series_list = []\n",
    "    for stock in list(df.columns):\n",
    "        stock_series = df[stock]\n",
    "        chosen_indices = PSO_optimal_points_stocks.pso(num_particles, num_iterations)\n",
    "        sorted_v = sorted(range(len(chosen_indices)), key=lambda k: chosen_indices[k])\n",
    "        sorted_indices = [chosen_indices[i] for i in sorted_v]\n",
    "        chosen_dates = [stock_series.index[i] for i in sorted_indices]\n",
    "        stock_series_opt_points = stock_series[chosen_dates]\n",
    "        stocks_series_list.append(stock_series_opt_points)\n",
    "        placeholder_df = pd.DataFrame(index=df.index)\n",
    "        pd_new = pd.concat(stocks_series_list+[placeholder_df], axis=1).interpolate(limit_direction='both')\n",
    "    return pd_new"
   ]
  },
  {
   "cell_type": "code",
   "execution_count": 94,
   "id": "205005fb-e70c-4d21-bb8a-831b7950bec5",
   "metadata": {},
   "outputs": [],
   "source": [
    "def df_weighted(df, recent_weight=.8):\n",
    "    new_df = df.copy()\n",
    "    for stock in list(df.columns):\n",
    "        new_df[stock] = np.linspace(1, recent_weight, len(df[stock]))[::-1]*df[stock]\n",
    "    return new_df"
   ]
  },
  {
   "cell_type": "code",
   "execution_count": 187,
   "id": "b83809aa-bd30-47d6-a41b-0c65f5ab2ed4",
   "metadata": {},
   "outputs": [],
   "source": [
    "historico_stocks_weighted = df_weighted(historico_stocks)\n",
    "historico_stocks_optimal_pso_points = df_optimal_pso_points(historico_stocks)\n",
    "historico_stocks_moving_avg = df_moving_avg(historico_stocks)"
   ]
  },
  {
   "cell_type": "code",
   "execution_count": 95,
   "id": "signed-proposition",
   "metadata": {},
   "outputs": [],
   "source": [
    "fig = go.Figure()\n",
    "for stock in stocks:\n",
    "    fig.add_trace(go.Scatter(x=historico_stocks.index, y=historico_stocks[stock],\n",
    "                                     mode='lines',\n",
    "                                     name=f'{stock}'))\n",
    "fig.update_layout(title='Histórico de fechamento das ações ', \n",
    "                    xaxis_title='Período',\n",
    "                    yaxis_title='Preço')\n",
    "fig.write_html(\"Histórico.html\")"
   ]
  },
  {
   "cell_type": "markdown",
   "id": "turkish-williams",
   "metadata": {},
   "source": [
    "<h3> Calcula o retorno e risco das ações </h3>"
   ]
  },
  {
   "cell_type": "markdown",
   "id": "18208539",
   "metadata": {},
   "source": [
    "<p> O principal aspecto da teoria do portfólio é que o risco individual de um ativo é diferente de seu risco na carteira, tornando a diversificação capaz de minimizar o risco não-sistemático dos ativos em conjunto. Com a minimização, é possível escolher a proporção ideal de cada ativo no portfólio, otimizando a relação retorno/risco da carteira de títulos. A figura abaixo representa bem essa ideia: Para mais de 30 ativos, é possível mitigar praticamente todo o risco não-sistemático da carteira. O resto é risco de mercado, crédito, liquidez ou operacional. </p>\n",
    "\n",
    "<img src=\"https://media-exp1.licdn.com/dms/image/C4D12AQHx1Wy9yxJRlw/article-inline_image-shrink_1000_1488/0/1559501707529?e=1629936000&v=beta&t=ZyiAkVi7HhjbCx_dU-q1Q6A2AITVAudFLkWk1Iuvyn0\">"
   ]
  },
  {
   "cell_type": "code",
   "execution_count": 67,
   "id": "direct-pierre",
   "metadata": {},
   "outputs": [],
   "source": [
    "data = historico_stocks.values.transpose()\n",
    "data = np.where(data < 0, 1e-07, data)\n",
    "Returns = np.zeros((data.shape[1]-1,data.shape[0]))\n",
    "for i in range(Returns.shape[1]):\n",
    "    epsilon = 1e-12\n",
    "    Returns[:,i] = np.log(data[i,1::]/data[i,0:-1])+1\n",
    "Returns = Returns[:,:-1]"
   ]
  },
  {
   "cell_type": "code",
   "execution_count": 82,
   "id": "2fc9a01d",
   "metadata": {},
   "outputs": [],
   "source": [
    "wE = 221 ; #Janela de estimativa\n",
    "R = Returns[::-1,:] #(a:k:b) a = primeiro indice, k = step size, b = último\n",
    "#R = R[0:wE+1,:]"
   ]
  },
  {
   "cell_type": "markdown",
   "id": "425b0db4",
   "metadata": {},
   "source": [
    "O retorno esperado de um ativo é dado por \n",
    "$$E(R) = \\frac{1}{n}\\sum_{i=1}^{n}R_{t},$$\n",
    "onde $n$ é o tamanho do período histórico considerado e $R_{t}$ o retorno em cada instante $t$ do histórico. O retorno da\n",
    "carteira $\\bar{R}_{c}$, é média dos retornos esperados de cada ativo."
   ]
  },
  {
   "cell_type": "code",
   "execution_count": 83,
   "id": "c5b42600",
   "metadata": {},
   "outputs": [],
   "source": [
    "ExpR = np.mean(R, axis=0).reshape(-1,1).T #retorno esperado\n",
    "MeanR = numpy.matlib.repmat(ExpR,R.shape[0],1)"
   ]
  },
  {
   "cell_type": "markdown",
   "id": "fresh-cincinnati",
   "metadata": {},
   "source": [
    "<h3> Minimiza o VaR e CVaR </h3>"
   ]
  },
  {
   "cell_type": "markdown",
   "id": "76220040",
   "metadata": {},
   "source": [
    "<p> Aqui a ideia é entender o risco como o quanto você aceita perder. Muito simples não? Suponha que você vai fazer um investimento de $1000$ reais. Seu gerente lhe diz que na carteira $X$ você pode ter um retorno de $300$% no ano e que você pode perder no máximo $900$ reais com chance de $5$%. O VaR é a perda máxima esperada (não confundir com a perda máxima possível), os $900$ reais, e o alfa do VaR é a chance de você perder mais que isso (no exemplo $5$%). Minimizar o VaR significa escolher o melhor conjunto de ativos que, com um mesmo retorno, diminua essa perda máxima esperada. </P>\n",
    "\n",
    "<p> Como já mencionei, o VaR falha na subaditividade. E pior, falha numa propriedade que a galera da otimização adora (eu também!), a convexidade. Felizmente, temos uma medida que, além de ser convexa, é coerente. O Valor em risco condicional (CVaR) examina as perdas que excedem o limite do Valor em Risco (VaR). No exemplo que demos da carteira $X$, isso significa analisar as perdas para 5%, 4%,... de chance e tirar uma média disso. O VaR e o CVaR estão intimamente relacionados e, ao minimizar o CVaR, também levará a uma redução do VaR da carteira. A figura abaixo expressa uma curva normal com as perdas esperadas do Var e CVaR e as probabilidades esperadas. </p>"
   ]
  },
  {
   "cell_type": "markdown",
   "id": "ad5cba81",
   "metadata": {},
   "source": [
    "<ol>\n",
    "<li>O VaR tenta resumir em um único número ($\\alpha$), a perda máxima esperada dentro de um certo prazo com um certo grau de confiança estatística: $$VaR_{1-\\alpha}(X):=inf\\left \\{t\\in \\mathbb{R} : Pr(X\\leqslant  t)\\geqslant 1-\\alpha\\right \\}, \\alpha\\in [0,1]$$ </li>\n",
    "<li>O CVaR pode ser definido como a esperança condicional de perdas das carteiras superiores ao VaR: \n",
    " $$CVaR_{1-\\alpha}(X):=inf\\left (t+\\frac{1}{\\alpha}E[X-t]_{+} \\right ), \\alpha\\in (0,1]$$ $$CVaR_{1-\\alpha}(X)=\\frac{1}{\\alpha}\\int_{0}^{\\alpha}VaR_{1-t}(X)dt,$$ onde $[c]_{+}=max(0,c).$</li>"
   ]
  },
  {
   "cell_type": "markdown",
   "id": "b1144587",
   "metadata": {},
   "source": [
    "<img src=\"https://media-exp1.licdn.com/dms/image/C4D12AQFg17zgxgCBUQ/article-inline_image-shrink_1000_1488/0/1559505124297?e=1629936000&v=beta&t=AKHOCeCHUtinkk2eEB_lIlWH-6G1Stb4TC7BQxsvtWk\">"
   ]
  },
  {
   "cell_type": "markdown",
   "id": "cfb383aa",
   "metadata": {},
   "source": [
    "A partir de uma série da manipulações matemáticas, Rockafellar e Uryasev (2000) reescreve o cálculo do CVaR em termos de uma função $F_{\\beta}$, dada por\n",
    "$$F_{\\beta}(x,\\alpha)=\\alpha+(1-\\beta)^{-1}\\int_{y\\in \\mathbb{R}^{m}}[f(x,y)-\\alpha]p(y)dy,$$ onde $p(y)$ é a função densidade de probabilidade de variáveis de mercado; $\\beta$ é o nível de probabilidade a ser escolhido; e $f(x,y)$ é uma função de perda associada à carteira $x$ e a variáveis de mercado $y$.\n",
    "\n",
    "Para o caso de valores discretos, a equação acima pode ser reescrita como:\n",
    "$$F_{\\beta}(x,\\alpha)=\\alpha+\\frac{1}{n(1-\\beta)}\\sum_{k=1}^{n}[f(x,y)-\\alpha]_{+}$$"
   ]
  },
  {
   "cell_type": "markdown",
   "id": "029e7c9b",
   "metadata": {},
   "source": [
    "Dessa maneira, Rockafellar e Uryasev (2000) usa a função $F_{\\beta}$ linear para definir a forma para a otimização de uma carteira de ações utilizando o CVaR como medida de risco:\n",
    "$$\\begin{align*}\n",
    " Min\\;\\; \\alpha+\\frac{1}{n(1-\\beta)}\\sum_{k=1}^{n}[-w_{i}R_{i}-\\alpha]_{+}\n",
    " \\\\ \n",
    " S.a\\;\\; \\sum_{k=1}^{n}w_{i}=1 \\\\ \n",
    " 0\\leqslant w_{i}\\leq 1 ,\n",
    "\\end{align*}$$\n",
    "one $n$ é o tamanho da amostra e $w_{i}$ a proporção de cada ativo na carteira."
   ]
  },
  {
   "cell_type": "code",
   "execution_count": 84,
   "id": "chemical-consortium",
   "metadata": {},
   "outputs": [
    {
     "data": {
      "application/vnd.jupyter.widget-view+json": {
       "model_id": "6b4efc24c5e04f10b4a7bd45e83beb90",
       "version_major": 2,
       "version_minor": 0
      },
      "text/plain": [
       "  0%|          | 0/50 [00:00<?, ?it/s]"
      ]
     },
     "metadata": {},
     "output_type": "display_data"
    },
    {
     "name": "stderr",
     "output_type": "stream",
     "text": [
      "C:\\Users\\bruno\\AppData\\Local\\Temp\\ipykernel_99840\\3320541556.py:26: DeprecationWarning:\n",
      "\n",
      "`method='revised simplex'` is deprecated and will be removed in SciPy 1.11.0. Please use one of the HiGHS solvers (e.g. `method='highs'`) in new code.\n",
      "\n"
     ]
    }
   ],
   "source": [
    "N = ExpR.shape[1] #número de ativos\n",
    "\n",
    "nS = Returns.shape[0] #número de cenários\n",
    "V0 = 1 #Initial wealth\n",
    "a = 0.95 #Confidence level\n",
    "h = 21 #Número de day trades por mês\n",
    "meanR = np.linspace(np.min(ExpR),np.max(ExpR),50)\n",
    "#Allocation for linprog output\n",
    "linMap = np.zeros((nS+N+1,len(meanR)))\n",
    "f = np.vstack((np.zeros((N,1)),1,1/((1-a)*nS)*np.ones((nS,1))))\n",
    "#Coeficientes da restrição de desigualdade\n",
    "w = np.ones((nS,N)) - Returns\n",
    "v = -np.ones((nS,1))\n",
    "y = -np.eye(nS)\n",
    "A = np.hstack([w,v,y])\n",
    "b = np.zeros((nS,1))\n",
    "#Restrições do coeficiente de igualdade\n",
    "Aeq = np.vstack([np.hstack([ExpR,np.array([0]).reshape(-1,1),np.zeros((1,nS))]),np.hstack([np.ones((1,N)),np.array([0]).reshape(-1,1),np.zeros((1,nS))])])\n",
    "#Restrições de fronteira\n",
    "lb = np.zeros((1,nS+N+1))\n",
    "ub = np.full((1,nS+N+1), np.inf)\n",
    "bounds = np.vstack([lb,ub]).transpose()\n",
    "    \n",
    "for i in tqdm(range(len(meanR))):\n",
    "    beq = np.vstack([meanR[i]*V0,V0])\n",
    "    linMap[:,i] = linprog(f,A,b,Aeq,beq,bounds, method='revised simplex')['x']          \n",
    "VaR = linMap[N,:]\n",
    "CVaR = sum(linMap[N+1::,:])/((1-a)*nS) + linMap[N,:]\n",
    "w = linMap[0:ExpR.shape[1],np.argmin(CVaR)::]\n",
    "meanR = 100*(meanR-1)*h\n",
    "VaR = 100*VaR*np.sqrt(h)\n",
    "CVaR = 100*CVaR*np.sqrt(h)\n",
    "\n"
   ]
  },
  {
   "cell_type": "markdown",
   "id": "cdc7160a",
   "metadata": {},
   "source": [
    "Os gráficos abaixo expressam o retorno para cada valor em risco considerado. Devido ao fato da otimização do VaR não ser convexa, a fronteira eficiente da otimização com o VaR tem um comportamento mais \"caótico\" comparada à otimização com o CVaR, que tem um comportamento mais suave."
   ]
  },
  {
   "cell_type": "code",
   "execution_count": 71,
   "id": "middle-handling",
   "metadata": {},
   "outputs": [
    {
     "data": {
      "application/vnd.plotly.v1+json": {
       "config": {
        "plotlyServerURL": "https://plot.ly"
       },
       "data": [
        {
         "type": "scatter",
         "x": [
          5.925670412783404,
          5.316779691738377,
          5.030518951137129,
          4.9030474821912255,
          4.9579232160357725,
          4.938298306646677,
          4.907772883844282,
          4.990004847714383,
          4.971305869168744,
          5.06525998064864,
          4.941016401106105,
          4.994003404694594,
          5.264556843985604,
          5.4919402901777215,
          5.633613230211388,
          5.857198946547221,
          6.201249010415852,
          6.41526496553841,
          6.545719497593162,
          6.666262953489894,
          7.04008877500154,
          7.2154488560090275,
          7.532728279574393,
          7.846140359410711,
          8.272091984725671,
          8.804008454327082,
          9.284419633492988,
          9.938587194715604,
          10.412200041893959,
          10.976945836992495,
          11.36199621312612,
          11.881997533909756,
          12.494040244341978,
          13.098784186883448,
          13.712881429381344,
          14.252254995981746,
          14.998562299140723,
          15.890745994977214,
          16.7484375165528,
          18.017340348895758,
          19.068351643092047,
          19.92251839282217,
          28.968042271902828
         ],
         "y": [
          0.09630899202639487,
          0.36305116782489044,
          0.629793343623386,
          0.8965355194214153,
          1.1632776952199109,
          1.4300198710179401,
          1.6967620468164357,
          1.963504222614465,
          2.2302463984129606,
          2.49698857421099,
          2.7637307500094854,
          3.030472925807981,
          3.2972151016060103,
          3.563957277404506,
          3.830699453202535,
          4.097441629001031,
          4.36418380479906,
          4.630925980597556,
          4.897668156396051,
          5.16441033219408,
          5.431152507992576,
          5.697894683790605,
          5.964636859589101,
          6.23137903538713,
          6.498121211185626,
          6.764863386983655,
          7.0316055627821505,
          7.298347738580646,
          7.565089914378675,
          7.831832090177171,
          8.0985742659752,
          8.365316441773697,
          8.632058617571726,
          8.89880079337022,
          9.165542969168715,
          9.432285144966745,
          9.699027320765241,
          9.96576949656327,
          10.232511672361767,
          10.499253848159796,
          10.76599602395829,
          11.03273819975632,
          11.299480375554815
         ]
        }
       ],
       "layout": {
        "template": {
         "data": {
          "bar": [
           {
            "error_x": {
             "color": "#2a3f5f"
            },
            "error_y": {
             "color": "#2a3f5f"
            },
            "marker": {
             "line": {
              "color": "#E5ECF6",
              "width": 0.5
             },
             "pattern": {
              "fillmode": "overlay",
              "size": 10,
              "solidity": 0.2
             }
            },
            "type": "bar"
           }
          ],
          "barpolar": [
           {
            "marker": {
             "line": {
              "color": "#E5ECF6",
              "width": 0.5
             },
             "pattern": {
              "fillmode": "overlay",
              "size": 10,
              "solidity": 0.2
             }
            },
            "type": "barpolar"
           }
          ],
          "carpet": [
           {
            "aaxis": {
             "endlinecolor": "#2a3f5f",
             "gridcolor": "white",
             "linecolor": "white",
             "minorgridcolor": "white",
             "startlinecolor": "#2a3f5f"
            },
            "baxis": {
             "endlinecolor": "#2a3f5f",
             "gridcolor": "white",
             "linecolor": "white",
             "minorgridcolor": "white",
             "startlinecolor": "#2a3f5f"
            },
            "type": "carpet"
           }
          ],
          "choropleth": [
           {
            "colorbar": {
             "outlinewidth": 0,
             "ticks": ""
            },
            "type": "choropleth"
           }
          ],
          "contour": [
           {
            "colorbar": {
             "outlinewidth": 0,
             "ticks": ""
            },
            "colorscale": [
             [
              0,
              "#0d0887"
             ],
             [
              0.1111111111111111,
              "#46039f"
             ],
             [
              0.2222222222222222,
              "#7201a8"
             ],
             [
              0.3333333333333333,
              "#9c179e"
             ],
             [
              0.4444444444444444,
              "#bd3786"
             ],
             [
              0.5555555555555556,
              "#d8576b"
             ],
             [
              0.6666666666666666,
              "#ed7953"
             ],
             [
              0.7777777777777778,
              "#fb9f3a"
             ],
             [
              0.8888888888888888,
              "#fdca26"
             ],
             [
              1,
              "#f0f921"
             ]
            ],
            "type": "contour"
           }
          ],
          "contourcarpet": [
           {
            "colorbar": {
             "outlinewidth": 0,
             "ticks": ""
            },
            "type": "contourcarpet"
           }
          ],
          "heatmap": [
           {
            "colorbar": {
             "outlinewidth": 0,
             "ticks": ""
            },
            "colorscale": [
             [
              0,
              "#0d0887"
             ],
             [
              0.1111111111111111,
              "#46039f"
             ],
             [
              0.2222222222222222,
              "#7201a8"
             ],
             [
              0.3333333333333333,
              "#9c179e"
             ],
             [
              0.4444444444444444,
              "#bd3786"
             ],
             [
              0.5555555555555556,
              "#d8576b"
             ],
             [
              0.6666666666666666,
              "#ed7953"
             ],
             [
              0.7777777777777778,
              "#fb9f3a"
             ],
             [
              0.8888888888888888,
              "#fdca26"
             ],
             [
              1,
              "#f0f921"
             ]
            ],
            "type": "heatmap"
           }
          ],
          "heatmapgl": [
           {
            "colorbar": {
             "outlinewidth": 0,
             "ticks": ""
            },
            "colorscale": [
             [
              0,
              "#0d0887"
             ],
             [
              0.1111111111111111,
              "#46039f"
             ],
             [
              0.2222222222222222,
              "#7201a8"
             ],
             [
              0.3333333333333333,
              "#9c179e"
             ],
             [
              0.4444444444444444,
              "#bd3786"
             ],
             [
              0.5555555555555556,
              "#d8576b"
             ],
             [
              0.6666666666666666,
              "#ed7953"
             ],
             [
              0.7777777777777778,
              "#fb9f3a"
             ],
             [
              0.8888888888888888,
              "#fdca26"
             ],
             [
              1,
              "#f0f921"
             ]
            ],
            "type": "heatmapgl"
           }
          ],
          "histogram": [
           {
            "marker": {
             "pattern": {
              "fillmode": "overlay",
              "size": 10,
              "solidity": 0.2
             }
            },
            "type": "histogram"
           }
          ],
          "histogram2d": [
           {
            "colorbar": {
             "outlinewidth": 0,
             "ticks": ""
            },
            "colorscale": [
             [
              0,
              "#0d0887"
             ],
             [
              0.1111111111111111,
              "#46039f"
             ],
             [
              0.2222222222222222,
              "#7201a8"
             ],
             [
              0.3333333333333333,
              "#9c179e"
             ],
             [
              0.4444444444444444,
              "#bd3786"
             ],
             [
              0.5555555555555556,
              "#d8576b"
             ],
             [
              0.6666666666666666,
              "#ed7953"
             ],
             [
              0.7777777777777778,
              "#fb9f3a"
             ],
             [
              0.8888888888888888,
              "#fdca26"
             ],
             [
              1,
              "#f0f921"
             ]
            ],
            "type": "histogram2d"
           }
          ],
          "histogram2dcontour": [
           {
            "colorbar": {
             "outlinewidth": 0,
             "ticks": ""
            },
            "colorscale": [
             [
              0,
              "#0d0887"
             ],
             [
              0.1111111111111111,
              "#46039f"
             ],
             [
              0.2222222222222222,
              "#7201a8"
             ],
             [
              0.3333333333333333,
              "#9c179e"
             ],
             [
              0.4444444444444444,
              "#bd3786"
             ],
             [
              0.5555555555555556,
              "#d8576b"
             ],
             [
              0.6666666666666666,
              "#ed7953"
             ],
             [
              0.7777777777777778,
              "#fb9f3a"
             ],
             [
              0.8888888888888888,
              "#fdca26"
             ],
             [
              1,
              "#f0f921"
             ]
            ],
            "type": "histogram2dcontour"
           }
          ],
          "mesh3d": [
           {
            "colorbar": {
             "outlinewidth": 0,
             "ticks": ""
            },
            "type": "mesh3d"
           }
          ],
          "parcoords": [
           {
            "line": {
             "colorbar": {
              "outlinewidth": 0,
              "ticks": ""
             }
            },
            "type": "parcoords"
           }
          ],
          "pie": [
           {
            "automargin": true,
            "type": "pie"
           }
          ],
          "scatter": [
           {
            "fillpattern": {
             "fillmode": "overlay",
             "size": 10,
             "solidity": 0.2
            },
            "type": "scatter"
           }
          ],
          "scatter3d": [
           {
            "line": {
             "colorbar": {
              "outlinewidth": 0,
              "ticks": ""
             }
            },
            "marker": {
             "colorbar": {
              "outlinewidth": 0,
              "ticks": ""
             }
            },
            "type": "scatter3d"
           }
          ],
          "scattercarpet": [
           {
            "marker": {
             "colorbar": {
              "outlinewidth": 0,
              "ticks": ""
             }
            },
            "type": "scattercarpet"
           }
          ],
          "scattergeo": [
           {
            "marker": {
             "colorbar": {
              "outlinewidth": 0,
              "ticks": ""
             }
            },
            "type": "scattergeo"
           }
          ],
          "scattergl": [
           {
            "marker": {
             "colorbar": {
              "outlinewidth": 0,
              "ticks": ""
             }
            },
            "type": "scattergl"
           }
          ],
          "scattermapbox": [
           {
            "marker": {
             "colorbar": {
              "outlinewidth": 0,
              "ticks": ""
             }
            },
            "type": "scattermapbox"
           }
          ],
          "scatterpolar": [
           {
            "marker": {
             "colorbar": {
              "outlinewidth": 0,
              "ticks": ""
             }
            },
            "type": "scatterpolar"
           }
          ],
          "scatterpolargl": [
           {
            "marker": {
             "colorbar": {
              "outlinewidth": 0,
              "ticks": ""
             }
            },
            "type": "scatterpolargl"
           }
          ],
          "scatterternary": [
           {
            "marker": {
             "colorbar": {
              "outlinewidth": 0,
              "ticks": ""
             }
            },
            "type": "scatterternary"
           }
          ],
          "surface": [
           {
            "colorbar": {
             "outlinewidth": 0,
             "ticks": ""
            },
            "colorscale": [
             [
              0,
              "#0d0887"
             ],
             [
              0.1111111111111111,
              "#46039f"
             ],
             [
              0.2222222222222222,
              "#7201a8"
             ],
             [
              0.3333333333333333,
              "#9c179e"
             ],
             [
              0.4444444444444444,
              "#bd3786"
             ],
             [
              0.5555555555555556,
              "#d8576b"
             ],
             [
              0.6666666666666666,
              "#ed7953"
             ],
             [
              0.7777777777777778,
              "#fb9f3a"
             ],
             [
              0.8888888888888888,
              "#fdca26"
             ],
             [
              1,
              "#f0f921"
             ]
            ],
            "type": "surface"
           }
          ],
          "table": [
           {
            "cells": {
             "fill": {
              "color": "#EBF0F8"
             },
             "line": {
              "color": "white"
             }
            },
            "header": {
             "fill": {
              "color": "#C8D4E3"
             },
             "line": {
              "color": "white"
             }
            },
            "type": "table"
           }
          ]
         },
         "layout": {
          "annotationdefaults": {
           "arrowcolor": "#2a3f5f",
           "arrowhead": 0,
           "arrowwidth": 1
          },
          "autotypenumbers": "strict",
          "coloraxis": {
           "colorbar": {
            "outlinewidth": 0,
            "ticks": ""
           }
          },
          "colorscale": {
           "diverging": [
            [
             0,
             "#8e0152"
            ],
            [
             0.1,
             "#c51b7d"
            ],
            [
             0.2,
             "#de77ae"
            ],
            [
             0.3,
             "#f1b6da"
            ],
            [
             0.4,
             "#fde0ef"
            ],
            [
             0.5,
             "#f7f7f7"
            ],
            [
             0.6,
             "#e6f5d0"
            ],
            [
             0.7,
             "#b8e186"
            ],
            [
             0.8,
             "#7fbc41"
            ],
            [
             0.9,
             "#4d9221"
            ],
            [
             1,
             "#276419"
            ]
           ],
           "sequential": [
            [
             0,
             "#0d0887"
            ],
            [
             0.1111111111111111,
             "#46039f"
            ],
            [
             0.2222222222222222,
             "#7201a8"
            ],
            [
             0.3333333333333333,
             "#9c179e"
            ],
            [
             0.4444444444444444,
             "#bd3786"
            ],
            [
             0.5555555555555556,
             "#d8576b"
            ],
            [
             0.6666666666666666,
             "#ed7953"
            ],
            [
             0.7777777777777778,
             "#fb9f3a"
            ],
            [
             0.8888888888888888,
             "#fdca26"
            ],
            [
             1,
             "#f0f921"
            ]
           ],
           "sequentialminus": [
            [
             0,
             "#0d0887"
            ],
            [
             0.1111111111111111,
             "#46039f"
            ],
            [
             0.2222222222222222,
             "#7201a8"
            ],
            [
             0.3333333333333333,
             "#9c179e"
            ],
            [
             0.4444444444444444,
             "#bd3786"
            ],
            [
             0.5555555555555556,
             "#d8576b"
            ],
            [
             0.6666666666666666,
             "#ed7953"
            ],
            [
             0.7777777777777778,
             "#fb9f3a"
            ],
            [
             0.8888888888888888,
             "#fdca26"
            ],
            [
             1,
             "#f0f921"
            ]
           ]
          },
          "colorway": [
           "#636efa",
           "#EF553B",
           "#00cc96",
           "#ab63fa",
           "#FFA15A",
           "#19d3f3",
           "#FF6692",
           "#B6E880",
           "#FF97FF",
           "#FECB52"
          ],
          "font": {
           "color": "#2a3f5f"
          },
          "geo": {
           "bgcolor": "white",
           "lakecolor": "white",
           "landcolor": "#E5ECF6",
           "showlakes": true,
           "showland": true,
           "subunitcolor": "white"
          },
          "hoverlabel": {
           "align": "left"
          },
          "hovermode": "closest",
          "mapbox": {
           "style": "light"
          },
          "paper_bgcolor": "white",
          "plot_bgcolor": "#E5ECF6",
          "polar": {
           "angularaxis": {
            "gridcolor": "white",
            "linecolor": "white",
            "ticks": ""
           },
           "bgcolor": "#E5ECF6",
           "radialaxis": {
            "gridcolor": "white",
            "linecolor": "white",
            "ticks": ""
           }
          },
          "scene": {
           "xaxis": {
            "backgroundcolor": "#E5ECF6",
            "gridcolor": "white",
            "gridwidth": 2,
            "linecolor": "white",
            "showbackground": true,
            "ticks": "",
            "zerolinecolor": "white"
           },
           "yaxis": {
            "backgroundcolor": "#E5ECF6",
            "gridcolor": "white",
            "gridwidth": 2,
            "linecolor": "white",
            "showbackground": true,
            "ticks": "",
            "zerolinecolor": "white"
           },
           "zaxis": {
            "backgroundcolor": "#E5ECF6",
            "gridcolor": "white",
            "gridwidth": 2,
            "linecolor": "white",
            "showbackground": true,
            "ticks": "",
            "zerolinecolor": "white"
           }
          },
          "shapedefaults": {
           "line": {
            "color": "#2a3f5f"
           }
          },
          "ternary": {
           "aaxis": {
            "gridcolor": "white",
            "linecolor": "white",
            "ticks": ""
           },
           "baxis": {
            "gridcolor": "white",
            "linecolor": "white",
            "ticks": ""
           },
           "bgcolor": "#E5ECF6",
           "caxis": {
            "gridcolor": "white",
            "linecolor": "white",
            "ticks": ""
           }
          },
          "title": {
           "x": 0.05
          },
          "xaxis": {
           "automargin": true,
           "gridcolor": "white",
           "linecolor": "white",
           "ticks": "",
           "title": {
            "standoff": 15
           },
           "zerolinecolor": "white",
           "zerolinewidth": 2
          },
          "yaxis": {
           "automargin": true,
           "gridcolor": "white",
           "linecolor": "white",
           "ticks": "",
           "title": {
            "standoff": 15
           },
           "zerolinecolor": "white",
           "zerolinewidth": 2
          }
         }
        },
        "title": {
         "text": "Value at Risk - Fronteira Eficiente"
        },
        "xaxis": {
         "title": {
          "text": "Value at Risk (%)"
         }
        },
        "yaxis": {
         "title": {
          "text": "Retorno Esperado (%)"
         }
        }
       }
      }
     },
     "metadata": {},
     "output_type": "display_data"
    }
   ],
   "source": [
    "fig_1 = go.Figure(data=go.Scatter(x=VaR[meanR>0], y=meanR[meanR>0]))\n",
    "fig_1.update_layout(title='Value at Risk - Fronteira Eficiente', \n",
    "    xaxis_title='Value at Risk (%)',\n",
    "    yaxis_title='Retorno Esperado (%)')\n",
    "fig_1.show()"
   ]
  },
  {
   "cell_type": "code",
   "execution_count": 72,
   "id": "great-gibraltar",
   "metadata": {},
   "outputs": [
    {
     "data": {
      "application/vnd.plotly.v1+json": {
       "config": {
        "plotlyServerURL": "https://plot.ly"
       },
       "data": [
        {
         "type": "scatter",
         "x": [
          10.094913825768883,
          9.351236555054925,
          8.745735329254739,
          8.249062125704071,
          7.876429050154799,
          7.622756042103791,
          7.447675122040149,
          7.360599336339796,
          7.351058873349203,
          7.388319124159984,
          7.446958067935446,
          7.575897597700749,
          7.742530438562508,
          7.9340496368332465,
          8.148399131800495,
          8.400774806132183,
          8.682406069215318,
          9.018281828127352,
          9.391489272296505,
          9.808655820537185,
          10.277010575062153,
          10.798708683020697,
          11.37612637112557,
          11.994080033556765,
          12.67248013959248,
          13.37227132824036,
          14.086038683801306,
          14.81826288053827,
          15.589137276490597,
          16.375817849314124,
          17.181536973411315,
          18.015217334060914,
          18.869444541681183,
          19.737292360745183,
          20.697690811563117,
          21.774925306659224,
          22.90010514652108,
          24.050646224433333,
          25.243374175540428,
          26.468408633884124,
          27.795978160735114,
          29.463526689963025,
          45.27194384296805
         ],
         "y": [
          0.09630899202639487,
          0.36305116782489044,
          0.629793343623386,
          0.8965355194214153,
          1.1632776952199109,
          1.4300198710179401,
          1.6967620468164357,
          1.963504222614465,
          2.2302463984129606,
          2.49698857421099,
          2.7637307500094854,
          3.030472925807981,
          3.2972151016060103,
          3.563957277404506,
          3.830699453202535,
          4.097441629001031,
          4.36418380479906,
          4.630925980597556,
          4.897668156396051,
          5.16441033219408,
          5.431152507992576,
          5.697894683790605,
          5.964636859589101,
          6.23137903538713,
          6.498121211185626,
          6.764863386983655,
          7.0316055627821505,
          7.298347738580646,
          7.565089914378675,
          7.831832090177171,
          8.0985742659752,
          8.365316441773697,
          8.632058617571726,
          8.89880079337022,
          9.165542969168715,
          9.432285144966745,
          9.699027320765241,
          9.96576949656327,
          10.232511672361767,
          10.499253848159796,
          10.76599602395829,
          11.03273819975632,
          11.299480375554815
         ]
        }
       ],
       "layout": {
        "template": {
         "data": {
          "bar": [
           {
            "error_x": {
             "color": "#2a3f5f"
            },
            "error_y": {
             "color": "#2a3f5f"
            },
            "marker": {
             "line": {
              "color": "#E5ECF6",
              "width": 0.5
             },
             "pattern": {
              "fillmode": "overlay",
              "size": 10,
              "solidity": 0.2
             }
            },
            "type": "bar"
           }
          ],
          "barpolar": [
           {
            "marker": {
             "line": {
              "color": "#E5ECF6",
              "width": 0.5
             },
             "pattern": {
              "fillmode": "overlay",
              "size": 10,
              "solidity": 0.2
             }
            },
            "type": "barpolar"
           }
          ],
          "carpet": [
           {
            "aaxis": {
             "endlinecolor": "#2a3f5f",
             "gridcolor": "white",
             "linecolor": "white",
             "minorgridcolor": "white",
             "startlinecolor": "#2a3f5f"
            },
            "baxis": {
             "endlinecolor": "#2a3f5f",
             "gridcolor": "white",
             "linecolor": "white",
             "minorgridcolor": "white",
             "startlinecolor": "#2a3f5f"
            },
            "type": "carpet"
           }
          ],
          "choropleth": [
           {
            "colorbar": {
             "outlinewidth": 0,
             "ticks": ""
            },
            "type": "choropleth"
           }
          ],
          "contour": [
           {
            "colorbar": {
             "outlinewidth": 0,
             "ticks": ""
            },
            "colorscale": [
             [
              0,
              "#0d0887"
             ],
             [
              0.1111111111111111,
              "#46039f"
             ],
             [
              0.2222222222222222,
              "#7201a8"
             ],
             [
              0.3333333333333333,
              "#9c179e"
             ],
             [
              0.4444444444444444,
              "#bd3786"
             ],
             [
              0.5555555555555556,
              "#d8576b"
             ],
             [
              0.6666666666666666,
              "#ed7953"
             ],
             [
              0.7777777777777778,
              "#fb9f3a"
             ],
             [
              0.8888888888888888,
              "#fdca26"
             ],
             [
              1,
              "#f0f921"
             ]
            ],
            "type": "contour"
           }
          ],
          "contourcarpet": [
           {
            "colorbar": {
             "outlinewidth": 0,
             "ticks": ""
            },
            "type": "contourcarpet"
           }
          ],
          "heatmap": [
           {
            "colorbar": {
             "outlinewidth": 0,
             "ticks": ""
            },
            "colorscale": [
             [
              0,
              "#0d0887"
             ],
             [
              0.1111111111111111,
              "#46039f"
             ],
             [
              0.2222222222222222,
              "#7201a8"
             ],
             [
              0.3333333333333333,
              "#9c179e"
             ],
             [
              0.4444444444444444,
              "#bd3786"
             ],
             [
              0.5555555555555556,
              "#d8576b"
             ],
             [
              0.6666666666666666,
              "#ed7953"
             ],
             [
              0.7777777777777778,
              "#fb9f3a"
             ],
             [
              0.8888888888888888,
              "#fdca26"
             ],
             [
              1,
              "#f0f921"
             ]
            ],
            "type": "heatmap"
           }
          ],
          "heatmapgl": [
           {
            "colorbar": {
             "outlinewidth": 0,
             "ticks": ""
            },
            "colorscale": [
             [
              0,
              "#0d0887"
             ],
             [
              0.1111111111111111,
              "#46039f"
             ],
             [
              0.2222222222222222,
              "#7201a8"
             ],
             [
              0.3333333333333333,
              "#9c179e"
             ],
             [
              0.4444444444444444,
              "#bd3786"
             ],
             [
              0.5555555555555556,
              "#d8576b"
             ],
             [
              0.6666666666666666,
              "#ed7953"
             ],
             [
              0.7777777777777778,
              "#fb9f3a"
             ],
             [
              0.8888888888888888,
              "#fdca26"
             ],
             [
              1,
              "#f0f921"
             ]
            ],
            "type": "heatmapgl"
           }
          ],
          "histogram": [
           {
            "marker": {
             "pattern": {
              "fillmode": "overlay",
              "size": 10,
              "solidity": 0.2
             }
            },
            "type": "histogram"
           }
          ],
          "histogram2d": [
           {
            "colorbar": {
             "outlinewidth": 0,
             "ticks": ""
            },
            "colorscale": [
             [
              0,
              "#0d0887"
             ],
             [
              0.1111111111111111,
              "#46039f"
             ],
             [
              0.2222222222222222,
              "#7201a8"
             ],
             [
              0.3333333333333333,
              "#9c179e"
             ],
             [
              0.4444444444444444,
              "#bd3786"
             ],
             [
              0.5555555555555556,
              "#d8576b"
             ],
             [
              0.6666666666666666,
              "#ed7953"
             ],
             [
              0.7777777777777778,
              "#fb9f3a"
             ],
             [
              0.8888888888888888,
              "#fdca26"
             ],
             [
              1,
              "#f0f921"
             ]
            ],
            "type": "histogram2d"
           }
          ],
          "histogram2dcontour": [
           {
            "colorbar": {
             "outlinewidth": 0,
             "ticks": ""
            },
            "colorscale": [
             [
              0,
              "#0d0887"
             ],
             [
              0.1111111111111111,
              "#46039f"
             ],
             [
              0.2222222222222222,
              "#7201a8"
             ],
             [
              0.3333333333333333,
              "#9c179e"
             ],
             [
              0.4444444444444444,
              "#bd3786"
             ],
             [
              0.5555555555555556,
              "#d8576b"
             ],
             [
              0.6666666666666666,
              "#ed7953"
             ],
             [
              0.7777777777777778,
              "#fb9f3a"
             ],
             [
              0.8888888888888888,
              "#fdca26"
             ],
             [
              1,
              "#f0f921"
             ]
            ],
            "type": "histogram2dcontour"
           }
          ],
          "mesh3d": [
           {
            "colorbar": {
             "outlinewidth": 0,
             "ticks": ""
            },
            "type": "mesh3d"
           }
          ],
          "parcoords": [
           {
            "line": {
             "colorbar": {
              "outlinewidth": 0,
              "ticks": ""
             }
            },
            "type": "parcoords"
           }
          ],
          "pie": [
           {
            "automargin": true,
            "type": "pie"
           }
          ],
          "scatter": [
           {
            "fillpattern": {
             "fillmode": "overlay",
             "size": 10,
             "solidity": 0.2
            },
            "type": "scatter"
           }
          ],
          "scatter3d": [
           {
            "line": {
             "colorbar": {
              "outlinewidth": 0,
              "ticks": ""
             }
            },
            "marker": {
             "colorbar": {
              "outlinewidth": 0,
              "ticks": ""
             }
            },
            "type": "scatter3d"
           }
          ],
          "scattercarpet": [
           {
            "marker": {
             "colorbar": {
              "outlinewidth": 0,
              "ticks": ""
             }
            },
            "type": "scattercarpet"
           }
          ],
          "scattergeo": [
           {
            "marker": {
             "colorbar": {
              "outlinewidth": 0,
              "ticks": ""
             }
            },
            "type": "scattergeo"
           }
          ],
          "scattergl": [
           {
            "marker": {
             "colorbar": {
              "outlinewidth": 0,
              "ticks": ""
             }
            },
            "type": "scattergl"
           }
          ],
          "scattermapbox": [
           {
            "marker": {
             "colorbar": {
              "outlinewidth": 0,
              "ticks": ""
             }
            },
            "type": "scattermapbox"
           }
          ],
          "scatterpolar": [
           {
            "marker": {
             "colorbar": {
              "outlinewidth": 0,
              "ticks": ""
             }
            },
            "type": "scatterpolar"
           }
          ],
          "scatterpolargl": [
           {
            "marker": {
             "colorbar": {
              "outlinewidth": 0,
              "ticks": ""
             }
            },
            "type": "scatterpolargl"
           }
          ],
          "scatterternary": [
           {
            "marker": {
             "colorbar": {
              "outlinewidth": 0,
              "ticks": ""
             }
            },
            "type": "scatterternary"
           }
          ],
          "surface": [
           {
            "colorbar": {
             "outlinewidth": 0,
             "ticks": ""
            },
            "colorscale": [
             [
              0,
              "#0d0887"
             ],
             [
              0.1111111111111111,
              "#46039f"
             ],
             [
              0.2222222222222222,
              "#7201a8"
             ],
             [
              0.3333333333333333,
              "#9c179e"
             ],
             [
              0.4444444444444444,
              "#bd3786"
             ],
             [
              0.5555555555555556,
              "#d8576b"
             ],
             [
              0.6666666666666666,
              "#ed7953"
             ],
             [
              0.7777777777777778,
              "#fb9f3a"
             ],
             [
              0.8888888888888888,
              "#fdca26"
             ],
             [
              1,
              "#f0f921"
             ]
            ],
            "type": "surface"
           }
          ],
          "table": [
           {
            "cells": {
             "fill": {
              "color": "#EBF0F8"
             },
             "line": {
              "color": "white"
             }
            },
            "header": {
             "fill": {
              "color": "#C8D4E3"
             },
             "line": {
              "color": "white"
             }
            },
            "type": "table"
           }
          ]
         },
         "layout": {
          "annotationdefaults": {
           "arrowcolor": "#2a3f5f",
           "arrowhead": 0,
           "arrowwidth": 1
          },
          "autotypenumbers": "strict",
          "coloraxis": {
           "colorbar": {
            "outlinewidth": 0,
            "ticks": ""
           }
          },
          "colorscale": {
           "diverging": [
            [
             0,
             "#8e0152"
            ],
            [
             0.1,
             "#c51b7d"
            ],
            [
             0.2,
             "#de77ae"
            ],
            [
             0.3,
             "#f1b6da"
            ],
            [
             0.4,
             "#fde0ef"
            ],
            [
             0.5,
             "#f7f7f7"
            ],
            [
             0.6,
             "#e6f5d0"
            ],
            [
             0.7,
             "#b8e186"
            ],
            [
             0.8,
             "#7fbc41"
            ],
            [
             0.9,
             "#4d9221"
            ],
            [
             1,
             "#276419"
            ]
           ],
           "sequential": [
            [
             0,
             "#0d0887"
            ],
            [
             0.1111111111111111,
             "#46039f"
            ],
            [
             0.2222222222222222,
             "#7201a8"
            ],
            [
             0.3333333333333333,
             "#9c179e"
            ],
            [
             0.4444444444444444,
             "#bd3786"
            ],
            [
             0.5555555555555556,
             "#d8576b"
            ],
            [
             0.6666666666666666,
             "#ed7953"
            ],
            [
             0.7777777777777778,
             "#fb9f3a"
            ],
            [
             0.8888888888888888,
             "#fdca26"
            ],
            [
             1,
             "#f0f921"
            ]
           ],
           "sequentialminus": [
            [
             0,
             "#0d0887"
            ],
            [
             0.1111111111111111,
             "#46039f"
            ],
            [
             0.2222222222222222,
             "#7201a8"
            ],
            [
             0.3333333333333333,
             "#9c179e"
            ],
            [
             0.4444444444444444,
             "#bd3786"
            ],
            [
             0.5555555555555556,
             "#d8576b"
            ],
            [
             0.6666666666666666,
             "#ed7953"
            ],
            [
             0.7777777777777778,
             "#fb9f3a"
            ],
            [
             0.8888888888888888,
             "#fdca26"
            ],
            [
             1,
             "#f0f921"
            ]
           ]
          },
          "colorway": [
           "#636efa",
           "#EF553B",
           "#00cc96",
           "#ab63fa",
           "#FFA15A",
           "#19d3f3",
           "#FF6692",
           "#B6E880",
           "#FF97FF",
           "#FECB52"
          ],
          "font": {
           "color": "#2a3f5f"
          },
          "geo": {
           "bgcolor": "white",
           "lakecolor": "white",
           "landcolor": "#E5ECF6",
           "showlakes": true,
           "showland": true,
           "subunitcolor": "white"
          },
          "hoverlabel": {
           "align": "left"
          },
          "hovermode": "closest",
          "mapbox": {
           "style": "light"
          },
          "paper_bgcolor": "white",
          "plot_bgcolor": "#E5ECF6",
          "polar": {
           "angularaxis": {
            "gridcolor": "white",
            "linecolor": "white",
            "ticks": ""
           },
           "bgcolor": "#E5ECF6",
           "radialaxis": {
            "gridcolor": "white",
            "linecolor": "white",
            "ticks": ""
           }
          },
          "scene": {
           "xaxis": {
            "backgroundcolor": "#E5ECF6",
            "gridcolor": "white",
            "gridwidth": 2,
            "linecolor": "white",
            "showbackground": true,
            "ticks": "",
            "zerolinecolor": "white"
           },
           "yaxis": {
            "backgroundcolor": "#E5ECF6",
            "gridcolor": "white",
            "gridwidth": 2,
            "linecolor": "white",
            "showbackground": true,
            "ticks": "",
            "zerolinecolor": "white"
           },
           "zaxis": {
            "backgroundcolor": "#E5ECF6",
            "gridcolor": "white",
            "gridwidth": 2,
            "linecolor": "white",
            "showbackground": true,
            "ticks": "",
            "zerolinecolor": "white"
           }
          },
          "shapedefaults": {
           "line": {
            "color": "#2a3f5f"
           }
          },
          "ternary": {
           "aaxis": {
            "gridcolor": "white",
            "linecolor": "white",
            "ticks": ""
           },
           "baxis": {
            "gridcolor": "white",
            "linecolor": "white",
            "ticks": ""
           },
           "bgcolor": "#E5ECF6",
           "caxis": {
            "gridcolor": "white",
            "linecolor": "white",
            "ticks": ""
           }
          },
          "title": {
           "x": 0.05
          },
          "xaxis": {
           "automargin": true,
           "gridcolor": "white",
           "linecolor": "white",
           "ticks": "",
           "title": {
            "standoff": 15
           },
           "zerolinecolor": "white",
           "zerolinewidth": 2
          },
          "yaxis": {
           "automargin": true,
           "gridcolor": "white",
           "linecolor": "white",
           "ticks": "",
           "title": {
            "standoff": 15
           },
           "zerolinecolor": "white",
           "zerolinewidth": 2
          }
         }
        },
        "title": {
         "text": "Conditional Value at Risk - Fronteira Eficiente"
        },
        "xaxis": {
         "title": {
          "text": "Conditional Value at Risk (%)"
         }
        },
        "yaxis": {
         "title": {
          "text": "Retorno Esperado (%)"
         }
        }
       }
      }
     },
     "metadata": {},
     "output_type": "display_data"
    }
   ],
   "source": [
    "fig_2 = go.Figure(data=go.Scatter(x=CVaR[meanR>0], y=meanR[meanR>0]))\n",
    "fig_2.update_layout(title='Conditional Value at Risk - Fronteira Eficiente', \n",
    "                    xaxis_title='Conditional Value at Risk (%)',\n",
    "                    yaxis_title='Retorno Esperado (%)')\n",
    "fig_2.show()"
   ]
  },
  {
   "cell_type": "markdown",
   "id": "d25b39c3",
   "metadata": {},
   "source": [
    "O gráfico de área abaixo expressa a proporção de ativos na carteira para cada valor em risco considerado."
   ]
  },
  {
   "cell_type": "code",
   "execution_count": 73,
   "id": "veterinary-rough",
   "metadata": {},
   "outputs": [],
   "source": [
    "x=CVaR[np.argmin(CVaR)::]\n",
    "y = 100*w\n",
    "\n",
    "fig_2 = go.Figure()\n",
    "for i in range(len(y)):\n",
    "    fig_2.add_trace(go.Scatter(\n",
    "                    x=x, y=y[i],\n",
    "                    mode='lines',\n",
    "                    line=dict(width=0.5),\n",
    "                    name=stocks[i],\n",
    "                    stackgroup='one'))\n",
    "fig_2.update_layout(title='Distribuição de Ações na carteira - CVAR', \n",
    "                    xaxis_title='Conditional Value at Risk (%)',\n",
    "                    yaxis_title='Distribuição (%)')\n",
    "fig_2.write_html(\"proportional.html\")"
   ]
  },
  {
   "cell_type": "code",
   "execution_count": 74,
   "id": "inclusive-photography",
   "metadata": {},
   "outputs": [],
   "source": [
    "def proportion_CVAR(CVAR_value, CVaR_portfolio, y, stocks):\n",
    "    i = np.argmin(abs(CVaR_portfolio-CVAR_value))\n",
    "    CVAR = {}\n",
    "    for j, stock in zip(range(len(stocks)-1), stocks):\n",
    "        CVAR[stock] = round(y[j][i],2)\n",
    "    CVAR = pd.Series(CVAR)\n",
    "    CVAR = CVAR[CVAR!=0].sort_values()\n",
    "    fig = px.bar(CVAR, y=CVAR.index,x=CVAR, orientation='h')\n",
    "    fig.update_layout(\n",
    "    title='Proporção de ativos na carteira',\n",
    "    xaxis_title='Proporção',\n",
    "    yaxis_title= 'Ações')\n",
    "    fig.write_html(\"stocks.html\")\n",
    "    return CVAR, fig"
   ]
  },
  {
   "cell_type": "markdown",
   "id": "b827bf3c",
   "metadata": {},
   "source": [
    "O resultado final é, para um dado valor em risco, as ações que devo investir e em qual proporção, para o meu portfólio ótimo."
   ]
  },
  {
   "cell_type": "code",
   "execution_count": 75,
   "id": "ab042f5e",
   "metadata": {},
   "outputs": [
    {
     "data": {
      "application/vnd.plotly.v1+json": {
       "config": {
        "plotlyServerURL": "https://plot.ly"
       },
       "data": [
        {
         "alignmentgroup": "True",
         "hovertemplate": "x=%{x}<br>index=%{y}<extra></extra>",
         "legendgroup": "",
         "marker": {
          "color": "#636efa",
          "pattern": {
           "shape": ""
          }
         },
         "name": "",
         "offsetgroup": "",
         "orientation": "h",
         "showlegend": false,
         "textposition": "auto",
         "type": "bar",
         "x": [
          0.27,
          1.13,
          2.59,
          7.87,
          11.7,
          15.34,
          25.1,
          35.99
         ],
         "xaxis": "x",
         "y": [
          "NUTR3.SA",
          "BEES3.SA",
          "VLID3.SA",
          "TEND3.SA",
          "CEAB3.SA",
          "POMO3.SA",
          "CEBR3.SA",
          "MNPR3.SA"
         ],
         "yaxis": "y"
        }
       ],
       "layout": {
        "barmode": "relative",
        "legend": {
         "tracegroupgap": 0
        },
        "margin": {
         "t": 60
        },
        "template": {
         "data": {
          "bar": [
           {
            "error_x": {
             "color": "#2a3f5f"
            },
            "error_y": {
             "color": "#2a3f5f"
            },
            "marker": {
             "line": {
              "color": "#E5ECF6",
              "width": 0.5
             },
             "pattern": {
              "fillmode": "overlay",
              "size": 10,
              "solidity": 0.2
             }
            },
            "type": "bar"
           }
          ],
          "barpolar": [
           {
            "marker": {
             "line": {
              "color": "#E5ECF6",
              "width": 0.5
             },
             "pattern": {
              "fillmode": "overlay",
              "size": 10,
              "solidity": 0.2
             }
            },
            "type": "barpolar"
           }
          ],
          "carpet": [
           {
            "aaxis": {
             "endlinecolor": "#2a3f5f",
             "gridcolor": "white",
             "linecolor": "white",
             "minorgridcolor": "white",
             "startlinecolor": "#2a3f5f"
            },
            "baxis": {
             "endlinecolor": "#2a3f5f",
             "gridcolor": "white",
             "linecolor": "white",
             "minorgridcolor": "white",
             "startlinecolor": "#2a3f5f"
            },
            "type": "carpet"
           }
          ],
          "choropleth": [
           {
            "colorbar": {
             "outlinewidth": 0,
             "ticks": ""
            },
            "type": "choropleth"
           }
          ],
          "contour": [
           {
            "colorbar": {
             "outlinewidth": 0,
             "ticks": ""
            },
            "colorscale": [
             [
              0,
              "#0d0887"
             ],
             [
              0.1111111111111111,
              "#46039f"
             ],
             [
              0.2222222222222222,
              "#7201a8"
             ],
             [
              0.3333333333333333,
              "#9c179e"
             ],
             [
              0.4444444444444444,
              "#bd3786"
             ],
             [
              0.5555555555555556,
              "#d8576b"
             ],
             [
              0.6666666666666666,
              "#ed7953"
             ],
             [
              0.7777777777777778,
              "#fb9f3a"
             ],
             [
              0.8888888888888888,
              "#fdca26"
             ],
             [
              1,
              "#f0f921"
             ]
            ],
            "type": "contour"
           }
          ],
          "contourcarpet": [
           {
            "colorbar": {
             "outlinewidth": 0,
             "ticks": ""
            },
            "type": "contourcarpet"
           }
          ],
          "heatmap": [
           {
            "colorbar": {
             "outlinewidth": 0,
             "ticks": ""
            },
            "colorscale": [
             [
              0,
              "#0d0887"
             ],
             [
              0.1111111111111111,
              "#46039f"
             ],
             [
              0.2222222222222222,
              "#7201a8"
             ],
             [
              0.3333333333333333,
              "#9c179e"
             ],
             [
              0.4444444444444444,
              "#bd3786"
             ],
             [
              0.5555555555555556,
              "#d8576b"
             ],
             [
              0.6666666666666666,
              "#ed7953"
             ],
             [
              0.7777777777777778,
              "#fb9f3a"
             ],
             [
              0.8888888888888888,
              "#fdca26"
             ],
             [
              1,
              "#f0f921"
             ]
            ],
            "type": "heatmap"
           }
          ],
          "heatmapgl": [
           {
            "colorbar": {
             "outlinewidth": 0,
             "ticks": ""
            },
            "colorscale": [
             [
              0,
              "#0d0887"
             ],
             [
              0.1111111111111111,
              "#46039f"
             ],
             [
              0.2222222222222222,
              "#7201a8"
             ],
             [
              0.3333333333333333,
              "#9c179e"
             ],
             [
              0.4444444444444444,
              "#bd3786"
             ],
             [
              0.5555555555555556,
              "#d8576b"
             ],
             [
              0.6666666666666666,
              "#ed7953"
             ],
             [
              0.7777777777777778,
              "#fb9f3a"
             ],
             [
              0.8888888888888888,
              "#fdca26"
             ],
             [
              1,
              "#f0f921"
             ]
            ],
            "type": "heatmapgl"
           }
          ],
          "histogram": [
           {
            "marker": {
             "pattern": {
              "fillmode": "overlay",
              "size": 10,
              "solidity": 0.2
             }
            },
            "type": "histogram"
           }
          ],
          "histogram2d": [
           {
            "colorbar": {
             "outlinewidth": 0,
             "ticks": ""
            },
            "colorscale": [
             [
              0,
              "#0d0887"
             ],
             [
              0.1111111111111111,
              "#46039f"
             ],
             [
              0.2222222222222222,
              "#7201a8"
             ],
             [
              0.3333333333333333,
              "#9c179e"
             ],
             [
              0.4444444444444444,
              "#bd3786"
             ],
             [
              0.5555555555555556,
              "#d8576b"
             ],
             [
              0.6666666666666666,
              "#ed7953"
             ],
             [
              0.7777777777777778,
              "#fb9f3a"
             ],
             [
              0.8888888888888888,
              "#fdca26"
             ],
             [
              1,
              "#f0f921"
             ]
            ],
            "type": "histogram2d"
           }
          ],
          "histogram2dcontour": [
           {
            "colorbar": {
             "outlinewidth": 0,
             "ticks": ""
            },
            "colorscale": [
             [
              0,
              "#0d0887"
             ],
             [
              0.1111111111111111,
              "#46039f"
             ],
             [
              0.2222222222222222,
              "#7201a8"
             ],
             [
              0.3333333333333333,
              "#9c179e"
             ],
             [
              0.4444444444444444,
              "#bd3786"
             ],
             [
              0.5555555555555556,
              "#d8576b"
             ],
             [
              0.6666666666666666,
              "#ed7953"
             ],
             [
              0.7777777777777778,
              "#fb9f3a"
             ],
             [
              0.8888888888888888,
              "#fdca26"
             ],
             [
              1,
              "#f0f921"
             ]
            ],
            "type": "histogram2dcontour"
           }
          ],
          "mesh3d": [
           {
            "colorbar": {
             "outlinewidth": 0,
             "ticks": ""
            },
            "type": "mesh3d"
           }
          ],
          "parcoords": [
           {
            "line": {
             "colorbar": {
              "outlinewidth": 0,
              "ticks": ""
             }
            },
            "type": "parcoords"
           }
          ],
          "pie": [
           {
            "automargin": true,
            "type": "pie"
           }
          ],
          "scatter": [
           {
            "fillpattern": {
             "fillmode": "overlay",
             "size": 10,
             "solidity": 0.2
            },
            "type": "scatter"
           }
          ],
          "scatter3d": [
           {
            "line": {
             "colorbar": {
              "outlinewidth": 0,
              "ticks": ""
             }
            },
            "marker": {
             "colorbar": {
              "outlinewidth": 0,
              "ticks": ""
             }
            },
            "type": "scatter3d"
           }
          ],
          "scattercarpet": [
           {
            "marker": {
             "colorbar": {
              "outlinewidth": 0,
              "ticks": ""
             }
            },
            "type": "scattercarpet"
           }
          ],
          "scattergeo": [
           {
            "marker": {
             "colorbar": {
              "outlinewidth": 0,
              "ticks": ""
             }
            },
            "type": "scattergeo"
           }
          ],
          "scattergl": [
           {
            "marker": {
             "colorbar": {
              "outlinewidth": 0,
              "ticks": ""
             }
            },
            "type": "scattergl"
           }
          ],
          "scattermapbox": [
           {
            "marker": {
             "colorbar": {
              "outlinewidth": 0,
              "ticks": ""
             }
            },
            "type": "scattermapbox"
           }
          ],
          "scatterpolar": [
           {
            "marker": {
             "colorbar": {
              "outlinewidth": 0,
              "ticks": ""
             }
            },
            "type": "scatterpolar"
           }
          ],
          "scatterpolargl": [
           {
            "marker": {
             "colorbar": {
              "outlinewidth": 0,
              "ticks": ""
             }
            },
            "type": "scatterpolargl"
           }
          ],
          "scatterternary": [
           {
            "marker": {
             "colorbar": {
              "outlinewidth": 0,
              "ticks": ""
             }
            },
            "type": "scatterternary"
           }
          ],
          "surface": [
           {
            "colorbar": {
             "outlinewidth": 0,
             "ticks": ""
            },
            "colorscale": [
             [
              0,
              "#0d0887"
             ],
             [
              0.1111111111111111,
              "#46039f"
             ],
             [
              0.2222222222222222,
              "#7201a8"
             ],
             [
              0.3333333333333333,
              "#9c179e"
             ],
             [
              0.4444444444444444,
              "#bd3786"
             ],
             [
              0.5555555555555556,
              "#d8576b"
             ],
             [
              0.6666666666666666,
              "#ed7953"
             ],
             [
              0.7777777777777778,
              "#fb9f3a"
             ],
             [
              0.8888888888888888,
              "#fdca26"
             ],
             [
              1,
              "#f0f921"
             ]
            ],
            "type": "surface"
           }
          ],
          "table": [
           {
            "cells": {
             "fill": {
              "color": "#EBF0F8"
             },
             "line": {
              "color": "white"
             }
            },
            "header": {
             "fill": {
              "color": "#C8D4E3"
             },
             "line": {
              "color": "white"
             }
            },
            "type": "table"
           }
          ]
         },
         "layout": {
          "annotationdefaults": {
           "arrowcolor": "#2a3f5f",
           "arrowhead": 0,
           "arrowwidth": 1
          },
          "autotypenumbers": "strict",
          "coloraxis": {
           "colorbar": {
            "outlinewidth": 0,
            "ticks": ""
           }
          },
          "colorscale": {
           "diverging": [
            [
             0,
             "#8e0152"
            ],
            [
             0.1,
             "#c51b7d"
            ],
            [
             0.2,
             "#de77ae"
            ],
            [
             0.3,
             "#f1b6da"
            ],
            [
             0.4,
             "#fde0ef"
            ],
            [
             0.5,
             "#f7f7f7"
            ],
            [
             0.6,
             "#e6f5d0"
            ],
            [
             0.7,
             "#b8e186"
            ],
            [
             0.8,
             "#7fbc41"
            ],
            [
             0.9,
             "#4d9221"
            ],
            [
             1,
             "#276419"
            ]
           ],
           "sequential": [
            [
             0,
             "#0d0887"
            ],
            [
             0.1111111111111111,
             "#46039f"
            ],
            [
             0.2222222222222222,
             "#7201a8"
            ],
            [
             0.3333333333333333,
             "#9c179e"
            ],
            [
             0.4444444444444444,
             "#bd3786"
            ],
            [
             0.5555555555555556,
             "#d8576b"
            ],
            [
             0.6666666666666666,
             "#ed7953"
            ],
            [
             0.7777777777777778,
             "#fb9f3a"
            ],
            [
             0.8888888888888888,
             "#fdca26"
            ],
            [
             1,
             "#f0f921"
            ]
           ],
           "sequentialminus": [
            [
             0,
             "#0d0887"
            ],
            [
             0.1111111111111111,
             "#46039f"
            ],
            [
             0.2222222222222222,
             "#7201a8"
            ],
            [
             0.3333333333333333,
             "#9c179e"
            ],
            [
             0.4444444444444444,
             "#bd3786"
            ],
            [
             0.5555555555555556,
             "#d8576b"
            ],
            [
             0.6666666666666666,
             "#ed7953"
            ],
            [
             0.7777777777777778,
             "#fb9f3a"
            ],
            [
             0.8888888888888888,
             "#fdca26"
            ],
            [
             1,
             "#f0f921"
            ]
           ]
          },
          "colorway": [
           "#636efa",
           "#EF553B",
           "#00cc96",
           "#ab63fa",
           "#FFA15A",
           "#19d3f3",
           "#FF6692",
           "#B6E880",
           "#FF97FF",
           "#FECB52"
          ],
          "font": {
           "color": "#2a3f5f"
          },
          "geo": {
           "bgcolor": "white",
           "lakecolor": "white",
           "landcolor": "#E5ECF6",
           "showlakes": true,
           "showland": true,
           "subunitcolor": "white"
          },
          "hoverlabel": {
           "align": "left"
          },
          "hovermode": "closest",
          "mapbox": {
           "style": "light"
          },
          "paper_bgcolor": "white",
          "plot_bgcolor": "#E5ECF6",
          "polar": {
           "angularaxis": {
            "gridcolor": "white",
            "linecolor": "white",
            "ticks": ""
           },
           "bgcolor": "#E5ECF6",
           "radialaxis": {
            "gridcolor": "white",
            "linecolor": "white",
            "ticks": ""
           }
          },
          "scene": {
           "xaxis": {
            "backgroundcolor": "#E5ECF6",
            "gridcolor": "white",
            "gridwidth": 2,
            "linecolor": "white",
            "showbackground": true,
            "ticks": "",
            "zerolinecolor": "white"
           },
           "yaxis": {
            "backgroundcolor": "#E5ECF6",
            "gridcolor": "white",
            "gridwidth": 2,
            "linecolor": "white",
            "showbackground": true,
            "ticks": "",
            "zerolinecolor": "white"
           },
           "zaxis": {
            "backgroundcolor": "#E5ECF6",
            "gridcolor": "white",
            "gridwidth": 2,
            "linecolor": "white",
            "showbackground": true,
            "ticks": "",
            "zerolinecolor": "white"
           }
          },
          "shapedefaults": {
           "line": {
            "color": "#2a3f5f"
           }
          },
          "ternary": {
           "aaxis": {
            "gridcolor": "white",
            "linecolor": "white",
            "ticks": ""
           },
           "baxis": {
            "gridcolor": "white",
            "linecolor": "white",
            "ticks": ""
           },
           "bgcolor": "#E5ECF6",
           "caxis": {
            "gridcolor": "white",
            "linecolor": "white",
            "ticks": ""
           }
          },
          "title": {
           "x": 0.05
          },
          "xaxis": {
           "automargin": true,
           "gridcolor": "white",
           "linecolor": "white",
           "ticks": "",
           "title": {
            "standoff": 15
           },
           "zerolinecolor": "white",
           "zerolinewidth": 2
          },
          "yaxis": {
           "automargin": true,
           "gridcolor": "white",
           "linecolor": "white",
           "ticks": "",
           "title": {
            "standoff": 15
           },
           "zerolinecolor": "white",
           "zerolinewidth": 2
          }
         }
        },
        "title": {
         "text": "Proporção de ativos na carteira"
        },
        "xaxis": {
         "anchor": "y",
         "domain": [
          0,
          1
         ],
         "title": {
          "text": "Proporção"
         }
        },
        "yaxis": {
         "anchor": "x",
         "domain": [
          0,
          1
         ],
         "title": {
          "text": "Ações"
         }
        }
       }
      }
     },
     "metadata": {},
     "output_type": "display_data"
    }
   ],
   "source": [
    "proportion_CVAR(20, x, y, stocks)[1]"
   ]
  },
  {
   "cell_type": "markdown",
   "id": "furnished-parish",
   "metadata": {},
   "source": [
    "<h3> Backtest </h3>\n",
    "\n",
    "O objetivo do backtest é analisar quais seriam os resultados de um carteira ótima criada num período anterior ao atual, verificando a evolução da carteira desde o instante em que ela foi criada, até o instante atual."
   ]
  },
  {
   "cell_type": "code",
   "execution_count": 99,
   "id": "788e0763",
   "metadata": {},
   "outputs": [],
   "source": [
    "def drop_columns_with_nan(df):\n",
    "    # Identify columns with NaN values\n",
    "    columns_nan = list(df.iloc[:, list(df.isna().any())].columns)\n",
    "\n",
    "    # Check if there are columns with NaN values\n",
    "    if columns_nan != []:\n",
    "        print(\n",
    "            f\"The assets {columns_nan} contain missing data and should not be used in the portfolio.\"\n",
    "        )\n",
    "        \n",
    "        # Drop columns with NaN values\n",
    "        df_new = df.drop(columns=columns_nan)\n",
    "    else:\n",
    "        # If no NaN values are found, return the original dataframe\n",
    "        return df\n",
    "    \n",
    "    # Return the dataframe without columns with NaN values\n",
    "    return df_new\n",
    "\n",
    "\n",
    "\n",
    "\n",
    "def collect_historico_stocks(stocks_codes, data_inicio, data_fim):\n",
    "    historico_stocks = web.DataReader(stocks_codes, data_inicio, data_fim)[\"Adj Close\"]\n",
    "    historico_stocks = drop_columns_with_nan(historico_stocks)\n",
    "    return historico_stocks\n",
    "\n",
    "\n",
    "class Portfolio_optimization:\n",
    "    def __init__(self, historico_stocks):\n",
    "        self.historico_stocks = historico_stocks\n",
    "        self.stocks = list(historico_stocks.columns)\n",
    "\n",
    "    # Function to plot historical stock prices\n",
    "    def plot_historic(self):\n",
    "        fig = go.Figure()\n",
    "\n",
    "        # Iterate through each stock in the portfolio\n",
    "        for stock in self.stocks:\n",
    "            # Add a trace for each stock, representing historical closing prices\n",
    "            fig.add_trace(\n",
    "                go.Scatter(\n",
    "                    x=self.historico_stocks.index,\n",
    "                    y=self.historico_stocks[stock],\n",
    "                    mode=\"lines\",\n",
    "                    name=f\"{stock}\",\n",
    "                )\n",
    "            )\n",
    "\n",
    "        # Update layout with title and axis labels\n",
    "        fig.update_layout(\n",
    "            title=\"Historical Closing Prices of Stocks\",\n",
    "            xaxis_title=\"Time Period\",\n",
    "            yaxis_title=\"Price\",\n",
    "        )\n",
    "\n",
    "        # Display the Plotly chart using Streamlit\n",
    "        fig.show()\n",
    "\n",
    "    def returns(self):\n",
    "        '''This function calculates logarithmic returns for each stock based on historical stock data, \n",
    "        considers a specified window length (wE), and returns a dictionary containing the calculated returns, \n",
    "        expected returns, and mean returns.'''\n",
    "        # Transpose historical stock data for easier calculation\n",
    "        data = self.historico_stocks.values.transpose()\n",
    "        data = np.where(data < 0, 1e-07, data)\n",
    "        # Initialize an array to store logarithmic returns\n",
    "        Returns = np.zeros((data.shape[1] - 1, data.shape[0]))\n",
    "\n",
    "        # Calculate logarithmic returns for each stock\n",
    "        for i in range(Returns.shape[1]):\n",
    "            Returns[:, i] = np.log(data[i, 1::] / data[i, 0:-1]) + 1\n",
    "\n",
    "        # Keep only the necessary data based on the specified window length (wE)\n",
    "        R = Returns[::-1, :]  # Reverse the array\n",
    "        #R = R[0 : wE + 1, :]  # Slice to include the specified window length\n",
    "\n",
    "        # Calculate expected returns and mean return\n",
    "        ExpR = np.mean(R, axis=0).reshape(-1, 1).T  # Expected return\n",
    "        MeanR = numpy.matlib.repmat(ExpR, R.shape[0], 1)  # Repeat expected return to match the shape of Returns\n",
    "\n",
    "        # Return a dictionary containing Returns, Expected Returns, and Mean Return\n",
    "        return {\"Returns\": Returns, \"Expected Returns\": ExpR, \"Mean Return\": MeanR}\n",
    "    \n",
    "\n",
    "    def optimize(self, Returns, ExpR, a=0.95, h=21, metric=\"CVaR\"):\n",
    "        '''This function optimizes a portfolio based on a specified risk metric (VaR or CVaR) \n",
    "        using linear programming. It calculates the mean return values and the corresponding \n",
    "        risk measure values for a range of possible returns. The optimized portfolio weights and \n",
    "        the calculated risk measure are then returned as a dictionary.'''\n",
    "        N = ExpR.shape[1]  # Number of assets\n",
    "        nS = Returns.shape[0]  # Number of scenarios\n",
    "        V0 = 1  # Initial wealth\n",
    "        meanR = np.linspace(np.min(ExpR), np.max(ExpR), 50)  # Mean return values for optimization\n",
    "        linMap = np.zeros((nS + N + 1, len(meanR)))  # Allocation for linprog output\n",
    "\n",
    "        # Objective function coefficients\n",
    "        f = np.vstack((np.zeros((N, 1)), 1, 1 / ((1 - a) * nS) * np.ones((nS, 1))))\n",
    "\n",
    "        # Coefficients for inequality constraints\n",
    "        w = np.ones((nS, N)) - Returns\n",
    "        v = -np.ones((nS, 1))\n",
    "        y = -np.eye(nS)\n",
    "        A = np.hstack([w, v, y])\n",
    "        b = np.zeros((nS, 1))\n",
    "\n",
    "        # Coefficients for equality constraints\n",
    "        Aeq = np.vstack(\n",
    "            [\n",
    "                np.hstack([ExpR, np.array([0]).reshape(-1, 1), np.zeros((1, nS))]),\n",
    "                np.hstack([np.ones((1, N)), np.array([0]).reshape(-1, 1), np.zeros((1, nS))]),\n",
    "            ]\n",
    "        )\n",
    "\n",
    "        # Constraints for boundary values\n",
    "        lb = np.zeros((1, nS + N + 1))\n",
    "        ub = np.full((1, nS + N + 1), np.inf)\n",
    "        bounds = np.vstack([lb, ub]).transpose()\n",
    "\n",
    "        # Loop through mean return values and solve linear programming problem\n",
    "        for i in tqdm(range(len(meanR))):\n",
    "            beq = np.vstack([meanR[i] * V0, V0])\n",
    "            linMap[:, i] = linprog(f, A, b, Aeq, beq, bounds, method=\"highs-ds\")[\"x\"]\n",
    "\n",
    "        # Adjust mean return values for display\n",
    "        meanR = 100 * (meanR - 1) * h\n",
    "\n",
    "        # Calculate risk measure based on the chosen metric (VaR or CVaR)\n",
    "        if metric == \"VaR\":\n",
    "            v = linMap[N, :]\n",
    "            w = linMap[0 : ExpR.shape[1], np.argmin(v) : :]\n",
    "            v = 100 * v * np.sqrt(h)\n",
    "        elif metric == \"CVaR\":\n",
    "            v = sum(linMap[N + 1 :, :]) / ((1 - a) * nS) + linMap[N, :]\n",
    "            w = linMap[0 : ExpR.shape[1], np.argmin(v) : :]\n",
    "            v = 100 * v * np.sqrt(h)\n",
    "\n",
    "        # Return the results as a dictionary\n",
    "        return {\"meanR\": meanR, \"risk_measure\": v, 'w':w}\n",
    "\n",
    "    # Function to plot efficient frontiers based on risk metric (VaR or CVaR)\n",
    "    def plot_efficient_frontiers(self, values, meanR, metric=\"CVaR\"):\n",
    "        # Create a Plotly figure with a scatter plot\n",
    "        fig_1 = go.Figure(data=go.Scatter(x=values[meanR > 0], y=meanR[meanR > 0]))\n",
    "\n",
    "        # Update layout with title and axis labels\n",
    "        fig_1.update_layout(\n",
    "            title=f\"{metric} - Efficient Frontier\",\n",
    "            xaxis_title=f\"{metric} (%)\",\n",
    "            yaxis_title=\"Expected Return (%)\",\n",
    "        )\n",
    "\n",
    "        # Markdown explanation about the efficient frontiers\n",
    "        print(\n",
    "            \"\"\"The charts below represent the return for each value of the considered risk. \n",
    "            Due to the non-convex nature of VaR optimization, the efficient frontier of VaR optimization \n",
    "            exhibits a more \"chaotic\" behavior compared to CVaR optimization, which has a smoother behavior.\"\"\"\n",
    "        )\n",
    "\n",
    "        # Display the Plotly chart using Streamlit\n",
    "        fig_1.show()\n",
    "\n",
    "    # Function to plot the distribution of stocks in the portfolio\n",
    "    def plot_stocks_distribution(self, values, w, metric=\"CVaR\", plot=True):\n",
    "        # Extract data for x-axis (risk values)\n",
    "        x = values[np.argmin(values) : :]\n",
    "\n",
    "        # Extract portfolio allocation data for y-axis\n",
    "        y = 100 * w\n",
    "\n",
    "        # Create a Plotly figure\n",
    "        fig_3 = go.Figure()\n",
    "\n",
    "        # Iterate through each stock and add a trace for the stock's distribution\n",
    "        for i in range(len(y)):\n",
    "            fig_3.add_trace(\n",
    "                go.Scatter(\n",
    "                    x=x,\n",
    "                    y=y[i],\n",
    "                    mode=\"lines\",\n",
    "                    line=dict(width=0.5),\n",
    "                    name=self.stocks[i],\n",
    "                    stackgroup=\"one\",\n",
    "                )\n",
    "            )\n",
    "\n",
    "        # Update layout with title and axis labels\n",
    "        fig_3.update_layout(\n",
    "            title=f\"Stocks Distribution in Portfolio - {metric}\",\n",
    "            xaxis_title=f\"{metric} (%)\",\n",
    "            yaxis_title=\"Distribution (%)\",\n",
    "        )\n",
    "\n",
    "        # Display a markdown explanation if the plot parameter is True\n",
    "        if plot:\n",
    "            print('''The area chart below represents the proportion of assets in \n",
    "                        the portfolio for each considered risk value.''')\n",
    "            fig_3.show()\n",
    "\n",
    "        # Return the x and y data\n",
    "        return x, y\n",
    "\n",
    "    # Function to visualize the proportion of assets in the portfolio for a given risk value\n",
    "    def proportion_risk(self, risk_value, x, y, plot=True):\n",
    "        # Find the index corresponding to the given risk value\n",
    "        i = np.argmin(abs(x - risk_value))\n",
    "\n",
    "        # Create a dictionary to store the proportion of each stock at the specified risk value\n",
    "        risk = {}\n",
    "        for j, stock in enumerate(self.stocks):\n",
    "            risk[stock] = round(y[j][i], 2)\n",
    "\n",
    "        # Convert the dictionary to a pandas Series for easier manipulation\n",
    "        risk = pd.Series(risk)\n",
    "\n",
    "        # Create a bar chart using Plotly Express\n",
    "        risk_2 = risk[risk != 0].sort_values()\n",
    "        fig_4 = px.bar(risk_2, y=risk_2.index, x=risk_2, orientation=\"h\")\n",
    "\n",
    "        # Update layout with title and axis labels\n",
    "        fig_4.update_layout(\n",
    "            title=\"Proportion of Assets in Portfolio\",\n",
    "            xaxis_title=\"Proportion\",\n",
    "            yaxis_title=\"Stocks\",\n",
    "        )\n",
    "\n",
    "        # Display a markdown explanation if the plot parameter is True\n",
    "        if plot:\n",
    "            print('''The final result is, for a given risk value, \n",
    "                        the stocks I should invest in and in what proportion, for my optimal portfolio.''')\n",
    "            fig_4.show()\n",
    "\n",
    "        # Return the proportion of assets for each stock at the specified risk value\n",
    "        return risk\n",
    "\n",
    "\n",
    "\n",
    "def backtest(\n",
    "    valor_investido,\n",
    "    stocks_codes,\n",
    "    risk_values,\n",
    "    start_date_backtest,\n",
    "    end_date_backtest,\n",
    "    current_date,\n",
    "):\n",
    "    '''This function performs a backtest on a portfolio optimization strategy, \n",
    "    calculating the value of the portfolio over time for different levels of risk. \n",
    "    The results are visualized using a Plotly figure.'''\n",
    "    # Collect historical stock data for the backtest period\n",
    "    historico_stocks = collect_historico_stocks(\n",
    "        stocks_codes, start_date_backtest, current_date\n",
    "    )\n",
    "\n",
    "    # Split the data into training and testing sets\n",
    "    train = historico_stocks[:end_date_backtest]\n",
    "    test = historico_stocks[end_date_backtest:]\n",
    "\n",
    "    # Initialize a Portfolio_optimization object for training data\n",
    "    po = Portfolio_optimization(train)\n",
    "\n",
    "    # Calculate returns and optimize portfolio for training data\n",
    "    r_dict = po.returns()\n",
    "    Returns = r_dict[\"Returns\"]\n",
    "    ExpR = r_dict[\"Expected Returns\"]\n",
    "    opt_dict = po.optimize(Returns, ExpR, a=0.95, h=21, metric=\"CVaR\")\n",
    "    risk_measure = opt_dict[\"risk_measure\"]\n",
    "    w = opt_dict[\"w\"]\n",
    "\n",
    "    # Plot stocks distribution for training data\n",
    "    x, y = po.plot_stocks_distribution(risk_measure, w, metric=\"CVaR\")\n",
    "\n",
    "    # Generate portfolios for different risk values\n",
    "    portfolios = [\n",
    "        po.proportion_risk(risk_value, x, y, False) for risk_value in risk_values\n",
    "    ]\n",
    "\n",
    "    fig = go.Figure()\n",
    "\n",
    "    # Iterate through each portfolio and perform the backtest\n",
    "    for portfolio, risco in zip(portfolios, risk_values):\n",
    "        inv_inicio = test.iloc[0]\n",
    "        inv_fim = test.iloc[-1]\n",
    "        a = portfolio / inv_inicio * inv_fim\n",
    "        valor_atual = sum(a) / 100 * valor_investido\n",
    "\n",
    "        # Display information about the backtest results\n",
    "        print(f\"Initial Investment: {valor_investido}\")\n",
    "        print(\n",
    "            f\"For risk = {risco}, the current value of the investment is {round(valor_atual, 2)}\"\n",
    "        )\n",
    "\n",
    "        # Calculate the portfolio value at each time point in the testing set\n",
    "        valor = {}\n",
    "        for i in test.index:\n",
    "            inv_fim = test.loc[i]\n",
    "            v = sum(portfolio / inv_inicio * inv_fim) / 100 * valor_investido\n",
    "            valor[i] = v\n",
    "\n",
    "        # Create a trace for each portfolio in the Plotly figure\n",
    "        fig.add_trace(\n",
    "            go.Scatter(x=list(valor.keys()), y=list(valor.values()), mode=\"lines\", name=f\"Risk = {risco}\")\n",
    "        )\n",
    "\n",
    "    # Update layout with title and axis labels for the Plotly figure\n",
    "    fig.update_layout(\n",
    "        title=\"Portfolio Value Evolution\",\n",
    "        xaxis_title=\"Time Period\",\n",
    "        yaxis_title=\"Portfolio Value\",\n",
    "    )\n",
    "\n",
    "    # Display the Plotly figure using Streamlit\n",
    "    fig.show()\n"
   ]
  },
  {
   "cell_type": "code",
   "execution_count": 100,
   "id": "7394844c",
   "metadata": {},
   "outputs": [
    {
     "name": "stdout",
     "output_type": "stream",
     "text": [
      "[*********************100%%**********************]  149 of 149 completed"
     ]
    },
    {
     "name": "stderr",
     "output_type": "stream",
     "text": [
      "\n",
      "2 Failed downloads:\n",
      "['1WIZC3.SA', '1ALOS3.SA']: Exception('%ticker%: No timezone found, symbol may be delisted')\n"
     ]
    },
    {
     "name": "stdout",
     "output_type": "stream",
     "text": [
      "\n",
      "The assets ['1ALOS3.SA', '1WIZC3.SA', 'AESB3.SA', 'ALOS3.SA', 'ALPK3.SA', 'APER3.SA', 'BAZA3.SA', 'BMEB3.SA', 'BMKS3.SA', 'BNBR3.SA', 'BRGE3.SA', 'BRIT3.SA', 'CALI3.SA', 'CEDO3.SA', 'CEEB3.SA', 'CMIN3.SA', 'CRIV3.SA', 'CSED3.SA', 'CURY3.SA', 'CXSE3.SA', 'DESK3.SA', 'DMVF3.SA', 'EALT3.SA', 'ELMD3.SA', 'ENJU3.SA', 'EQMA3B.SA', 'FESA3.SA', 'FRIO3.SA', 'GEPA3.SA', 'GGPS3.SA', 'GMAT3.SA', 'GPAR3.SA', 'HBRE3.SA', 'HBSA3.SA', 'JSLG3.SA', 'LAVV3.SA', 'LIPR3.SA', 'LJQQ3.SA', 'MDNE3.SA', 'MELK3.SA', 'NINJ3.SA', 'ONCO3.SA', 'OPCT3.SA', 'ORVR3.SA', 'PINE3.SA', 'PLPL3.SA', 'PORT3.SA', 'PRNR3.SA', 'RPAD3.SA', 'SIMH3.SA', 'SMFT3.SA', 'SOJA3.SA'] contain missing data and should not be used in the portfolio.\n"
     ]
    },
    {
     "data": {
      "application/vnd.jupyter.widget-view+json": {
       "model_id": "8fcd9c0071794f0b94731c529ebbea66",
       "version_major": 2,
       "version_minor": 0
      },
      "text/plain": [
       "  0%|          | 0/50 [00:00<?, ?it/s]"
      ]
     },
     "metadata": {},
     "output_type": "display_data"
    },
    {
     "name": "stdout",
     "output_type": "stream",
     "text": [
      "The area chart below represents the proportion of assets in \n",
      "                        the portfolio for each considered risk value.\n"
     ]
    },
    {
     "data": {
      "application/vnd.plotly.v1+json": {
       "config": {
        "plotlyServerURL": "https://plot.ly"
       },
       "data": [
        {
         "line": {
          "width": 0.5
         },
         "mode": "lines",
         "name": "ALUP3.SA",
         "stackgroup": "one",
         "type": "scatter",
         "x": [
          7.413071320410464,
          7.428935355986014,
          7.530972409354055,
          7.658530235012296,
          7.794297465278026,
          7.969987264993337,
          8.166810723872135,
          8.37808868850131,
          8.599095925417345,
          8.836332848739241,
          9.098864924730677,
          9.390579217395777,
          9.69642011029552,
          10.013442550291737,
          10.371729474448962,
          10.74720288354375,
          11.127373940372749,
          11.52075973063573,
          11.917391145140408,
          12.316412394780077,
          12.721343086729126,
          13.133076809252797,
          13.553530602454067,
          13.975351598793882,
          14.40490097584386,
          14.843942256481592,
          15.296172159329975,
          15.753540619182584,
          16.232107250244766,
          16.71725931459229,
          17.222679183332964,
          17.741723445599952,
          18.267802316250574,
          18.81746722627311,
          19.374352423245043,
          19.931237620216972,
          20.488122817188618,
          21.045008014160548,
          21.602041443310956,
          22.176098057799344,
          22.75537981562587,
          23.334661573452685
         ],
         "y": [
          0,
          0,
          0,
          0,
          0,
          0,
          0,
          0,
          0,
          0,
          0,
          0,
          0,
          0,
          0,
          0,
          0,
          0,
          0,
          0,
          0,
          0,
          0,
          0,
          0,
          0,
          0,
          0,
          0.12712968730781174,
          0.5571548401946369,
          0.686007538845104,
          0.0013558435527542946,
          0,
          0,
          0,
          0,
          0,
          0,
          0,
          0,
          0,
          0
         ]
        },
        {
         "line": {
          "width": 0.5
         },
         "mode": "lines",
         "name": "B3SA3.SA",
         "stackgroup": "one",
         "type": "scatter",
         "x": [
          7.413071320410464,
          7.428935355986014,
          7.530972409354055,
          7.658530235012296,
          7.794297465278026,
          7.969987264993337,
          8.166810723872135,
          8.37808868850131,
          8.599095925417345,
          8.836332848739241,
          9.098864924730677,
          9.390579217395777,
          9.69642011029552,
          10.013442550291737,
          10.371729474448962,
          10.74720288354375,
          11.127373940372749,
          11.52075973063573,
          11.917391145140408,
          12.316412394780077,
          12.721343086729126,
          13.133076809252797,
          13.553530602454067,
          13.975351598793882,
          14.40490097584386,
          14.843942256481592,
          15.296172159329975,
          15.753540619182584,
          16.232107250244766,
          16.71725931459229,
          17.222679183332964,
          17.741723445599952,
          18.267802316250574,
          18.81746722627311,
          19.374352423245043,
          19.931237620216972,
          20.488122817188618,
          21.045008014160548,
          21.602041443310956,
          22.176098057799344,
          22.75537981562587,
          23.334661573452685
         ],
         "y": [
          0,
          0,
          0,
          0,
          0,
          0,
          0,
          0,
          0,
          0,
          0,
          0,
          0,
          0,
          0,
          0,
          0,
          0,
          0,
          0,
          0,
          0,
          0,
          0,
          0,
          0,
          0,
          0,
          0,
          0,
          0,
          0,
          0,
          0,
          0,
          0,
          0,
          0,
          0,
          0,
          0,
          0
         ]
        },
        {
         "line": {
          "width": 0.5
         },
         "mode": "lines",
         "name": "BBAS3.SA",
         "stackgroup": "one",
         "type": "scatter",
         "x": [
          7.413071320410464,
          7.428935355986014,
          7.530972409354055,
          7.658530235012296,
          7.794297465278026,
          7.969987264993337,
          8.166810723872135,
          8.37808868850131,
          8.599095925417345,
          8.836332848739241,
          9.098864924730677,
          9.390579217395777,
          9.69642011029552,
          10.013442550291737,
          10.371729474448962,
          10.74720288354375,
          11.127373940372749,
          11.52075973063573,
          11.917391145140408,
          12.316412394780077,
          12.721343086729126,
          13.133076809252797,
          13.553530602454067,
          13.975351598793882,
          14.40490097584386,
          14.843942256481592,
          15.296172159329975,
          15.753540619182584,
          16.232107250244766,
          16.71725931459229,
          17.222679183332964,
          17.741723445599952,
          18.267802316250574,
          18.81746722627311,
          19.374352423245043,
          19.931237620216972,
          20.488122817188618,
          21.045008014160548,
          21.602041443310956,
          22.176098057799344,
          22.75537981562587,
          23.334661573452685
         ],
         "y": [
          0,
          0,
          0,
          0,
          0,
          0,
          0,
          0,
          0,
          0,
          0,
          0,
          0,
          0,
          0,
          0,
          0,
          0,
          0,
          0,
          0,
          0,
          0,
          0,
          0,
          0,
          0,
          0,
          0,
          0,
          0,
          0,
          0,
          0,
          0,
          0,
          0,
          0,
          0,
          0,
          0,
          0
         ]
        },
        {
         "line": {
          "width": 0.5
         },
         "mode": "lines",
         "name": "BBDC3.SA",
         "stackgroup": "one",
         "type": "scatter",
         "x": [
          7.413071320410464,
          7.428935355986014,
          7.530972409354055,
          7.658530235012296,
          7.794297465278026,
          7.969987264993337,
          8.166810723872135,
          8.37808868850131,
          8.599095925417345,
          8.836332848739241,
          9.098864924730677,
          9.390579217395777,
          9.69642011029552,
          10.013442550291737,
          10.371729474448962,
          10.74720288354375,
          11.127373940372749,
          11.52075973063573,
          11.917391145140408,
          12.316412394780077,
          12.721343086729126,
          13.133076809252797,
          13.553530602454067,
          13.975351598793882,
          14.40490097584386,
          14.843942256481592,
          15.296172159329975,
          15.753540619182584,
          16.232107250244766,
          16.71725931459229,
          17.222679183332964,
          17.741723445599952,
          18.267802316250574,
          18.81746722627311,
          19.374352423245043,
          19.931237620216972,
          20.488122817188618,
          21.045008014160548,
          21.602041443310956,
          22.176098057799344,
          22.75537981562587,
          23.334661573452685
         ],
         "y": [
          0,
          0,
          0,
          0,
          0,
          0,
          0,
          0,
          0,
          0,
          0,
          0,
          0,
          0,
          0,
          0,
          0,
          0,
          0,
          0,
          0,
          0,
          0,
          0,
          0,
          0,
          0,
          0,
          0,
          0,
          0,
          0,
          0,
          0,
          0,
          0,
          0,
          0,
          0,
          0,
          0,
          0
         ]
        },
        {
         "line": {
          "width": 0.5
         },
         "mode": "lines",
         "name": "BBSE3.SA",
         "stackgroup": "one",
         "type": "scatter",
         "x": [
          7.413071320410464,
          7.428935355986014,
          7.530972409354055,
          7.658530235012296,
          7.794297465278026,
          7.969987264993337,
          8.166810723872135,
          8.37808868850131,
          8.599095925417345,
          8.836332848739241,
          9.098864924730677,
          9.390579217395777,
          9.69642011029552,
          10.013442550291737,
          10.371729474448962,
          10.74720288354375,
          11.127373940372749,
          11.52075973063573,
          11.917391145140408,
          12.316412394780077,
          12.721343086729126,
          13.133076809252797,
          13.553530602454067,
          13.975351598793882,
          14.40490097584386,
          14.843942256481592,
          15.296172159329975,
          15.753540619182584,
          16.232107250244766,
          16.71725931459229,
          17.222679183332964,
          17.741723445599952,
          18.267802316250574,
          18.81746722627311,
          19.374352423245043,
          19.931237620216972,
          20.488122817188618,
          21.045008014160548,
          21.602041443310956,
          22.176098057799344,
          22.75537981562587,
          23.334661573452685
         ],
         "y": [
          0,
          0,
          0,
          0,
          0,
          0,
          0,
          0,
          0,
          0,
          0,
          0,
          0,
          0,
          0,
          0.433044521813047,
          0.5689489672552087,
          0,
          0,
          0,
          0,
          0,
          0,
          0,
          0,
          0,
          0,
          0,
          0,
          0,
          0,
          0,
          0,
          0,
          0,
          0,
          0,
          0,
          0,
          0,
          0,
          0
         ]
        },
        {
         "line": {
          "width": 0.5
         },
         "mode": "lines",
         "name": "BEES3.SA",
         "stackgroup": "one",
         "type": "scatter",
         "x": [
          7.413071320410464,
          7.428935355986014,
          7.530972409354055,
          7.658530235012296,
          7.794297465278026,
          7.969987264993337,
          8.166810723872135,
          8.37808868850131,
          8.599095925417345,
          8.836332848739241,
          9.098864924730677,
          9.390579217395777,
          9.69642011029552,
          10.013442550291737,
          10.371729474448962,
          10.74720288354375,
          11.127373940372749,
          11.52075973063573,
          11.917391145140408,
          12.316412394780077,
          12.721343086729126,
          13.133076809252797,
          13.553530602454067,
          13.975351598793882,
          14.40490097584386,
          14.843942256481592,
          15.296172159329975,
          15.753540619182584,
          16.232107250244766,
          16.71725931459229,
          17.222679183332964,
          17.741723445599952,
          18.267802316250574,
          18.81746722627311,
          19.374352423245043,
          19.931237620216972,
          20.488122817188618,
          21.045008014160548,
          21.602041443310956,
          22.176098057799344,
          22.75537981562587,
          23.334661573452685
         ],
         "y": [
          0,
          0,
          0,
          0,
          0,
          0,
          0,
          0,
          0,
          0,
          0,
          0,
          0,
          0,
          0,
          0,
          0,
          5.150108281799166,
          6.695119525350572,
          6.178098769745848,
          9.52294010995361,
          6.432317705806659,
          7.434628020045507,
          6.948363742415388,
          6.125476064963379,
          3.179794266339744,
          3.4239503074976563,
          3.0089191326600284,
          2.808065903269136,
          0,
          0,
          0,
          0,
          0,
          0,
          0,
          0,
          0,
          0,
          0,
          0,
          0
         ]
        },
        {
         "line": {
          "width": 0.5
         },
         "mode": "lines",
         "name": "BPAC3.SA",
         "stackgroup": "one",
         "type": "scatter",
         "x": [
          7.413071320410464,
          7.428935355986014,
          7.530972409354055,
          7.658530235012296,
          7.794297465278026,
          7.969987264993337,
          8.166810723872135,
          8.37808868850131,
          8.599095925417345,
          8.836332848739241,
          9.098864924730677,
          9.390579217395777,
          9.69642011029552,
          10.013442550291737,
          10.371729474448962,
          10.74720288354375,
          11.127373940372749,
          11.52075973063573,
          11.917391145140408,
          12.316412394780077,
          12.721343086729126,
          13.133076809252797,
          13.553530602454067,
          13.975351598793882,
          14.40490097584386,
          14.843942256481592,
          15.296172159329975,
          15.753540619182584,
          16.232107250244766,
          16.71725931459229,
          17.222679183332964,
          17.741723445599952,
          18.267802316250574,
          18.81746722627311,
          19.374352423245043,
          19.931237620216972,
          20.488122817188618,
          21.045008014160548,
          21.602041443310956,
          22.176098057799344,
          22.75537981562587,
          23.334661573452685
         ],
         "y": [
          0,
          0,
          0.0007068958394124651,
          0,
          0,
          0,
          0,
          0,
          0,
          0,
          0,
          0,
          0,
          0,
          0,
          0,
          0,
          0,
          0,
          0,
          0,
          0,
          0,
          0,
          0,
          0,
          0,
          0,
          0,
          0,
          0,
          0,
          0,
          0,
          0,
          0,
          0,
          0,
          0,
          0,
          0,
          0
         ]
        },
        {
         "line": {
          "width": 0.5
         },
         "mode": "lines",
         "name": "BRAP3.SA",
         "stackgroup": "one",
         "type": "scatter",
         "x": [
          7.413071320410464,
          7.428935355986014,
          7.530972409354055,
          7.658530235012296,
          7.794297465278026,
          7.969987264993337,
          8.166810723872135,
          8.37808868850131,
          8.599095925417345,
          8.836332848739241,
          9.098864924730677,
          9.390579217395777,
          9.69642011029552,
          10.013442550291737,
          10.371729474448962,
          10.74720288354375,
          11.127373940372749,
          11.52075973063573,
          11.917391145140408,
          12.316412394780077,
          12.721343086729126,
          13.133076809252797,
          13.553530602454067,
          13.975351598793882,
          14.40490097584386,
          14.843942256481592,
          15.296172159329975,
          15.753540619182584,
          16.232107250244766,
          16.71725931459229,
          17.222679183332964,
          17.741723445599952,
          18.267802316250574,
          18.81746722627311,
          19.374352423245043,
          19.931237620216972,
          20.488122817188618,
          21.045008014160548,
          21.602041443310956,
          22.176098057799344,
          22.75537981562587,
          23.334661573452685
         ],
         "y": [
          0,
          0,
          0,
          0,
          0,
          0,
          0,
          0,
          0,
          0,
          0,
          0,
          0,
          0,
          0,
          0,
          0,
          0,
          0,
          0,
          0,
          0,
          0,
          0,
          0,
          0,
          0,
          0,
          0,
          0,
          0,
          0,
          0,
          0,
          0,
          0,
          0,
          0,
          0,
          0,
          0,
          0
         ]
        },
        {
         "line": {
          "width": 0.5
         },
         "mode": "lines",
         "name": "BRIV3.SA",
         "stackgroup": "one",
         "type": "scatter",
         "x": [
          7.413071320410464,
          7.428935355986014,
          7.530972409354055,
          7.658530235012296,
          7.794297465278026,
          7.969987264993337,
          8.166810723872135,
          8.37808868850131,
          8.599095925417345,
          8.836332848739241,
          9.098864924730677,
          9.390579217395777,
          9.69642011029552,
          10.013442550291737,
          10.371729474448962,
          10.74720288354375,
          11.127373940372749,
          11.52075973063573,
          11.917391145140408,
          12.316412394780077,
          12.721343086729126,
          13.133076809252797,
          13.553530602454067,
          13.975351598793882,
          14.40490097584386,
          14.843942256481592,
          15.296172159329975,
          15.753540619182584,
          16.232107250244766,
          16.71725931459229,
          17.222679183332964,
          17.741723445599952,
          18.267802316250574,
          18.81746722627311,
          19.374352423245043,
          19.931237620216972,
          20.488122817188618,
          21.045008014160548,
          21.602041443310956,
          22.176098057799344,
          22.75537981562587,
          23.334661573452685
         ],
         "y": [
          4.571805276159169,
          5.199906094866912,
          4.502622217145282,
          3.9777621614074903,
          2.1140003004876355,
          1.3482052540702607,
          2.970817188934759,
          3.1179099002081956,
          1.460599131000384,
          0.945296484943387,
          0.7455076972427936,
          1.77701181513064,
          1.9558768783561307,
          1.727708519886496,
          1.9293967210141383,
          2.5783989646193275,
          2.187780401151721,
          2.942512956266461,
          2.435049806606058,
          1.2162947933652752,
          0.9285675173272877,
          0,
          0,
          0,
          0,
          0,
          0.22510581997500415,
          0.4891124490871454,
          1.0933117282599154,
          1.4133557995163484,
          0,
          0,
          0,
          0,
          0,
          0,
          0,
          0,
          0,
          0,
          0,
          0
         ]
        },
        {
         "line": {
          "width": 0.5
         },
         "mode": "lines",
         "name": "BRSR3.SA",
         "stackgroup": "one",
         "type": "scatter",
         "x": [
          7.413071320410464,
          7.428935355986014,
          7.530972409354055,
          7.658530235012296,
          7.794297465278026,
          7.969987264993337,
          8.166810723872135,
          8.37808868850131,
          8.599095925417345,
          8.836332848739241,
          9.098864924730677,
          9.390579217395777,
          9.69642011029552,
          10.013442550291737,
          10.371729474448962,
          10.74720288354375,
          11.127373940372749,
          11.52075973063573,
          11.917391145140408,
          12.316412394780077,
          12.721343086729126,
          13.133076809252797,
          13.553530602454067,
          13.975351598793882,
          14.40490097584386,
          14.843942256481592,
          15.296172159329975,
          15.753540619182584,
          16.232107250244766,
          16.71725931459229,
          17.222679183332964,
          17.741723445599952,
          18.267802316250574,
          18.81746722627311,
          19.374352423245043,
          19.931237620216972,
          20.488122817188618,
          21.045008014160548,
          21.602041443310956,
          22.176098057799344,
          22.75537981562587,
          23.334661573452685
         ],
         "y": [
          0,
          0,
          0,
          0,
          0,
          0,
          0,
          0,
          0,
          0,
          0,
          0,
          0,
          0,
          0,
          0,
          0,
          0,
          0,
          0,
          0,
          0,
          0,
          0,
          0,
          0,
          0,
          0,
          0,
          0,
          0,
          0,
          0,
          0,
          0,
          0,
          0,
          0,
          0,
          0,
          0,
          0
         ]
        },
        {
         "line": {
          "width": 0.5
         },
         "mode": "lines",
         "name": "CAMB3.SA",
         "stackgroup": "one",
         "type": "scatter",
         "x": [
          7.413071320410464,
          7.428935355986014,
          7.530972409354055,
          7.658530235012296,
          7.794297465278026,
          7.969987264993337,
          8.166810723872135,
          8.37808868850131,
          8.599095925417345,
          8.836332848739241,
          9.098864924730677,
          9.390579217395777,
          9.69642011029552,
          10.013442550291737,
          10.371729474448962,
          10.74720288354375,
          11.127373940372749,
          11.52075973063573,
          11.917391145140408,
          12.316412394780077,
          12.721343086729126,
          13.133076809252797,
          13.553530602454067,
          13.975351598793882,
          14.40490097584386,
          14.843942256481592,
          15.296172159329975,
          15.753540619182584,
          16.232107250244766,
          16.71725931459229,
          17.222679183332964,
          17.741723445599952,
          18.267802316250574,
          18.81746722627311,
          19.374352423245043,
          19.931237620216972,
          20.488122817188618,
          21.045008014160548,
          21.602041443310956,
          22.176098057799344,
          22.75537981562587,
          23.334661573452685
         ],
         "y": [
          0,
          0,
          0,
          0,
          0,
          0,
          0,
          0,
          0,
          0,
          0,
          0,
          0,
          0,
          0,
          0,
          0,
          0,
          0,
          0,
          0,
          0,
          0,
          0,
          0,
          0,
          0.37428349979068004,
          0.6306089808200076,
          0,
          0,
          0,
          0,
          0,
          0,
          0,
          0,
          0,
          0,
          0,
          0,
          0,
          0
         ]
        },
        {
         "line": {
          "width": 0.5
         },
         "mode": "lines",
         "name": "CCRO3.SA",
         "stackgroup": "one",
         "type": "scatter",
         "x": [
          7.413071320410464,
          7.428935355986014,
          7.530972409354055,
          7.658530235012296,
          7.794297465278026,
          7.969987264993337,
          8.166810723872135,
          8.37808868850131,
          8.599095925417345,
          8.836332848739241,
          9.098864924730677,
          9.390579217395777,
          9.69642011029552,
          10.013442550291737,
          10.371729474448962,
          10.74720288354375,
          11.127373940372749,
          11.52075973063573,
          11.917391145140408,
          12.316412394780077,
          12.721343086729126,
          13.133076809252797,
          13.553530602454067,
          13.975351598793882,
          14.40490097584386,
          14.843942256481592,
          15.296172159329975,
          15.753540619182584,
          16.232107250244766,
          16.71725931459229,
          17.222679183332964,
          17.741723445599952,
          18.267802316250574,
          18.81746722627311,
          19.374352423245043,
          19.931237620216972,
          20.488122817188618,
          21.045008014160548,
          21.602041443310956,
          22.176098057799344,
          22.75537981562587,
          23.334661573452685
         ],
         "y": [
          0,
          0,
          0,
          0,
          0,
          0,
          0,
          0,
          0,
          0,
          0,
          0,
          0,
          0,
          0,
          0,
          0,
          0,
          0,
          0,
          0,
          0,
          0,
          0,
          0,
          0,
          0,
          0,
          0,
          0,
          0,
          0,
          0,
          0,
          0,
          0,
          0,
          0,
          0,
          0,
          0,
          0
         ]
        },
        {
         "line": {
          "width": 0.5
         },
         "mode": "lines",
         "name": "CEAB3.SA",
         "stackgroup": "one",
         "type": "scatter",
         "x": [
          7.413071320410464,
          7.428935355986014,
          7.530972409354055,
          7.658530235012296,
          7.794297465278026,
          7.969987264993337,
          8.166810723872135,
          8.37808868850131,
          8.599095925417345,
          8.836332848739241,
          9.098864924730677,
          9.390579217395777,
          9.69642011029552,
          10.013442550291737,
          10.371729474448962,
          10.74720288354375,
          11.127373940372749,
          11.52075973063573,
          11.917391145140408,
          12.316412394780077,
          12.721343086729126,
          13.133076809252797,
          13.553530602454067,
          13.975351598793882,
          14.40490097584386,
          14.843942256481592,
          15.296172159329975,
          15.753540619182584,
          16.232107250244766,
          16.71725931459229,
          17.222679183332964,
          17.741723445599952,
          18.267802316250574,
          18.81746722627311,
          19.374352423245043,
          19.931237620216972,
          20.488122817188618,
          21.045008014160548,
          21.602041443310956,
          22.176098057799344,
          22.75537981562587,
          23.334661573452685
         ],
         "y": [
          0,
          0,
          0,
          0,
          0,
          0,
          0,
          0,
          0,
          0,
          0,
          0,
          0,
          0,
          0,
          0,
          0,
          0,
          0,
          0,
          0,
          0,
          0,
          0,
          0,
          0,
          0,
          0,
          0,
          0,
          0,
          0,
          0,
          0,
          0,
          0,
          0,
          0,
          0,
          0,
          0,
          0
         ]
        },
        {
         "line": {
          "width": 0.5
         },
         "mode": "lines",
         "name": "CEBR3.SA",
         "stackgroup": "one",
         "type": "scatter",
         "x": [
          7.413071320410464,
          7.428935355986014,
          7.530972409354055,
          7.658530235012296,
          7.794297465278026,
          7.969987264993337,
          8.166810723872135,
          8.37808868850131,
          8.599095925417345,
          8.836332848739241,
          9.098864924730677,
          9.390579217395777,
          9.69642011029552,
          10.013442550291737,
          10.371729474448962,
          10.74720288354375,
          11.127373940372749,
          11.52075973063573,
          11.917391145140408,
          12.316412394780077,
          12.721343086729126,
          13.133076809252797,
          13.553530602454067,
          13.975351598793882,
          14.40490097584386,
          14.843942256481592,
          15.296172159329975,
          15.753540619182584,
          16.232107250244766,
          16.71725931459229,
          17.222679183332964,
          17.741723445599952,
          18.267802316250574,
          18.81746722627311,
          19.374352423245043,
          19.931237620216972,
          20.488122817188618,
          21.045008014160548,
          21.602041443310956,
          22.176098057799344,
          22.75537981562587,
          23.334661573452685
         ],
         "y": [
          7.919044072136973,
          10.166089584717888,
          12.450762777136212,
          14.60839920259642,
          16.84928315606122,
          19.138597565551265,
          21.424182094573265,
          23.65258318145503,
          25.79531694618364,
          27.971745277558046,
          30.164987347860638,
          32.28810928089006,
          34.380689102122005,
          36.62232016034495,
          38.806338942303285,
          40.953722170319686,
          43.198916416598124,
          45.37596311914624,
          47.71027972465286,
          49.67686538614367,
          51.952808007522556,
          54.16530985994575,
          56.3264856246505,
          58.511107773134775,
          60.93591188371905,
          63.39099513131761,
          65.49948618901816,
          67.55683333336685,
          69.60751861119874,
          71.77952955235774,
          74.04721384862057,
          76.33603234750848,
          78.6602656770107,
          81.01795998772133,
          83.33582032285769,
          85.65368065799403,
          87.9715409931292,
          90.28940132826554,
          92.60764690254207,
          95.0467093959127,
          97.52335469795538,
          99.99999999999935
         ]
        },
        {
         "line": {
          "width": 0.5
         },
         "mode": "lines",
         "name": "CLSC3.SA",
         "stackgroup": "one",
         "type": "scatter",
         "x": [
          7.413071320410464,
          7.428935355986014,
          7.530972409354055,
          7.658530235012296,
          7.794297465278026,
          7.969987264993337,
          8.166810723872135,
          8.37808868850131,
          8.599095925417345,
          8.836332848739241,
          9.098864924730677,
          9.390579217395777,
          9.69642011029552,
          10.013442550291737,
          10.371729474448962,
          10.74720288354375,
          11.127373940372749,
          11.52075973063573,
          11.917391145140408,
          12.316412394780077,
          12.721343086729126,
          13.133076809252797,
          13.553530602454067,
          13.975351598793882,
          14.40490097584386,
          14.843942256481592,
          15.296172159329975,
          15.753540619182584,
          16.232107250244766,
          16.71725931459229,
          17.222679183332964,
          17.741723445599952,
          18.267802316250574,
          18.81746722627311,
          19.374352423245043,
          19.931237620216972,
          20.488122817188618,
          21.045008014160548,
          21.602041443310956,
          22.176098057799344,
          22.75537981562587,
          23.334661573452685
         ],
         "y": [
          7.727900699086884,
          7.618567037545077,
          7.485155341316601,
          7.250229458491954,
          7.635027896253697,
          8.231801963692035,
          8.75923022737456,
          8.836026391756572,
          9.497286210911147,
          10.072447577458123,
          8.627826648530414,
          6.860247716658383,
          6.971845449292344,
          7.420025174579392,
          7.072573184444436,
          3.8985259692289165,
          1.0945130233629365,
          0.024143980569427938,
          0,
          0,
          0,
          0,
          0,
          0,
          0,
          0,
          0,
          0,
          0,
          0,
          0,
          0,
          0,
          0,
          0,
          0,
          0,
          0,
          0,
          0,
          0,
          0
         ]
        },
        {
         "line": {
          "width": 0.5
         },
         "mode": "lines",
         "name": "CPFE3.SA",
         "stackgroup": "one",
         "type": "scatter",
         "x": [
          7.413071320410464,
          7.428935355986014,
          7.530972409354055,
          7.658530235012296,
          7.794297465278026,
          7.969987264993337,
          8.166810723872135,
          8.37808868850131,
          8.599095925417345,
          8.836332848739241,
          9.098864924730677,
          9.390579217395777,
          9.69642011029552,
          10.013442550291737,
          10.371729474448962,
          10.74720288354375,
          11.127373940372749,
          11.52075973063573,
          11.917391145140408,
          12.316412394780077,
          12.721343086729126,
          13.133076809252797,
          13.553530602454067,
          13.975351598793882,
          14.40490097584386,
          14.843942256481592,
          15.296172159329975,
          15.753540619182584,
          16.232107250244766,
          16.71725931459229,
          17.222679183332964,
          17.741723445599952,
          18.267802316250574,
          18.81746722627311,
          19.374352423245043,
          19.931237620216972,
          20.488122817188618,
          21.045008014160548,
          21.602041443310956,
          22.176098057799344,
          22.75537981562587,
          23.334661573452685
         ],
         "y": [
          0,
          0,
          0,
          0,
          0,
          0,
          0,
          0,
          0,
          0,
          0,
          0,
          0,
          0,
          0,
          0,
          0,
          0,
          0,
          0,
          0,
          0,
          0,
          0,
          0,
          0,
          0,
          0,
          0,
          0,
          0,
          0,
          0,
          0,
          0,
          0,
          0,
          0,
          0,
          0,
          0,
          0
         ]
        },
        {
         "line": {
          "width": 0.5
         },
         "mode": "lines",
         "name": "CPLE3.SA",
         "stackgroup": "one",
         "type": "scatter",
         "x": [
          7.413071320410464,
          7.428935355986014,
          7.530972409354055,
          7.658530235012296,
          7.794297465278026,
          7.969987264993337,
          8.166810723872135,
          8.37808868850131,
          8.599095925417345,
          8.836332848739241,
          9.098864924730677,
          9.390579217395777,
          9.69642011029552,
          10.013442550291737,
          10.371729474448962,
          10.74720288354375,
          11.127373940372749,
          11.52075973063573,
          11.917391145140408,
          12.316412394780077,
          12.721343086729126,
          13.133076809252797,
          13.553530602454067,
          13.975351598793882,
          14.40490097584386,
          14.843942256481592,
          15.296172159329975,
          15.753540619182584,
          16.232107250244766,
          16.71725931459229,
          17.222679183332964,
          17.741723445599952,
          18.267802316250574,
          18.81746722627311,
          19.374352423245043,
          19.931237620216972,
          20.488122817188618,
          21.045008014160548,
          21.602041443310956,
          22.176098057799344,
          22.75537981562587,
          23.334661573452685
         ],
         "y": [
          0,
          0,
          0,
          0,
          0,
          0,
          0,
          0,
          0,
          0,
          0,
          0,
          0,
          0,
          0,
          0,
          0,
          0,
          0,
          0,
          0,
          0,
          0,
          0,
          0,
          0,
          0,
          0,
          0,
          0,
          0,
          0,
          0,
          0,
          0,
          0,
          0,
          0,
          0,
          0,
          0,
          0
         ]
        },
        {
         "line": {
          "width": 0.5
         },
         "mode": "lines",
         "name": "CSAN3.SA",
         "stackgroup": "one",
         "type": "scatter",
         "x": [
          7.413071320410464,
          7.428935355986014,
          7.530972409354055,
          7.658530235012296,
          7.794297465278026,
          7.969987264993337,
          8.166810723872135,
          8.37808868850131,
          8.599095925417345,
          8.836332848739241,
          9.098864924730677,
          9.390579217395777,
          9.69642011029552,
          10.013442550291737,
          10.371729474448962,
          10.74720288354375,
          11.127373940372749,
          11.52075973063573,
          11.917391145140408,
          12.316412394780077,
          12.721343086729126,
          13.133076809252797,
          13.553530602454067,
          13.975351598793882,
          14.40490097584386,
          14.843942256481592,
          15.296172159329975,
          15.753540619182584,
          16.232107250244766,
          16.71725931459229,
          17.222679183332964,
          17.741723445599952,
          18.267802316250574,
          18.81746722627311,
          19.374352423245043,
          19.931237620216972,
          20.488122817188618,
          21.045008014160548,
          21.602041443310956,
          22.176098057799344,
          22.75537981562587,
          23.334661573452685
         ],
         "y": [
          0,
          0,
          0,
          0,
          0,
          0,
          0,
          0,
          0,
          0,
          0,
          0,
          0,
          0,
          0,
          0,
          0,
          0,
          0,
          0,
          0,
          0,
          0,
          0,
          0,
          0,
          0,
          0,
          0,
          0,
          0,
          0,
          0,
          0,
          0,
          0,
          0,
          0,
          0,
          0,
          0,
          0
         ]
        },
        {
         "line": {
          "width": 0.5
         },
         "mode": "lines",
         "name": "CSMG3.SA",
         "stackgroup": "one",
         "type": "scatter",
         "x": [
          7.413071320410464,
          7.428935355986014,
          7.530972409354055,
          7.658530235012296,
          7.794297465278026,
          7.969987264993337,
          8.166810723872135,
          8.37808868850131,
          8.599095925417345,
          8.836332848739241,
          9.098864924730677,
          9.390579217395777,
          9.69642011029552,
          10.013442550291737,
          10.371729474448962,
          10.74720288354375,
          11.127373940372749,
          11.52075973063573,
          11.917391145140408,
          12.316412394780077,
          12.721343086729126,
          13.133076809252797,
          13.553530602454067,
          13.975351598793882,
          14.40490097584386,
          14.843942256481592,
          15.296172159329975,
          15.753540619182584,
          16.232107250244766,
          16.71725931459229,
          17.222679183332964,
          17.741723445599952,
          18.267802316250574,
          18.81746722627311,
          19.374352423245043,
          19.931237620216972,
          20.488122817188618,
          21.045008014160548,
          21.602041443310956,
          22.176098057799344,
          22.75537981562587,
          23.334661573452685
         ],
         "y": [
          0,
          0,
          0,
          0,
          0,
          0,
          0,
          0,
          0,
          0,
          0,
          0,
          0,
          0,
          0,
          0,
          0,
          0,
          0,
          0,
          0,
          0,
          0,
          0,
          0,
          0,
          0,
          0,
          0,
          0,
          0,
          0,
          0,
          0,
          0,
          0,
          0,
          0,
          0,
          0,
          0,
          0
         ]
        },
        {
         "line": {
          "width": 0.5
         },
         "mode": "lines",
         "name": "CSNA3.SA",
         "stackgroup": "one",
         "type": "scatter",
         "x": [
          7.413071320410464,
          7.428935355986014,
          7.530972409354055,
          7.658530235012296,
          7.794297465278026,
          7.969987264993337,
          8.166810723872135,
          8.37808868850131,
          8.599095925417345,
          8.836332848739241,
          9.098864924730677,
          9.390579217395777,
          9.69642011029552,
          10.013442550291737,
          10.371729474448962,
          10.74720288354375,
          11.127373940372749,
          11.52075973063573,
          11.917391145140408,
          12.316412394780077,
          12.721343086729126,
          13.133076809252797,
          13.553530602454067,
          13.975351598793882,
          14.40490097584386,
          14.843942256481592,
          15.296172159329975,
          15.753540619182584,
          16.232107250244766,
          16.71725931459229,
          17.222679183332964,
          17.741723445599952,
          18.267802316250574,
          18.81746722627311,
          19.374352423245043,
          19.931237620216972,
          20.488122817188618,
          21.045008014160548,
          21.602041443310956,
          22.176098057799344,
          22.75537981562587,
          23.334661573452685
         ],
         "y": [
          0,
          0,
          0,
          0,
          0,
          0,
          0,
          0,
          0,
          0,
          0,
          0,
          0,
          0,
          0,
          0,
          0,
          0,
          0,
          0,
          0,
          0,
          0,
          0,
          0,
          0,
          0,
          0,
          0,
          0,
          0,
          0,
          0,
          0,
          0,
          0,
          0,
          0,
          0,
          0,
          0,
          0
         ]
        },
        {
         "line": {
          "width": 0.5
         },
         "mode": "lines",
         "name": "CSRN3.SA",
         "stackgroup": "one",
         "type": "scatter",
         "x": [
          7.413071320410464,
          7.428935355986014,
          7.530972409354055,
          7.658530235012296,
          7.794297465278026,
          7.969987264993337,
          8.166810723872135,
          8.37808868850131,
          8.599095925417345,
          8.836332848739241,
          9.098864924730677,
          9.390579217395777,
          9.69642011029552,
          10.013442550291737,
          10.371729474448962,
          10.74720288354375,
          11.127373940372749,
          11.52075973063573,
          11.917391145140408,
          12.316412394780077,
          12.721343086729126,
          13.133076809252797,
          13.553530602454067,
          13.975351598793882,
          14.40490097584386,
          14.843942256481592,
          15.296172159329975,
          15.753540619182584,
          16.232107250244766,
          16.71725931459229,
          17.222679183332964,
          17.741723445599952,
          18.267802316250574,
          18.81746722627311,
          19.374352423245043,
          19.931237620216972,
          20.488122817188618,
          21.045008014160548,
          21.602041443310956,
          22.176098057799344,
          22.75537981562587,
          23.334661573452685
         ],
         "y": [
          4.208121941813387,
          3.9627873034106136,
          4.250988866204545,
          4.682250278695892,
          4.827945276886984,
          4.933577439569965,
          4.470978841680031,
          3.7585853761227623,
          3.5650876625634265,
          2.867869026568658,
          3.618310735964751,
          3.9246690200478738,
          4.020167958257661,
          4.870664116082437,
          4.915011554709147,
          4.4782541330853265,
          4.260690889763786,
          2.2803003100827675,
          2.11265944170568,
          2.046927624189545,
          2.745507328351156,
          2.789628674955529,
          2.345169245757734,
          2.3006370187800016,
          2.41843197098457,
          2.3907851252910373,
          2.3504318395494694,
          2.302768841717033,
          1.8427247701861948,
          0.8862672482135576,
          0,
          0,
          0,
          0,
          0,
          0,
          0,
          0,
          0,
          0,
          0,
          0
         ]
        },
        {
         "line": {
          "width": 0.5
         },
         "mode": "lines",
         "name": "CSUD3.SA",
         "stackgroup": "one",
         "type": "scatter",
         "x": [
          7.413071320410464,
          7.428935355986014,
          7.530972409354055,
          7.658530235012296,
          7.794297465278026,
          7.969987264993337,
          8.166810723872135,
          8.37808868850131,
          8.599095925417345,
          8.836332848739241,
          9.098864924730677,
          9.390579217395777,
          9.69642011029552,
          10.013442550291737,
          10.371729474448962,
          10.74720288354375,
          11.127373940372749,
          11.52075973063573,
          11.917391145140408,
          12.316412394780077,
          12.721343086729126,
          13.133076809252797,
          13.553530602454067,
          13.975351598793882,
          14.40490097584386,
          14.843942256481592,
          15.296172159329975,
          15.753540619182584,
          16.232107250244766,
          16.71725931459229,
          17.222679183332964,
          17.741723445599952,
          18.267802316250574,
          18.81746722627311,
          19.374352423245043,
          19.931237620216972,
          20.488122817188618,
          21.045008014160548,
          21.602041443310956,
          22.176098057799344,
          22.75537981562587,
          23.334661573452685
         ],
         "y": [
          0,
          0,
          0,
          0,
          0,
          0,
          0,
          0,
          0,
          0,
          0,
          0,
          0,
          0,
          0,
          0,
          0,
          0,
          0,
          0,
          0,
          0,
          0,
          0,
          0,
          0,
          0,
          0,
          0,
          0,
          0,
          0,
          0,
          0,
          0,
          0,
          0,
          0,
          0,
          0,
          0,
          0
         ]
        },
        {
         "line": {
          "width": 0.5
         },
         "mode": "lines",
         "name": "CYRE3.SA",
         "stackgroup": "one",
         "type": "scatter",
         "x": [
          7.413071320410464,
          7.428935355986014,
          7.530972409354055,
          7.658530235012296,
          7.794297465278026,
          7.969987264993337,
          8.166810723872135,
          8.37808868850131,
          8.599095925417345,
          8.836332848739241,
          9.098864924730677,
          9.390579217395777,
          9.69642011029552,
          10.013442550291737,
          10.371729474448962,
          10.74720288354375,
          11.127373940372749,
          11.52075973063573,
          11.917391145140408,
          12.316412394780077,
          12.721343086729126,
          13.133076809252797,
          13.553530602454067,
          13.975351598793882,
          14.40490097584386,
          14.843942256481592,
          15.296172159329975,
          15.753540619182584,
          16.232107250244766,
          16.71725931459229,
          17.222679183332964,
          17.741723445599952,
          18.267802316250574,
          18.81746722627311,
          19.374352423245043,
          19.931237620216972,
          20.488122817188618,
          21.045008014160548,
          21.602041443310956,
          22.176098057799344,
          22.75537981562587,
          23.334661573452685
         ],
         "y": [
          0,
          0,
          0,
          0,
          0,
          0,
          0,
          0,
          0,
          0,
          0,
          0,
          0,
          0,
          0,
          0,
          0,
          0,
          0,
          0,
          0,
          0,
          0,
          0,
          0,
          0,
          0,
          0,
          0,
          0,
          0,
          0,
          0,
          0,
          0,
          0,
          0,
          0,
          0,
          0,
          0,
          0
         ]
        },
        {
         "line": {
          "width": 0.5
         },
         "mode": "lines",
         "name": "DEXP3.SA",
         "stackgroup": "one",
         "type": "scatter",
         "x": [
          7.413071320410464,
          7.428935355986014,
          7.530972409354055,
          7.658530235012296,
          7.794297465278026,
          7.969987264993337,
          8.166810723872135,
          8.37808868850131,
          8.599095925417345,
          8.836332848739241,
          9.098864924730677,
          9.390579217395777,
          9.69642011029552,
          10.013442550291737,
          10.371729474448962,
          10.74720288354375,
          11.127373940372749,
          11.52075973063573,
          11.917391145140408,
          12.316412394780077,
          12.721343086729126,
          13.133076809252797,
          13.553530602454067,
          13.975351598793882,
          14.40490097584386,
          14.843942256481592,
          15.296172159329975,
          15.753540619182584,
          16.232107250244766,
          16.71725931459229,
          17.222679183332964,
          17.741723445599952,
          18.267802316250574,
          18.81746722627311,
          19.374352423245043,
          19.931237620216972,
          20.488122817188618,
          21.045008014160548,
          21.602041443310956,
          22.176098057799344,
          22.75537981562587,
          23.334661573452685
         ],
         "y": [
          0,
          0,
          0,
          0,
          0,
          0,
          0,
          0,
          0,
          0,
          0,
          0,
          0,
          0,
          0,
          0,
          0,
          0,
          0,
          0,
          0.15922045083554798,
          1.05423318895961,
          1.6691322018015695,
          1.9552186313066882,
          2.2323485760426434,
          1.9892681087145672,
          2.227539451671716,
          2.706008624556622,
          2.1992715929294686,
          0.9036168830746834,
          1.0517256897476597,
          0.20943416564933323,
          1.4327039996629745,
          0,
          0,
          0,
          0,
          0,
          0,
          0,
          0,
          0
         ]
        },
        {
         "line": {
          "width": 0.5
         },
         "mode": "lines",
         "name": "DIRR3.SA",
         "stackgroup": "one",
         "type": "scatter",
         "x": [
          7.413071320410464,
          7.428935355986014,
          7.530972409354055,
          7.658530235012296,
          7.794297465278026,
          7.969987264993337,
          8.166810723872135,
          8.37808868850131,
          8.599095925417345,
          8.836332848739241,
          9.098864924730677,
          9.390579217395777,
          9.69642011029552,
          10.013442550291737,
          10.371729474448962,
          10.74720288354375,
          11.127373940372749,
          11.52075973063573,
          11.917391145140408,
          12.316412394780077,
          12.721343086729126,
          13.133076809252797,
          13.553530602454067,
          13.975351598793882,
          14.40490097584386,
          14.843942256481592,
          15.296172159329975,
          15.753540619182584,
          16.232107250244766,
          16.71725931459229,
          17.222679183332964,
          17.741723445599952,
          18.267802316250574,
          18.81746722627311,
          19.374352423245043,
          19.931237620216972,
          20.488122817188618,
          21.045008014160548,
          21.602041443310956,
          22.176098057799344,
          22.75537981562587,
          23.334661573452685
         ],
         "y": [
          0,
          0,
          0,
          0,
          0,
          0,
          0,
          0,
          0,
          0,
          0,
          0,
          0,
          0,
          0,
          0,
          0,
          0,
          0,
          0,
          0,
          0,
          0,
          0,
          0,
          0,
          0,
          0,
          0,
          0,
          0,
          0,
          0,
          0,
          0,
          0,
          0,
          0,
          0,
          0,
          0,
          0
         ]
        },
        {
         "line": {
          "width": 0.5
         },
         "mode": "lines",
         "name": "ECOR3.SA",
         "stackgroup": "one",
         "type": "scatter",
         "x": [
          7.413071320410464,
          7.428935355986014,
          7.530972409354055,
          7.658530235012296,
          7.794297465278026,
          7.969987264993337,
          8.166810723872135,
          8.37808868850131,
          8.599095925417345,
          8.836332848739241,
          9.098864924730677,
          9.390579217395777,
          9.69642011029552,
          10.013442550291737,
          10.371729474448962,
          10.74720288354375,
          11.127373940372749,
          11.52075973063573,
          11.917391145140408,
          12.316412394780077,
          12.721343086729126,
          13.133076809252797,
          13.553530602454067,
          13.975351598793882,
          14.40490097584386,
          14.843942256481592,
          15.296172159329975,
          15.753540619182584,
          16.232107250244766,
          16.71725931459229,
          17.222679183332964,
          17.741723445599952,
          18.267802316250574,
          18.81746722627311,
          19.374352423245043,
          19.931237620216972,
          20.488122817188618,
          21.045008014160548,
          21.602041443310956,
          22.176098057799344,
          22.75537981562587,
          23.334661573452685
         ],
         "y": [
          0,
          0,
          0,
          0,
          0,
          0,
          0,
          0,
          0,
          0,
          0,
          0,
          0,
          0,
          0,
          0,
          0,
          0,
          0,
          0,
          0,
          0,
          0,
          0,
          0,
          0,
          0,
          0,
          0,
          0,
          0,
          0,
          0,
          0,
          0,
          0,
          0,
          0,
          0,
          0,
          0,
          0
         ]
        },
        {
         "line": {
          "width": 0.5
         },
         "mode": "lines",
         "name": "EGIE3.SA",
         "stackgroup": "one",
         "type": "scatter",
         "x": [
          7.413071320410464,
          7.428935355986014,
          7.530972409354055,
          7.658530235012296,
          7.794297465278026,
          7.969987264993337,
          8.166810723872135,
          8.37808868850131,
          8.599095925417345,
          8.836332848739241,
          9.098864924730677,
          9.390579217395777,
          9.69642011029552,
          10.013442550291737,
          10.371729474448962,
          10.74720288354375,
          11.127373940372749,
          11.52075973063573,
          11.917391145140408,
          12.316412394780077,
          12.721343086729126,
          13.133076809252797,
          13.553530602454067,
          13.975351598793882,
          14.40490097584386,
          14.843942256481592,
          15.296172159329975,
          15.753540619182584,
          16.232107250244766,
          16.71725931459229,
          17.222679183332964,
          17.741723445599952,
          18.267802316250574,
          18.81746722627311,
          19.374352423245043,
          19.931237620216972,
          20.488122817188618,
          21.045008014160548,
          21.602041443310956,
          22.176098057799344,
          22.75537981562587,
          23.334661573452685
         ],
         "y": [
          0,
          0,
          0,
          0,
          0,
          0,
          0,
          0,
          0,
          0,
          0,
          0,
          0,
          0,
          0,
          0,
          0.4594003019765642,
          0,
          0,
          0,
          0,
          0,
          0,
          0,
          1.5821037633145685,
          5.132637914084025,
          3.127054915212815,
          0,
          0,
          0,
          0,
          0,
          0,
          0,
          0,
          0,
          0,
          0,
          0,
          0,
          0,
          0
         ]
        },
        {
         "line": {
          "width": 0.5
         },
         "mode": "lines",
         "name": "ELET3.SA",
         "stackgroup": "one",
         "type": "scatter",
         "x": [
          7.413071320410464,
          7.428935355986014,
          7.530972409354055,
          7.658530235012296,
          7.794297465278026,
          7.969987264993337,
          8.166810723872135,
          8.37808868850131,
          8.599095925417345,
          8.836332848739241,
          9.098864924730677,
          9.390579217395777,
          9.69642011029552,
          10.013442550291737,
          10.371729474448962,
          10.74720288354375,
          11.127373940372749,
          11.52075973063573,
          11.917391145140408,
          12.316412394780077,
          12.721343086729126,
          13.133076809252797,
          13.553530602454067,
          13.975351598793882,
          14.40490097584386,
          14.843942256481592,
          15.296172159329975,
          15.753540619182584,
          16.232107250244766,
          16.71725931459229,
          17.222679183332964,
          17.741723445599952,
          18.267802316250574,
          18.81746722627311,
          19.374352423245043,
          19.931237620216972,
          20.488122817188618,
          21.045008014160548,
          21.602041443310956,
          22.176098057799344,
          22.75537981562587,
          23.334661573452685
         ],
         "y": [
          0,
          0,
          0,
          0,
          0,
          0,
          0,
          0,
          0,
          0,
          0,
          0,
          0,
          0,
          0,
          0,
          0,
          0,
          0,
          0,
          0,
          0,
          0,
          0,
          0,
          0,
          0,
          0,
          0,
          0,
          0,
          0,
          0,
          0,
          0,
          0,
          0,
          0,
          0,
          0,
          0,
          0
         ]
        },
        {
         "line": {
          "width": 0.5
         },
         "mode": "lines",
         "name": "EMBR3.SA",
         "stackgroup": "one",
         "type": "scatter",
         "x": [
          7.413071320410464,
          7.428935355986014,
          7.530972409354055,
          7.658530235012296,
          7.794297465278026,
          7.969987264993337,
          8.166810723872135,
          8.37808868850131,
          8.599095925417345,
          8.836332848739241,
          9.098864924730677,
          9.390579217395777,
          9.69642011029552,
          10.013442550291737,
          10.371729474448962,
          10.74720288354375,
          11.127373940372749,
          11.52075973063573,
          11.917391145140408,
          12.316412394780077,
          12.721343086729126,
          13.133076809252797,
          13.553530602454067,
          13.975351598793882,
          14.40490097584386,
          14.843942256481592,
          15.296172159329975,
          15.753540619182584,
          16.232107250244766,
          16.71725931459229,
          17.222679183332964,
          17.741723445599952,
          18.267802316250574,
          18.81746722627311,
          19.374352423245043,
          19.931237620216972,
          20.488122817188618,
          21.045008014160548,
          21.602041443310956,
          22.176098057799344,
          22.75537981562587,
          23.334661573452685
         ],
         "y": [
          0,
          0,
          0,
          0,
          0,
          0,
          0,
          0,
          0,
          0,
          0,
          0,
          0,
          0,
          0,
          0,
          0,
          0,
          0,
          0,
          0,
          0,
          0,
          0,
          0,
          0,
          0,
          0,
          0,
          0,
          0,
          0,
          0,
          0,
          0,
          0,
          0,
          0,
          0,
          0,
          0,
          0
         ]
        },
        {
         "line": {
          "width": 0.5
         },
         "mode": "lines",
         "name": "ENAT3.SA",
         "stackgroup": "one",
         "type": "scatter",
         "x": [
          7.413071320410464,
          7.428935355986014,
          7.530972409354055,
          7.658530235012296,
          7.794297465278026,
          7.969987264993337,
          8.166810723872135,
          8.37808868850131,
          8.599095925417345,
          8.836332848739241,
          9.098864924730677,
          9.390579217395777,
          9.69642011029552,
          10.013442550291737,
          10.371729474448962,
          10.74720288354375,
          11.127373940372749,
          11.52075973063573,
          11.917391145140408,
          12.316412394780077,
          12.721343086729126,
          13.133076809252797,
          13.553530602454067,
          13.975351598793882,
          14.40490097584386,
          14.843942256481592,
          15.296172159329975,
          15.753540619182584,
          16.232107250244766,
          16.71725931459229,
          17.222679183332964,
          17.741723445599952,
          18.267802316250574,
          18.81746722627311,
          19.374352423245043,
          19.931237620216972,
          20.488122817188618,
          21.045008014160548,
          21.602041443310956,
          22.176098057799344,
          22.75537981562587,
          23.334661573452685
         ],
         "y": [
          0,
          0,
          0,
          0,
          0,
          0,
          0,
          0,
          0,
          0,
          0,
          0,
          0,
          0,
          0,
          0,
          0,
          0,
          0,
          0,
          0,
          0,
          0,
          0,
          0,
          0,
          0,
          0,
          0,
          0,
          0,
          0,
          0,
          0,
          0,
          0,
          0,
          0,
          0,
          0,
          0,
          0
         ]
        },
        {
         "line": {
          "width": 0.5
         },
         "mode": "lines",
         "name": "ENGI3.SA",
         "stackgroup": "one",
         "type": "scatter",
         "x": [
          7.413071320410464,
          7.428935355986014,
          7.530972409354055,
          7.658530235012296,
          7.794297465278026,
          7.969987264993337,
          8.166810723872135,
          8.37808868850131,
          8.599095925417345,
          8.836332848739241,
          9.098864924730677,
          9.390579217395777,
          9.69642011029552,
          10.013442550291737,
          10.371729474448962,
          10.74720288354375,
          11.127373940372749,
          11.52075973063573,
          11.917391145140408,
          12.316412394780077,
          12.721343086729126,
          13.133076809252797,
          13.553530602454067,
          13.975351598793882,
          14.40490097584386,
          14.843942256481592,
          15.296172159329975,
          15.753540619182584,
          16.232107250244766,
          16.71725931459229,
          17.222679183332964,
          17.741723445599952,
          18.267802316250574,
          18.81746722627311,
          19.374352423245043,
          19.931237620216972,
          20.488122817188618,
          21.045008014160548,
          21.602041443310956,
          22.176098057799344,
          22.75537981562587,
          23.334661573452685
         ],
         "y": [
          3.81589844132784,
          3.0479204423087367,
          2.2472919321043245,
          0.9724731860862097,
          0.49641755826911993,
          0.34755371743941144,
          0.6221968026872856,
          1.075982182628854,
          1.092638481678889,
          1.3609030594133855,
          0,
          0,
          0,
          0,
          0,
          0,
          0,
          0,
          0,
          0,
          0,
          0,
          0,
          0,
          0,
          0,
          0,
          0,
          0,
          0,
          0,
          0,
          0,
          0,
          0,
          0,
          0,
          0,
          0,
          0,
          0,
          0
         ]
        },
        {
         "line": {
          "width": 0.5
         },
         "mode": "lines",
         "name": "EQPA3.SA",
         "stackgroup": "one",
         "type": "scatter",
         "x": [
          7.413071320410464,
          7.428935355986014,
          7.530972409354055,
          7.658530235012296,
          7.794297465278026,
          7.969987264993337,
          8.166810723872135,
          8.37808868850131,
          8.599095925417345,
          8.836332848739241,
          9.098864924730677,
          9.390579217395777,
          9.69642011029552,
          10.013442550291737,
          10.371729474448962,
          10.74720288354375,
          11.127373940372749,
          11.52075973063573,
          11.917391145140408,
          12.316412394780077,
          12.721343086729126,
          13.133076809252797,
          13.553530602454067,
          13.975351598793882,
          14.40490097584386,
          14.843942256481592,
          15.296172159329975,
          15.753540619182584,
          16.232107250244766,
          16.71725931459229,
          17.222679183332964,
          17.741723445599952,
          18.267802316250574,
          18.81746722627311,
          19.374352423245043,
          19.931237620216972,
          20.488122817188618,
          21.045008014160548,
          21.602041443310956,
          22.176098057799344,
          22.75537981562587,
          23.334661573452685
         ],
         "y": [
          0,
          0,
          0,
          0,
          0,
          0,
          0,
          0,
          0,
          0,
          0,
          0,
          0,
          0,
          0,
          0,
          0,
          0,
          0,
          0,
          0,
          0,
          0,
          0,
          0,
          0.11728848971397894,
          0,
          0,
          0,
          0,
          0,
          0,
          0,
          0,
          0,
          0,
          0,
          0,
          0,
          0,
          0,
          0
         ]
        },
        {
         "line": {
          "width": 0.5
         },
         "mode": "lines",
         "name": "EQTL3.SA",
         "stackgroup": "one",
         "type": "scatter",
         "x": [
          7.413071320410464,
          7.428935355986014,
          7.530972409354055,
          7.658530235012296,
          7.794297465278026,
          7.969987264993337,
          8.166810723872135,
          8.37808868850131,
          8.599095925417345,
          8.836332848739241,
          9.098864924730677,
          9.390579217395777,
          9.69642011029552,
          10.013442550291737,
          10.371729474448962,
          10.74720288354375,
          11.127373940372749,
          11.52075973063573,
          11.917391145140408,
          12.316412394780077,
          12.721343086729126,
          13.133076809252797,
          13.553530602454067,
          13.975351598793882,
          14.40490097584386,
          14.843942256481592,
          15.296172159329975,
          15.753540619182584,
          16.232107250244766,
          16.71725931459229,
          17.222679183332964,
          17.741723445599952,
          18.267802316250574,
          18.81746722627311,
          19.374352423245043,
          19.931237620216972,
          20.488122817188618,
          21.045008014160548,
          21.602041443310956,
          22.176098057799344,
          22.75537981562587,
          23.334661573452685
         ],
         "y": [
          0,
          0,
          0,
          0,
          0,
          0,
          0,
          0,
          0,
          0,
          0,
          0,
          0,
          0,
          0,
          0,
          0,
          0,
          0,
          0,
          0,
          0,
          0,
          0,
          0,
          0,
          0,
          0,
          0,
          0,
          0,
          0,
          0,
          0,
          0,
          0,
          0,
          0,
          0,
          0,
          0,
          0
         ]
        },
        {
         "line": {
          "width": 0.5
         },
         "mode": "lines",
         "name": "EUCA3.SA",
         "stackgroup": "one",
         "type": "scatter",
         "x": [
          7.413071320410464,
          7.428935355986014,
          7.530972409354055,
          7.658530235012296,
          7.794297465278026,
          7.969987264993337,
          8.166810723872135,
          8.37808868850131,
          8.599095925417345,
          8.836332848739241,
          9.098864924730677,
          9.390579217395777,
          9.69642011029552,
          10.013442550291737,
          10.371729474448962,
          10.74720288354375,
          11.127373940372749,
          11.52075973063573,
          11.917391145140408,
          12.316412394780077,
          12.721343086729126,
          13.133076809252797,
          13.553530602454067,
          13.975351598793882,
          14.40490097584386,
          14.843942256481592,
          15.296172159329975,
          15.753540619182584,
          16.232107250244766,
          16.71725931459229,
          17.222679183332964,
          17.741723445599952,
          18.267802316250574,
          18.81746722627311,
          19.374352423245043,
          19.931237620216972,
          20.488122817188618,
          21.045008014160548,
          21.602041443310956,
          22.176098057799344,
          22.75537981562587,
          23.334661573452685
         ],
         "y": [
          0,
          0,
          0,
          0,
          0,
          0,
          0,
          0,
          0,
          0,
          0,
          0,
          0,
          0,
          0,
          0,
          0,
          0,
          0,
          0,
          0,
          0,
          0,
          0,
          0,
          0,
          0,
          0,
          0,
          0,
          0,
          0,
          0,
          0,
          0,
          0,
          0,
          0,
          0,
          0,
          0,
          0
         ]
        },
        {
         "line": {
          "width": 0.5
         },
         "mode": "lines",
         "name": "EVEN3.SA",
         "stackgroup": "one",
         "type": "scatter",
         "x": [
          7.413071320410464,
          7.428935355986014,
          7.530972409354055,
          7.658530235012296,
          7.794297465278026,
          7.969987264993337,
          8.166810723872135,
          8.37808868850131,
          8.599095925417345,
          8.836332848739241,
          9.098864924730677,
          9.390579217395777,
          9.69642011029552,
          10.013442550291737,
          10.371729474448962,
          10.74720288354375,
          11.127373940372749,
          11.52075973063573,
          11.917391145140408,
          12.316412394780077,
          12.721343086729126,
          13.133076809252797,
          13.553530602454067,
          13.975351598793882,
          14.40490097584386,
          14.843942256481592,
          15.296172159329975,
          15.753540619182584,
          16.232107250244766,
          16.71725931459229,
          17.222679183332964,
          17.741723445599952,
          18.267802316250574,
          18.81746722627311,
          19.374352423245043,
          19.931237620216972,
          20.488122817188618,
          21.045008014160548,
          21.602041443310956,
          22.176098057799344,
          22.75537981562587,
          23.334661573452685
         ],
         "y": [
          0,
          0,
          0,
          0,
          0,
          0,
          0,
          0,
          0,
          0,
          0,
          0,
          0,
          0,
          0,
          0,
          0,
          0,
          0,
          0,
          0,
          0,
          0,
          0,
          0,
          0,
          0,
          0,
          0,
          0,
          0,
          0,
          0,
          0,
          0,
          0,
          0,
          0,
          0,
          0,
          0,
          0
         ]
        },
        {
         "line": {
          "width": 0.5
         },
         "mode": "lines",
         "name": "FLRY3.SA",
         "stackgroup": "one",
         "type": "scatter",
         "x": [
          7.413071320410464,
          7.428935355986014,
          7.530972409354055,
          7.658530235012296,
          7.794297465278026,
          7.969987264993337,
          8.166810723872135,
          8.37808868850131,
          8.599095925417345,
          8.836332848739241,
          9.098864924730677,
          9.390579217395777,
          9.69642011029552,
          10.013442550291737,
          10.371729474448962,
          10.74720288354375,
          11.127373940372749,
          11.52075973063573,
          11.917391145140408,
          12.316412394780077,
          12.721343086729126,
          13.133076809252797,
          13.553530602454067,
          13.975351598793882,
          14.40490097584386,
          14.843942256481592,
          15.296172159329975,
          15.753540619182584,
          16.232107250244766,
          16.71725931459229,
          17.222679183332964,
          17.741723445599952,
          18.267802316250574,
          18.81746722627311,
          19.374352423245043,
          19.931237620216972,
          20.488122817188618,
          21.045008014160548,
          21.602041443310956,
          22.176098057799344,
          22.75537981562587,
          23.334661573452685
         ],
         "y": [
          0,
          0,
          0,
          0,
          0,
          0,
          0,
          0,
          0,
          0,
          0,
          0,
          0,
          0,
          0,
          0,
          0,
          0,
          0,
          0,
          0,
          0,
          0,
          0,
          0,
          0,
          0,
          0,
          0,
          0,
          0,
          0,
          0,
          0,
          0,
          0,
          0,
          0,
          0,
          0,
          0,
          0
         ]
        },
        {
         "line": {
          "width": 0.5
         },
         "mode": "lines",
         "name": "FRAS3.SA",
         "stackgroup": "one",
         "type": "scatter",
         "x": [
          7.413071320410464,
          7.428935355986014,
          7.530972409354055,
          7.658530235012296,
          7.794297465278026,
          7.969987264993337,
          8.166810723872135,
          8.37808868850131,
          8.599095925417345,
          8.836332848739241,
          9.098864924730677,
          9.390579217395777,
          9.69642011029552,
          10.013442550291737,
          10.371729474448962,
          10.74720288354375,
          11.127373940372749,
          11.52075973063573,
          11.917391145140408,
          12.316412394780077,
          12.721343086729126,
          13.133076809252797,
          13.553530602454067,
          13.975351598793882,
          14.40490097584386,
          14.843942256481592,
          15.296172159329975,
          15.753540619182584,
          16.232107250244766,
          16.71725931459229,
          17.222679183332964,
          17.741723445599952,
          18.267802316250574,
          18.81746722627311,
          19.374352423245043,
          19.931237620216972,
          20.488122817188618,
          21.045008014160548,
          21.602041443310956,
          22.176098057799344,
          22.75537981562587,
          23.334661573452685
         ],
         "y": [
          0,
          0,
          0,
          0,
          0,
          0,
          0,
          0,
          0,
          0,
          0,
          0,
          0,
          0,
          0,
          0,
          0,
          0,
          0,
          0,
          0,
          0,
          0,
          0,
          0,
          0,
          0,
          0,
          0,
          0,
          0,
          0,
          0,
          0,
          0,
          0,
          0,
          0,
          0,
          0,
          0,
          0
         ]
        },
        {
         "line": {
          "width": 0.5
         },
         "mode": "lines",
         "name": "GOAU3.SA",
         "stackgroup": "one",
         "type": "scatter",
         "x": [
          7.413071320410464,
          7.428935355986014,
          7.530972409354055,
          7.658530235012296,
          7.794297465278026,
          7.969987264993337,
          8.166810723872135,
          8.37808868850131,
          8.599095925417345,
          8.836332848739241,
          9.098864924730677,
          9.390579217395777,
          9.69642011029552,
          10.013442550291737,
          10.371729474448962,
          10.74720288354375,
          11.127373940372749,
          11.52075973063573,
          11.917391145140408,
          12.316412394780077,
          12.721343086729126,
          13.133076809252797,
          13.553530602454067,
          13.975351598793882,
          14.40490097584386,
          14.843942256481592,
          15.296172159329975,
          15.753540619182584,
          16.232107250244766,
          16.71725931459229,
          17.222679183332964,
          17.741723445599952,
          18.267802316250574,
          18.81746722627311,
          19.374352423245043,
          19.931237620216972,
          20.488122817188618,
          21.045008014160548,
          21.602041443310956,
          22.176098057799344,
          22.75537981562587,
          23.334661573452685
         ],
         "y": [
          0,
          0,
          0,
          0,
          0,
          0,
          0,
          0,
          0,
          0,
          0,
          0,
          0,
          0,
          0,
          0,
          0,
          0,
          0,
          0,
          0,
          0,
          0,
          0,
          0,
          0,
          0,
          0,
          0,
          0,
          0,
          0,
          0,
          0,
          0,
          0,
          0,
          0,
          0,
          0,
          0,
          0
         ]
        },
        {
         "line": {
          "width": 0.5
         },
         "mode": "lines",
         "name": "GRND3.SA",
         "stackgroup": "one",
         "type": "scatter",
         "x": [
          7.413071320410464,
          7.428935355986014,
          7.530972409354055,
          7.658530235012296,
          7.794297465278026,
          7.969987264993337,
          8.166810723872135,
          8.37808868850131,
          8.599095925417345,
          8.836332848739241,
          9.098864924730677,
          9.390579217395777,
          9.69642011029552,
          10.013442550291737,
          10.371729474448962,
          10.74720288354375,
          11.127373940372749,
          11.52075973063573,
          11.917391145140408,
          12.316412394780077,
          12.721343086729126,
          13.133076809252797,
          13.553530602454067,
          13.975351598793882,
          14.40490097584386,
          14.843942256481592,
          15.296172159329975,
          15.753540619182584,
          16.232107250244766,
          16.71725931459229,
          17.222679183332964,
          17.741723445599952,
          18.267802316250574,
          18.81746722627311,
          19.374352423245043,
          19.931237620216972,
          20.488122817188618,
          21.045008014160548,
          21.602041443310956,
          22.176098057799344,
          22.75537981562587,
          23.334661573452685
         ],
         "y": [
          0,
          0,
          0,
          0,
          0,
          0,
          0,
          0,
          0,
          0,
          0,
          0,
          0,
          0,
          0,
          0,
          0,
          0,
          0,
          0,
          0,
          0,
          0,
          0,
          0,
          0,
          0,
          0,
          0,
          0,
          0,
          0,
          0,
          0,
          0,
          0,
          0,
          0,
          0,
          0,
          0,
          0
         ]
        },
        {
         "line": {
          "width": 0.5
         },
         "mode": "lines",
         "name": "IGTI3.SA",
         "stackgroup": "one",
         "type": "scatter",
         "x": [
          7.413071320410464,
          7.428935355986014,
          7.530972409354055,
          7.658530235012296,
          7.794297465278026,
          7.969987264993337,
          8.166810723872135,
          8.37808868850131,
          8.599095925417345,
          8.836332848739241,
          9.098864924730677,
          9.390579217395777,
          9.69642011029552,
          10.013442550291737,
          10.371729474448962,
          10.74720288354375,
          11.127373940372749,
          11.52075973063573,
          11.917391145140408,
          12.316412394780077,
          12.721343086729126,
          13.133076809252797,
          13.553530602454067,
          13.975351598793882,
          14.40490097584386,
          14.843942256481592,
          15.296172159329975,
          15.753540619182584,
          16.232107250244766,
          16.71725931459229,
          17.222679183332964,
          17.741723445599952,
          18.267802316250574,
          18.81746722627311,
          19.374352423245043,
          19.931237620216972,
          20.488122817188618,
          21.045008014160548,
          21.602041443310956,
          22.176098057799344,
          22.75537981562587,
          23.334661573452685
         ],
         "y": [
          0,
          0,
          0,
          0,
          0,
          0,
          0,
          0,
          0,
          0,
          0,
          0,
          0,
          0,
          0,
          0,
          0,
          0,
          0,
          0,
          0,
          0,
          0,
          0,
          0,
          0,
          0,
          0,
          0,
          0,
          0,
          0,
          0,
          0,
          0,
          0,
          0,
          0,
          0,
          0,
          0,
          0
         ]
        },
        {
         "line": {
          "width": 0.5
         },
         "mode": "lines",
         "name": "ITSA3.SA",
         "stackgroup": "one",
         "type": "scatter",
         "x": [
          7.413071320410464,
          7.428935355986014,
          7.530972409354055,
          7.658530235012296,
          7.794297465278026,
          7.969987264993337,
          8.166810723872135,
          8.37808868850131,
          8.599095925417345,
          8.836332848739241,
          9.098864924730677,
          9.390579217395777,
          9.69642011029552,
          10.013442550291737,
          10.371729474448962,
          10.74720288354375,
          11.127373940372749,
          11.52075973063573,
          11.917391145140408,
          12.316412394780077,
          12.721343086729126,
          13.133076809252797,
          13.553530602454067,
          13.975351598793882,
          14.40490097584386,
          14.843942256481592,
          15.296172159329975,
          15.753540619182584,
          16.232107250244766,
          16.71725931459229,
          17.222679183332964,
          17.741723445599952,
          18.267802316250574,
          18.81746722627311,
          19.374352423245043,
          19.931237620216972,
          20.488122817188618,
          21.045008014160548,
          21.602041443310956,
          22.176098057799344,
          22.75537981562587,
          23.334661573452685
         ],
         "y": [
          0,
          0,
          0,
          0,
          0,
          0,
          0,
          0,
          0,
          0,
          0,
          0,
          0,
          0,
          0,
          0,
          0,
          0,
          0,
          0,
          0,
          0,
          0,
          0,
          0,
          0,
          0,
          0,
          0,
          0,
          0,
          0,
          0,
          0,
          0,
          0,
          0,
          0,
          0,
          0,
          0,
          0
         ]
        },
        {
         "line": {
          "width": 0.5
         },
         "mode": "lines",
         "name": "ITUB3.SA",
         "stackgroup": "one",
         "type": "scatter",
         "x": [
          7.413071320410464,
          7.428935355986014,
          7.530972409354055,
          7.658530235012296,
          7.794297465278026,
          7.969987264993337,
          8.166810723872135,
          8.37808868850131,
          8.599095925417345,
          8.836332848739241,
          9.098864924730677,
          9.390579217395777,
          9.69642011029552,
          10.013442550291737,
          10.371729474448962,
          10.74720288354375,
          11.127373940372749,
          11.52075973063573,
          11.917391145140408,
          12.316412394780077,
          12.721343086729126,
          13.133076809252797,
          13.553530602454067,
          13.975351598793882,
          14.40490097584386,
          14.843942256481592,
          15.296172159329975,
          15.753540619182584,
          16.232107250244766,
          16.71725931459229,
          17.222679183332964,
          17.741723445599952,
          18.267802316250574,
          18.81746722627311,
          19.374352423245043,
          19.931237620216972,
          20.488122817188618,
          21.045008014160548,
          21.602041443310956,
          22.176098057799344,
          22.75537981562587,
          23.334661573452685
         ],
         "y": [
          0,
          0,
          0,
          0,
          0,
          0,
          0,
          0,
          0,
          0,
          0,
          0,
          0,
          0,
          0,
          0,
          0,
          0,
          0,
          0,
          0,
          0,
          0,
          0,
          0,
          0,
          0,
          0,
          0,
          0,
          0,
          0,
          0,
          0,
          0,
          0,
          0,
          0,
          0,
          0,
          0,
          0
         ]
        },
        {
         "line": {
          "width": 0.5
         },
         "mode": "lines",
         "name": "JBSS3.SA",
         "stackgroup": "one",
         "type": "scatter",
         "x": [
          7.413071320410464,
          7.428935355986014,
          7.530972409354055,
          7.658530235012296,
          7.794297465278026,
          7.969987264993337,
          8.166810723872135,
          8.37808868850131,
          8.599095925417345,
          8.836332848739241,
          9.098864924730677,
          9.390579217395777,
          9.69642011029552,
          10.013442550291737,
          10.371729474448962,
          10.74720288354375,
          11.127373940372749,
          11.52075973063573,
          11.917391145140408,
          12.316412394780077,
          12.721343086729126,
          13.133076809252797,
          13.553530602454067,
          13.975351598793882,
          14.40490097584386,
          14.843942256481592,
          15.296172159329975,
          15.753540619182584,
          16.232107250244766,
          16.71725931459229,
          17.222679183332964,
          17.741723445599952,
          18.267802316250574,
          18.81746722627311,
          19.374352423245043,
          19.931237620216972,
          20.488122817188618,
          21.045008014160548,
          21.602041443310956,
          22.176098057799344,
          22.75537981562587,
          23.334661573452685
         ],
         "y": [
          0,
          0,
          0,
          0,
          0,
          0,
          0,
          0,
          0,
          0,
          0,
          0,
          0,
          0,
          0,
          0,
          0,
          0,
          0,
          0,
          0,
          0,
          0,
          0,
          0,
          0,
          0,
          0,
          0,
          0,
          0,
          0,
          0,
          0,
          0,
          0,
          0,
          0,
          0,
          0,
          0,
          0
         ]
        },
        {
         "line": {
          "width": 0.5
         },
         "mode": "lines",
         "name": "JHSF3.SA",
         "stackgroup": "one",
         "type": "scatter",
         "x": [
          7.413071320410464,
          7.428935355986014,
          7.530972409354055,
          7.658530235012296,
          7.794297465278026,
          7.969987264993337,
          8.166810723872135,
          8.37808868850131,
          8.599095925417345,
          8.836332848739241,
          9.098864924730677,
          9.390579217395777,
          9.69642011029552,
          10.013442550291737,
          10.371729474448962,
          10.74720288354375,
          11.127373940372749,
          11.52075973063573,
          11.917391145140408,
          12.316412394780077,
          12.721343086729126,
          13.133076809252797,
          13.553530602454067,
          13.975351598793882,
          14.40490097584386,
          14.843942256481592,
          15.296172159329975,
          15.753540619182584,
          16.232107250244766,
          16.71725931459229,
          17.222679183332964,
          17.741723445599952,
          18.267802316250574,
          18.81746722627311,
          19.374352423245043,
          19.931237620216972,
          20.488122817188618,
          21.045008014160548,
          21.602041443310956,
          22.176098057799344,
          22.75537981562587,
          23.334661573452685
         ],
         "y": [
          0,
          0,
          0,
          0,
          0,
          0,
          0,
          0,
          0,
          0,
          0,
          0,
          0,
          0,
          0,
          0,
          0,
          0,
          0,
          0,
          0,
          0,
          0,
          0,
          0,
          0,
          0,
          0,
          0,
          0,
          0,
          0,
          0,
          0,
          0,
          0,
          0,
          0,
          0,
          0,
          0,
          0
         ]
        },
        {
         "line": {
          "width": 0.5
         },
         "mode": "lines",
         "name": "KEPL3.SA",
         "stackgroup": "one",
         "type": "scatter",
         "x": [
          7.413071320410464,
          7.428935355986014,
          7.530972409354055,
          7.658530235012296,
          7.794297465278026,
          7.969987264993337,
          8.166810723872135,
          8.37808868850131,
          8.599095925417345,
          8.836332848739241,
          9.098864924730677,
          9.390579217395777,
          9.69642011029552,
          10.013442550291737,
          10.371729474448962,
          10.74720288354375,
          11.127373940372749,
          11.52075973063573,
          11.917391145140408,
          12.316412394780077,
          12.721343086729126,
          13.133076809252797,
          13.553530602454067,
          13.975351598793882,
          14.40490097584386,
          14.843942256481592,
          15.296172159329975,
          15.753540619182584,
          16.232107250244766,
          16.71725931459229,
          17.222679183332964,
          17.741723445599952,
          18.267802316250574,
          18.81746722627311,
          19.374352423245043,
          19.931237620216972,
          20.488122817188618,
          21.045008014160548,
          21.602041443310956,
          22.176098057799344,
          22.75537981562587,
          23.334661573452685
         ],
         "y": [
          0,
          0,
          0,
          0,
          0,
          0,
          0,
          0,
          0,
          0,
          0,
          0,
          0,
          0,
          0,
          0,
          0,
          0,
          0,
          0,
          0,
          0,
          0,
          0,
          0,
          0,
          0,
          0,
          0,
          0,
          0,
          0,
          0,
          0,
          0,
          0,
          0,
          0,
          0,
          0,
          0,
          0
         ]
        },
        {
         "line": {
          "width": 0.5
         },
         "mode": "lines",
         "name": "KLBN3.SA",
         "stackgroup": "one",
         "type": "scatter",
         "x": [
          7.413071320410464,
          7.428935355986014,
          7.530972409354055,
          7.658530235012296,
          7.794297465278026,
          7.969987264993337,
          8.166810723872135,
          8.37808868850131,
          8.599095925417345,
          8.836332848739241,
          9.098864924730677,
          9.390579217395777,
          9.69642011029552,
          10.013442550291737,
          10.371729474448962,
          10.74720288354375,
          11.127373940372749,
          11.52075973063573,
          11.917391145140408,
          12.316412394780077,
          12.721343086729126,
          13.133076809252797,
          13.553530602454067,
          13.975351598793882,
          14.40490097584386,
          14.843942256481592,
          15.296172159329975,
          15.753540619182584,
          16.232107250244766,
          16.71725931459229,
          17.222679183332964,
          17.741723445599952,
          18.267802316250574,
          18.81746722627311,
          19.374352423245043,
          19.931237620216972,
          20.488122817188618,
          21.045008014160548,
          21.602041443310956,
          22.176098057799344,
          22.75537981562587,
          23.334661573452685
         ],
         "y": [
          0,
          0,
          0,
          0,
          0,
          0,
          0,
          0,
          0,
          0,
          0,
          0,
          0,
          0,
          0,
          0,
          0,
          0,
          0,
          0,
          0,
          0,
          0,
          0,
          0,
          0,
          0,
          0,
          0,
          0,
          0,
          0,
          0,
          0,
          0,
          0,
          0,
          0,
          0,
          0,
          0,
          0
         ]
        },
        {
         "line": {
          "width": 0.5
         },
         "mode": "lines",
         "name": "LEVE3.SA",
         "stackgroup": "one",
         "type": "scatter",
         "x": [
          7.413071320410464,
          7.428935355986014,
          7.530972409354055,
          7.658530235012296,
          7.794297465278026,
          7.969987264993337,
          8.166810723872135,
          8.37808868850131,
          8.599095925417345,
          8.836332848739241,
          9.098864924730677,
          9.390579217395777,
          9.69642011029552,
          10.013442550291737,
          10.371729474448962,
          10.74720288354375,
          11.127373940372749,
          11.52075973063573,
          11.917391145140408,
          12.316412394780077,
          12.721343086729126,
          13.133076809252797,
          13.553530602454067,
          13.975351598793882,
          14.40490097584386,
          14.843942256481592,
          15.296172159329975,
          15.753540619182584,
          16.232107250244766,
          16.71725931459229,
          17.222679183332964,
          17.741723445599952,
          18.267802316250574,
          18.81746722627311,
          19.374352423245043,
          19.931237620216972,
          20.488122817188618,
          21.045008014160548,
          21.602041443310956,
          22.176098057799344,
          22.75537981562587,
          23.334661573452685
         ],
         "y": [
          0,
          0,
          0,
          0,
          0,
          0,
          0,
          0,
          0,
          0,
          0,
          0,
          0,
          0,
          0,
          0,
          0,
          0,
          0,
          0,
          0,
          0,
          0,
          0,
          0,
          0,
          0,
          0,
          0,
          0,
          0,
          0,
          0,
          0,
          0,
          0,
          0,
          0,
          0,
          0,
          0,
          0
         ]
        },
        {
         "line": {
          "width": 0.5
         },
         "mode": "lines",
         "name": "LOGG3.SA",
         "stackgroup": "one",
         "type": "scatter",
         "x": [
          7.413071320410464,
          7.428935355986014,
          7.530972409354055,
          7.658530235012296,
          7.794297465278026,
          7.969987264993337,
          8.166810723872135,
          8.37808868850131,
          8.599095925417345,
          8.836332848739241,
          9.098864924730677,
          9.390579217395777,
          9.69642011029552,
          10.013442550291737,
          10.371729474448962,
          10.74720288354375,
          11.127373940372749,
          11.52075973063573,
          11.917391145140408,
          12.316412394780077,
          12.721343086729126,
          13.133076809252797,
          13.553530602454067,
          13.975351598793882,
          14.40490097584386,
          14.843942256481592,
          15.296172159329975,
          15.753540619182584,
          16.232107250244766,
          16.71725931459229,
          17.222679183332964,
          17.741723445599952,
          18.267802316250574,
          18.81746722627311,
          19.374352423245043,
          19.931237620216972,
          20.488122817188618,
          21.045008014160548,
          21.602041443310956,
          22.176098057799344,
          22.75537981562587,
          23.334661573452685
         ],
         "y": [
          0,
          0,
          0,
          0,
          0,
          0,
          0,
          0,
          0,
          0,
          0,
          0,
          0,
          0,
          0,
          0,
          0,
          0,
          0,
          0,
          0,
          0,
          0,
          0,
          0,
          0,
          0,
          0,
          0,
          0,
          0,
          0,
          0,
          0,
          0,
          0,
          0,
          0,
          0,
          0,
          0,
          0
         ]
        },
        {
         "line": {
          "width": 0.5
         },
         "mode": "lines",
         "name": "MDIA3.SA",
         "stackgroup": "one",
         "type": "scatter",
         "x": [
          7.413071320410464,
          7.428935355986014,
          7.530972409354055,
          7.658530235012296,
          7.794297465278026,
          7.969987264993337,
          8.166810723872135,
          8.37808868850131,
          8.599095925417345,
          8.836332848739241,
          9.098864924730677,
          9.390579217395777,
          9.69642011029552,
          10.013442550291737,
          10.371729474448962,
          10.74720288354375,
          11.127373940372749,
          11.52075973063573,
          11.917391145140408,
          12.316412394780077,
          12.721343086729126,
          13.133076809252797,
          13.553530602454067,
          13.975351598793882,
          14.40490097584386,
          14.843942256481592,
          15.296172159329975,
          15.753540619182584,
          16.232107250244766,
          16.71725931459229,
          17.222679183332964,
          17.741723445599952,
          18.267802316250574,
          18.81746722627311,
          19.374352423245043,
          19.931237620216972,
          20.488122817188618,
          21.045008014160548,
          21.602041443310956,
          22.176098057799344,
          22.75537981562587,
          23.334661573452685
         ],
         "y": [
          0,
          0,
          0,
          0,
          0,
          0,
          0,
          0,
          0,
          0,
          0,
          0,
          0,
          0,
          0,
          0,
          0,
          0,
          0,
          0,
          0,
          0,
          0,
          0,
          0,
          0,
          0,
          0,
          0,
          0,
          0,
          0,
          0,
          0,
          0,
          0,
          0,
          0,
          0,
          0,
          0,
          0
         ]
        },
        {
         "line": {
          "width": 0.5
         },
         "mode": "lines",
         "name": "MILS3.SA",
         "stackgroup": "one",
         "type": "scatter",
         "x": [
          7.413071320410464,
          7.428935355986014,
          7.530972409354055,
          7.658530235012296,
          7.794297465278026,
          7.969987264993337,
          8.166810723872135,
          8.37808868850131,
          8.599095925417345,
          8.836332848739241,
          9.098864924730677,
          9.390579217395777,
          9.69642011029552,
          10.013442550291737,
          10.371729474448962,
          10.74720288354375,
          11.127373940372749,
          11.52075973063573,
          11.917391145140408,
          12.316412394780077,
          12.721343086729126,
          13.133076809252797,
          13.553530602454067,
          13.975351598793882,
          14.40490097584386,
          14.843942256481592,
          15.296172159329975,
          15.753540619182584,
          16.232107250244766,
          16.71725931459229,
          17.222679183332964,
          17.741723445599952,
          18.267802316250574,
          18.81746722627311,
          19.374352423245043,
          19.931237620216972,
          20.488122817188618,
          21.045008014160548,
          21.602041443310956,
          22.176098057799344,
          22.75537981562587,
          23.334661573452685
         ],
         "y": [
          0,
          0,
          0,
          0,
          0,
          0,
          0,
          0,
          0,
          0,
          0,
          0,
          0,
          0,
          0,
          0,
          0,
          0,
          0,
          0,
          0,
          0,
          0,
          0,
          0,
          0,
          0,
          0,
          0,
          0,
          0,
          0,
          0,
          0,
          0,
          0,
          0,
          0,
          0,
          0,
          0,
          0
         ]
        },
        {
         "line": {
          "width": 0.5
         },
         "mode": "lines",
         "name": "MNPR3.SA",
         "stackgroup": "one",
         "type": "scatter",
         "x": [
          7.413071320410464,
          7.428935355986014,
          7.530972409354055,
          7.658530235012296,
          7.794297465278026,
          7.969987264993337,
          8.166810723872135,
          8.37808868850131,
          8.599095925417345,
          8.836332848739241,
          9.098864924730677,
          9.390579217395777,
          9.69642011029552,
          10.013442550291737,
          10.371729474448962,
          10.74720288354375,
          11.127373940372749,
          11.52075973063573,
          11.917391145140408,
          12.316412394780077,
          12.721343086729126,
          13.133076809252797,
          13.553530602454067,
          13.975351598793882,
          14.40490097584386,
          14.843942256481592,
          15.296172159329975,
          15.753540619182584,
          16.232107250244766,
          16.71725931459229,
          17.222679183332964,
          17.741723445599952,
          18.267802316250574,
          18.81746722627311,
          19.374352423245043,
          19.931237620216972,
          20.488122817188618,
          21.045008014160548,
          21.602041443310956,
          22.176098057799344,
          22.75537981562587,
          23.334661573452685
         ],
         "y": [
          0.8940496902349722,
          0.5154967592790599,
          0,
          0.4592865237247475,
          1.311058805652589,
          0.3361464771833779,
          0,
          0,
          0.5445003282323847,
          1.3428157542054648,
          1.9274467177578876,
          2.764388768867451,
          3.837676197808028,
          2.4356624677168988,
          2.812441855700469,
          4.015647649298717,
          4.71619757965946,
          4.635487719045646,
          2.9950477930481987,
          5.647170063559257,
          2.994655929965894,
          2.496713325787634,
          2.458929830619561,
          3.0403682627719997,
          1.1561379411337995,
          0.19643142613768727,
          0,
          0.19979726456424113,
          0.4368442094450179,
          1.5855642379991857,
          2.781965461257164,
          2.3502521823645437,
          1.5563964554655068,
          0,
          0,
          0,
          0,
          0,
          0,
          0,
          0,
          0
         ]
        },
        {
         "line": {
          "width": 0.5
         },
         "mode": "lines",
         "name": "MOAR3.SA",
         "stackgroup": "one",
         "type": "scatter",
         "x": [
          7.413071320410464,
          7.428935355986014,
          7.530972409354055,
          7.658530235012296,
          7.794297465278026,
          7.969987264993337,
          8.166810723872135,
          8.37808868850131,
          8.599095925417345,
          8.836332848739241,
          9.098864924730677,
          9.390579217395777,
          9.69642011029552,
          10.013442550291737,
          10.371729474448962,
          10.74720288354375,
          11.127373940372749,
          11.52075973063573,
          11.917391145140408,
          12.316412394780077,
          12.721343086729126,
          13.133076809252797,
          13.553530602454067,
          13.975351598793882,
          14.40490097584386,
          14.843942256481592,
          15.296172159329975,
          15.753540619182584,
          16.232107250244766,
          16.71725931459229,
          17.222679183332964,
          17.741723445599952,
          18.267802316250574,
          18.81746722627311,
          19.374352423245043,
          19.931237620216972,
          20.488122817188618,
          21.045008014160548,
          21.602041443310956,
          22.176098057799344,
          22.75537981562587,
          23.334661573452685
         ],
         "y": [
          5.452599812703832,
          5.728026807077736,
          5.038617910317745,
          6.007955908870372,
          4.395515383338979,
          4.359387860546608,
          4.768215122678268,
          4.392567587339606,
          4.902315547009772,
          4.988757572530058,
          4.8180789447447,
          5.708073664615284,
          6.301264471549191,
          6.936704213644948,
          7.515820495976709,
          7.9866778696954075,
          7.442176857444201,
          7.501681370354254,
          7.43854642978902,
          10.1064681938471,
          10.711259007615286,
          10.78122410249028,
          10.600894670254164,
          11.364272296814859,
          11.639509337216738,
          11.96231834406965,
          12.157651093793378,
          12.259723722056743,
          12.193947877584934,
          12.119830398862714,
          12.466873022302384,
          12.831981442322435,
          12.5479715855395,
          13.064443648748453,
          10.56849691181586,
          8.072550174883268,
          5.57660343795197,
          3.080656701019403,
          0.5907655523054549,
          0,
          0,
          0
         ]
        },
        {
         "line": {
          "width": 0.5
         },
         "mode": "lines",
         "name": "MOVI3.SA",
         "stackgroup": "one",
         "type": "scatter",
         "x": [
          7.413071320410464,
          7.428935355986014,
          7.530972409354055,
          7.658530235012296,
          7.794297465278026,
          7.969987264993337,
          8.166810723872135,
          8.37808868850131,
          8.599095925417345,
          8.836332848739241,
          9.098864924730677,
          9.390579217395777,
          9.69642011029552,
          10.013442550291737,
          10.371729474448962,
          10.74720288354375,
          11.127373940372749,
          11.52075973063573,
          11.917391145140408,
          12.316412394780077,
          12.721343086729126,
          13.133076809252797,
          13.553530602454067,
          13.975351598793882,
          14.40490097584386,
          14.843942256481592,
          15.296172159329975,
          15.753540619182584,
          16.232107250244766,
          16.71725931459229,
          17.222679183332964,
          17.741723445599952,
          18.267802316250574,
          18.81746722627311,
          19.374352423245043,
          19.931237620216972,
          20.488122817188618,
          21.045008014160548,
          21.602041443310956,
          22.176098057799344,
          22.75537981562587,
          23.334661573452685
         ],
         "y": [
          0,
          0,
          0,
          0,
          0,
          0,
          0,
          0,
          0,
          0,
          0,
          0,
          0,
          0,
          0,
          0,
          0,
          0,
          0,
          0,
          0,
          0,
          0,
          0,
          0,
          0,
          0,
          0,
          0,
          0,
          0,
          0,
          0,
          0,
          0,
          0,
          0,
          0,
          0,
          0,
          0,
          0
         ]
        },
        {
         "line": {
          "width": 0.5
         },
         "mode": "lines",
         "name": "MRFG3.SA",
         "stackgroup": "one",
         "type": "scatter",
         "x": [
          7.413071320410464,
          7.428935355986014,
          7.530972409354055,
          7.658530235012296,
          7.794297465278026,
          7.969987264993337,
          8.166810723872135,
          8.37808868850131,
          8.599095925417345,
          8.836332848739241,
          9.098864924730677,
          9.390579217395777,
          9.69642011029552,
          10.013442550291737,
          10.371729474448962,
          10.74720288354375,
          11.127373940372749,
          11.52075973063573,
          11.917391145140408,
          12.316412394780077,
          12.721343086729126,
          13.133076809252797,
          13.553530602454067,
          13.975351598793882,
          14.40490097584386,
          14.843942256481592,
          15.296172159329975,
          15.753540619182584,
          16.232107250244766,
          16.71725931459229,
          17.222679183332964,
          17.741723445599952,
          18.267802316250574,
          18.81746722627311,
          19.374352423245043,
          19.931237620216972,
          20.488122817188618,
          21.045008014160548,
          21.602041443310956,
          22.176098057799344,
          22.75537981562587,
          23.334661573452685
         ],
         "y": [
          0,
          0,
          0,
          0,
          0,
          0,
          0,
          0,
          0,
          0,
          0,
          0,
          0,
          0,
          0,
          0,
          0,
          0,
          0,
          0,
          0,
          0,
          0,
          0,
          0,
          0,
          0,
          0,
          0,
          0,
          0,
          0,
          0,
          0,
          0,
          0,
          0,
          0,
          0,
          0,
          0,
          0
         ]
        },
        {
         "line": {
          "width": 0.5
         },
         "mode": "lines",
         "name": "MRVE3.SA",
         "stackgroup": "one",
         "type": "scatter",
         "x": [
          7.413071320410464,
          7.428935355986014,
          7.530972409354055,
          7.658530235012296,
          7.794297465278026,
          7.969987264993337,
          8.166810723872135,
          8.37808868850131,
          8.599095925417345,
          8.836332848739241,
          9.098864924730677,
          9.390579217395777,
          9.69642011029552,
          10.013442550291737,
          10.371729474448962,
          10.74720288354375,
          11.127373940372749,
          11.52075973063573,
          11.917391145140408,
          12.316412394780077,
          12.721343086729126,
          13.133076809252797,
          13.553530602454067,
          13.975351598793882,
          14.40490097584386,
          14.843942256481592,
          15.296172159329975,
          15.753540619182584,
          16.232107250244766,
          16.71725931459229,
          17.222679183332964,
          17.741723445599952,
          18.267802316250574,
          18.81746722627311,
          19.374352423245043,
          19.931237620216972,
          20.488122817188618,
          21.045008014160548,
          21.602041443310956,
          22.176098057799344,
          22.75537981562587,
          23.334661573452685
         ],
         "y": [
          0,
          0,
          0,
          0,
          0,
          0,
          0,
          0,
          0,
          0,
          0,
          0,
          0,
          0,
          0,
          0,
          0,
          0,
          0,
          0,
          0,
          0,
          0,
          0,
          0,
          0,
          0,
          0,
          0,
          0,
          0,
          0,
          0,
          0,
          0,
          0,
          0,
          0,
          0,
          0,
          0,
          0
         ]
        },
        {
         "line": {
          "width": 0.5
         },
         "mode": "lines",
         "name": "MULT3.SA",
         "stackgroup": "one",
         "type": "scatter",
         "x": [
          7.413071320410464,
          7.428935355986014,
          7.530972409354055,
          7.658530235012296,
          7.794297465278026,
          7.969987264993337,
          8.166810723872135,
          8.37808868850131,
          8.599095925417345,
          8.836332848739241,
          9.098864924730677,
          9.390579217395777,
          9.69642011029552,
          10.013442550291737,
          10.371729474448962,
          10.74720288354375,
          11.127373940372749,
          11.52075973063573,
          11.917391145140408,
          12.316412394780077,
          12.721343086729126,
          13.133076809252797,
          13.553530602454067,
          13.975351598793882,
          14.40490097584386,
          14.843942256481592,
          15.296172159329975,
          15.753540619182584,
          16.232107250244766,
          16.71725931459229,
          17.222679183332964,
          17.741723445599952,
          18.267802316250574,
          18.81746722627311,
          19.374352423245043,
          19.931237620216972,
          20.488122817188618,
          21.045008014160548,
          21.602041443310956,
          22.176098057799344,
          22.75537981562587,
          23.334661573452685
         ],
         "y": [
          0,
          0,
          0,
          0,
          0,
          0,
          0,
          0,
          0,
          0,
          0,
          0,
          0,
          0,
          0,
          0,
          0,
          0,
          0,
          0,
          0,
          0,
          0,
          0,
          0,
          0,
          0,
          0,
          0,
          0,
          0,
          0,
          0,
          0,
          0,
          0,
          0,
          0,
          0,
          0,
          0,
          0
         ]
        },
        {
         "line": {
          "width": 0.5
         },
         "mode": "lines",
         "name": "NEOE3.SA",
         "stackgroup": "one",
         "type": "scatter",
         "x": [
          7.413071320410464,
          7.428935355986014,
          7.530972409354055,
          7.658530235012296,
          7.794297465278026,
          7.969987264993337,
          8.166810723872135,
          8.37808868850131,
          8.599095925417345,
          8.836332848739241,
          9.098864924730677,
          9.390579217395777,
          9.69642011029552,
          10.013442550291737,
          10.371729474448962,
          10.74720288354375,
          11.127373940372749,
          11.52075973063573,
          11.917391145140408,
          12.316412394780077,
          12.721343086729126,
          13.133076809252797,
          13.553530602454067,
          13.975351598793882,
          14.40490097584386,
          14.843942256481592,
          15.296172159329975,
          15.753540619182584,
          16.232107250244766,
          16.71725931459229,
          17.222679183332964,
          17.741723445599952,
          18.267802316250574,
          18.81746722627311,
          19.374352423245043,
          19.931237620216972,
          20.488122817188618,
          21.045008014160548,
          21.602041443310956,
          22.176098057799344,
          22.75537981562587,
          23.334661573452685
         ],
         "y": [
          0,
          0,
          0,
          0,
          0,
          0,
          0,
          0,
          0,
          0,
          0,
          0,
          0,
          0,
          0,
          0,
          0,
          0,
          0,
          0,
          0,
          0,
          0,
          0,
          0,
          0,
          0,
          0,
          0,
          0,
          0,
          0,
          0,
          0,
          0,
          0,
          0,
          0,
          0,
          0,
          0,
          0
         ]
        },
        {
         "line": {
          "width": 0.5
         },
         "mode": "lines",
         "name": "NUTR3.SA",
         "stackgroup": "one",
         "type": "scatter",
         "x": [
          7.413071320410464,
          7.428935355986014,
          7.530972409354055,
          7.658530235012296,
          7.794297465278026,
          7.969987264993337,
          8.166810723872135,
          8.37808868850131,
          8.599095925417345,
          8.836332848739241,
          9.098864924730677,
          9.390579217395777,
          9.69642011029552,
          10.013442550291737,
          10.371729474448962,
          10.74720288354375,
          11.127373940372749,
          11.52075973063573,
          11.917391145140408,
          12.316412394780077,
          12.721343086729126,
          13.133076809252797,
          13.553530602454067,
          13.975351598793882,
          14.40490097584386,
          14.843942256481592,
          15.296172159329975,
          15.753540619182584,
          16.232107250244766,
          16.71725931459229,
          17.222679183332964,
          17.741723445599952,
          18.267802316250574,
          18.81746722627311,
          19.374352423245043,
          19.931237620216972,
          20.488122817188618,
          21.045008014160548,
          21.602041443310956,
          22.176098057799344,
          22.75537981562587,
          23.334661573452685
         ],
         "y": [
          4.863143088421305,
          4.775214804843311,
          4.7342093025282885,
          4.734142480077579,
          4.524691057040968,
          4.624153800893954,
          4.780524725604341,
          4.798115201703017,
          5.0173646684797415,
          5.152265453408266,
          5.02094423411754,
          5.446546055177771,
          5.521394378387553,
          5.3797501587758205,
          5.215454723358062,
          5.313970439501852,
          5.536838722378893,
          5.408768588008302,
          5.447266157753204,
          5.420992562177568,
          4.968913417287519,
          5.233305671721764,
          5.151551027008199,
          5.024115988557223,
          4.81305290599409,
          4.620062380893828,
          4.776867611371736,
          4.955711063399236,
          5.552093718910214,
          6.239296144416929,
          6.125279118751415,
          6.1582546918169685,
          5.802662282321369,
          5.917596363530226,
          6.0956827653264565,
          6.273769167122688,
          6.451855568918825,
          6.629941970715055,
          6.801587545152472,
          4.953290604087263,
          2.4766453020446044,
          0
         ]
        },
        {
         "line": {
          "width": 0.5
         },
         "mode": "lines",
         "name": "ODPV3.SA",
         "stackgroup": "one",
         "type": "scatter",
         "x": [
          7.413071320410464,
          7.428935355986014,
          7.530972409354055,
          7.658530235012296,
          7.794297465278026,
          7.969987264993337,
          8.166810723872135,
          8.37808868850131,
          8.599095925417345,
          8.836332848739241,
          9.098864924730677,
          9.390579217395777,
          9.69642011029552,
          10.013442550291737,
          10.371729474448962,
          10.74720288354375,
          11.127373940372749,
          11.52075973063573,
          11.917391145140408,
          12.316412394780077,
          12.721343086729126,
          13.133076809252797,
          13.553530602454067,
          13.975351598793882,
          14.40490097584386,
          14.843942256481592,
          15.296172159329975,
          15.753540619182584,
          16.232107250244766,
          16.71725931459229,
          17.222679183332964,
          17.741723445599952,
          18.267802316250574,
          18.81746722627311,
          19.374352423245043,
          19.931237620216972,
          20.488122817188618,
          21.045008014160548,
          21.602041443310956,
          22.176098057799344,
          22.75537981562587,
          23.334661573452685
         ],
         "y": [
          0,
          0.00030888110736407363,
          0.18887415834597795,
          1.2338064782153286,
          0.9649124218144888,
          2.0887335544114634,
          1.8634890333825938,
          0,
          0.09530364733840879,
          0.060533880473801295,
          0,
          0,
          0,
          0.556764490376122,
          0.7508992941530923,
          0,
          0,
          0,
          0,
          0,
          0,
          0,
          0,
          0.8570966749237994,
          2.6386569966885323,
          3.691909321004509,
          1.9271181235583519,
          0.9768711016265305,
          0,
          0,
          0,
          0,
          0,
          0,
          0,
          0,
          0,
          0,
          0,
          0,
          0,
          0
         ]
        },
        {
         "line": {
          "width": 0.5
         },
         "mode": "lines",
         "name": "PETR3.SA",
         "stackgroup": "one",
         "type": "scatter",
         "x": [
          7.413071320410464,
          7.428935355986014,
          7.530972409354055,
          7.658530235012296,
          7.794297465278026,
          7.969987264993337,
          8.166810723872135,
          8.37808868850131,
          8.599095925417345,
          8.836332848739241,
          9.098864924730677,
          9.390579217395777,
          9.69642011029552,
          10.013442550291737,
          10.371729474448962,
          10.74720288354375,
          11.127373940372749,
          11.52075973063573,
          11.917391145140408,
          12.316412394780077,
          12.721343086729126,
          13.133076809252797,
          13.553530602454067,
          13.975351598793882,
          14.40490097584386,
          14.843942256481592,
          15.296172159329975,
          15.753540619182584,
          16.232107250244766,
          16.71725931459229,
          17.222679183332964,
          17.741723445599952,
          18.267802316250574,
          18.81746722627311,
          19.374352423245043,
          19.931237620216972,
          20.488122817188618,
          21.045008014160548,
          21.602041443310956,
          22.176098057799344,
          22.75537981562587,
          23.334661573452685
         ],
         "y": [
          0,
          0,
          0,
          0,
          0,
          0,
          0,
          0,
          0,
          0,
          0,
          0,
          0,
          0,
          0,
          0,
          0,
          0,
          0,
          0,
          0,
          0,
          0,
          0,
          0,
          0,
          0,
          0,
          0,
          0,
          0,
          0,
          0,
          0,
          0,
          0,
          0,
          0,
          0,
          0,
          0,
          0
         ]
        },
        {
         "line": {
          "width": 0.5
         },
         "mode": "lines",
         "name": "PFRM3.SA",
         "stackgroup": "one",
         "type": "scatter",
         "x": [
          7.413071320410464,
          7.428935355986014,
          7.530972409354055,
          7.658530235012296,
          7.794297465278026,
          7.969987264993337,
          8.166810723872135,
          8.37808868850131,
          8.599095925417345,
          8.836332848739241,
          9.098864924730677,
          9.390579217395777,
          9.69642011029552,
          10.013442550291737,
          10.371729474448962,
          10.74720288354375,
          11.127373940372749,
          11.52075973063573,
          11.917391145140408,
          12.316412394780077,
          12.721343086729126,
          13.133076809252797,
          13.553530602454067,
          13.975351598793882,
          14.40490097584386,
          14.843942256481592,
          15.296172159329975,
          15.753540619182584,
          16.232107250244766,
          16.71725931459229,
          17.222679183332964,
          17.741723445599952,
          18.267802316250574,
          18.81746722627311,
          19.374352423245043,
          19.931237620216972,
          20.488122817188618,
          21.045008014160548,
          21.602041443310956,
          22.176098057799344,
          22.75537981562587,
          23.334661573452685
         ],
         "y": [
          0,
          0,
          0,
          0,
          0,
          0,
          0,
          0,
          0,
          0,
          0,
          0,
          0,
          0,
          0,
          0,
          0,
          0,
          0,
          0,
          0,
          0,
          0,
          0,
          0,
          0,
          0,
          0,
          0,
          0,
          0,
          0,
          0,
          0,
          0,
          0,
          0,
          0,
          0,
          0,
          0,
          0
         ]
        },
        {
         "line": {
          "width": 0.5
         },
         "mode": "lines",
         "name": "PNVL3.SA",
         "stackgroup": "one",
         "type": "scatter",
         "x": [
          7.413071320410464,
          7.428935355986014,
          7.530972409354055,
          7.658530235012296,
          7.794297465278026,
          7.969987264993337,
          8.166810723872135,
          8.37808868850131,
          8.599095925417345,
          8.836332848739241,
          9.098864924730677,
          9.390579217395777,
          9.69642011029552,
          10.013442550291737,
          10.371729474448962,
          10.74720288354375,
          11.127373940372749,
          11.52075973063573,
          11.917391145140408,
          12.316412394780077,
          12.721343086729126,
          13.133076809252797,
          13.553530602454067,
          13.975351598793882,
          14.40490097584386,
          14.843942256481592,
          15.296172159329975,
          15.753540619182584,
          16.232107250244766,
          16.71725931459229,
          17.222679183332964,
          17.741723445599952,
          18.267802316250574,
          18.81746722627311,
          19.374352423245043,
          19.931237620216972,
          20.488122817188618,
          21.045008014160548,
          21.602041443310956,
          22.176098057799344,
          22.75537981562587,
          23.334661573452685
         ],
         "y": [
          0,
          0,
          0,
          0,
          0,
          0,
          0,
          0,
          0,
          0,
          0,
          0,
          0,
          0,
          0,
          0,
          0,
          0,
          0,
          0,
          0,
          0,
          0,
          0,
          0,
          0,
          0,
          0,
          0,
          0,
          0,
          0,
          0,
          0,
          0,
          0,
          0,
          0,
          0,
          0,
          0,
          0
         ]
        },
        {
         "line": {
          "width": 0.5
         },
         "mode": "lines",
         "name": "POMO3.SA",
         "stackgroup": "one",
         "type": "scatter",
         "x": [
          7.413071320410464,
          7.428935355986014,
          7.530972409354055,
          7.658530235012296,
          7.794297465278026,
          7.969987264993337,
          8.166810723872135,
          8.37808868850131,
          8.599095925417345,
          8.836332848739241,
          9.098864924730677,
          9.390579217395777,
          9.69642011029552,
          10.013442550291737,
          10.371729474448962,
          10.74720288354375,
          11.127373940372749,
          11.52075973063573,
          11.917391145140408,
          12.316412394780077,
          12.721343086729126,
          13.133076809252797,
          13.553530602454067,
          13.975351598793882,
          14.40490097584386,
          14.843942256481592,
          15.296172159329975,
          15.753540619182584,
          16.232107250244766,
          16.71725931459229,
          17.222679183332964,
          17.741723445599952,
          18.267802316250574,
          18.81746722627311,
          19.374352423245043,
          19.931237620216972,
          20.488122817188618,
          21.045008014160548,
          21.602041443310956,
          22.176098057799344,
          22.75537981562587,
          23.334661573452685
         ],
         "y": [
          0,
          0,
          0,
          0,
          0,
          0,
          0,
          0,
          0,
          0,
          0,
          0,
          0,
          0,
          0,
          0,
          0,
          0,
          0,
          0,
          0,
          0,
          0,
          0,
          0,
          0,
          0,
          0,
          0,
          0,
          0,
          0,
          0,
          0,
          0,
          0,
          0,
          0,
          0,
          0,
          0,
          0
         ]
        },
        {
         "line": {
          "width": 0.5
         },
         "mode": "lines",
         "name": "PRIO3.SA",
         "stackgroup": "one",
         "type": "scatter",
         "x": [
          7.413071320410464,
          7.428935355986014,
          7.530972409354055,
          7.658530235012296,
          7.794297465278026,
          7.969987264993337,
          8.166810723872135,
          8.37808868850131,
          8.599095925417345,
          8.836332848739241,
          9.098864924730677,
          9.390579217395777,
          9.69642011029552,
          10.013442550291737,
          10.371729474448962,
          10.74720288354375,
          11.127373940372749,
          11.52075973063573,
          11.917391145140408,
          12.316412394780077,
          12.721343086729126,
          13.133076809252797,
          13.553530602454067,
          13.975351598793882,
          14.40490097584386,
          14.843942256481592,
          15.296172159329975,
          15.753540619182584,
          16.232107250244766,
          16.71725931459229,
          17.222679183332964,
          17.741723445599952,
          18.267802316250574,
          18.81746722627311,
          19.374352423245043,
          19.931237620216972,
          20.488122817188618,
          21.045008014160548,
          21.602041443310956,
          22.176098057799344,
          22.75537981562587,
          23.334661573452685
         ],
         "y": [
          0,
          0,
          0,
          0,
          0,
          0,
          0,
          0,
          0,
          0,
          0,
          0,
          0,
          0,
          0,
          0,
          0,
          0,
          0,
          0,
          0,
          0,
          0,
          0,
          0,
          0,
          0,
          0,
          0,
          0,
          0,
          0,
          0,
          0,
          0,
          0,
          0,
          0,
          0,
          0,
          0,
          0
         ]
        },
        {
         "line": {
          "width": 0.5
         },
         "mode": "lines",
         "name": "PSSA3.SA",
         "stackgroup": "one",
         "type": "scatter",
         "x": [
          7.413071320410464,
          7.428935355986014,
          7.530972409354055,
          7.658530235012296,
          7.794297465278026,
          7.969987264993337,
          8.166810723872135,
          8.37808868850131,
          8.599095925417345,
          8.836332848739241,
          9.098864924730677,
          9.390579217395777,
          9.69642011029552,
          10.013442550291737,
          10.371729474448962,
          10.74720288354375,
          11.127373940372749,
          11.52075973063573,
          11.917391145140408,
          12.316412394780077,
          12.721343086729126,
          13.133076809252797,
          13.553530602454067,
          13.975351598793882,
          14.40490097584386,
          14.843942256481592,
          15.296172159329975,
          15.753540619182584,
          16.232107250244766,
          16.71725931459229,
          17.222679183332964,
          17.741723445599952,
          18.267802316250574,
          18.81746722627311,
          19.374352423245043,
          19.931237620216972,
          20.488122817188618,
          21.045008014160548,
          21.602041443310956,
          22.176098057799344,
          22.75537981562587,
          23.334661573452685
         ],
         "y": [
          0,
          0,
          0.7251551812246223,
          0,
          0,
          0,
          0,
          0,
          0,
          0,
          0,
          0.8122891904248477,
          0,
          0,
          0,
          0,
          0.09716904496596918,
          0.2852833823267502,
          0.24685816078942827,
          2.6288502956618247,
          3.888407624629666,
          3.4712901632448787,
          2.842592997742497,
          3.418118949962951,
          3.41706671618946,
          3.3285094924334095,
          3.9105111485610107,
          4.104530706460553,
          1.687982755274129,
          0,
          0,
          0,
          0,
          0,
          0,
          0,
          0,
          0,
          0,
          0,
          0,
          0
         ]
        },
        {
         "line": {
          "width": 0.5
         },
         "mode": "lines",
         "name": "PTNT3.SA",
         "stackgroup": "one",
         "type": "scatter",
         "x": [
          7.413071320410464,
          7.428935355986014,
          7.530972409354055,
          7.658530235012296,
          7.794297465278026,
          7.969987264993337,
          8.166810723872135,
          8.37808868850131,
          8.599095925417345,
          8.836332848739241,
          9.098864924730677,
          9.390579217395777,
          9.69642011029552,
          10.013442550291737,
          10.371729474448962,
          10.74720288354375,
          11.127373940372749,
          11.52075973063573,
          11.917391145140408,
          12.316412394780077,
          12.721343086729126,
          13.133076809252797,
          13.553530602454067,
          13.975351598793882,
          14.40490097584386,
          14.843942256481592,
          15.296172159329975,
          15.753540619182584,
          16.232107250244766,
          16.71725931459229,
          17.222679183332964,
          17.741723445599952,
          18.267802316250574,
          18.81746722627311,
          19.374352423245043,
          19.931237620216972,
          20.488122817188618,
          21.045008014160548,
          21.602041443310956,
          22.176098057799344,
          22.75537981562587,
          23.334661573452685
         ],
         "y": [
          0.3260022372944593,
          0.09511114453018843,
          0.24607786308232113,
          1.2999388072995446,
          1.4176215990598553,
          1.5618904945893612,
          2.0424793501324476,
          1.4678481187771928,
          0.9138999040138861,
          0,
          0,
          0,
          0,
          0,
          0,
          0,
          0,
          0,
          0,
          0,
          0,
          0,
          0,
          0,
          0,
          0,
          0,
          0.26953263305892755,
          0,
          0,
          0,
          0,
          0,
          0,
          0,
          0,
          0,
          0,
          0,
          0,
          0,
          0
         ]
        },
        {
         "line": {
          "width": 0.5
         },
         "mode": "lines",
         "name": "RADL3.SA",
         "stackgroup": "one",
         "type": "scatter",
         "x": [
          7.413071320410464,
          7.428935355986014,
          7.530972409354055,
          7.658530235012296,
          7.794297465278026,
          7.969987264993337,
          8.166810723872135,
          8.37808868850131,
          8.599095925417345,
          8.836332848739241,
          9.098864924730677,
          9.390579217395777,
          9.69642011029552,
          10.013442550291737,
          10.371729474448962,
          10.74720288354375,
          11.127373940372749,
          11.52075973063573,
          11.917391145140408,
          12.316412394780077,
          12.721343086729126,
          13.133076809252797,
          13.553530602454067,
          13.975351598793882,
          14.40490097584386,
          14.843942256481592,
          15.296172159329975,
          15.753540619182584,
          16.232107250244766,
          16.71725931459229,
          17.222679183332964,
          17.741723445599952,
          18.267802316250574,
          18.81746722627311,
          19.374352423245043,
          19.931237620216972,
          20.488122817188618,
          21.045008014160548,
          21.602041443310956,
          22.176098057799344,
          22.75537981562587,
          23.334661573452685
         ],
         "y": [
          0,
          0.9710205193589345,
          1.3119094377994072,
          2.5272869700016907,
          3.3931376852723996,
          2.743002429009176,
          3.8622695219584475,
          4.008371959838172,
          3.454940470813058,
          2.471952632976724,
          0,
          0,
          0,
          0,
          0,
          0,
          0,
          0,
          0,
          0,
          0,
          0,
          0,
          0,
          0,
          0,
          0,
          0,
          0,
          0,
          0,
          0,
          0,
          0,
          0,
          0,
          0,
          0,
          0,
          0,
          0,
          0
         ]
        },
        {
         "line": {
          "width": 0.5
         },
         "mode": "lines",
         "name": "RAIL3.SA",
         "stackgroup": "one",
         "type": "scatter",
         "x": [
          7.413071320410464,
          7.428935355986014,
          7.530972409354055,
          7.658530235012296,
          7.794297465278026,
          7.969987264993337,
          8.166810723872135,
          8.37808868850131,
          8.599095925417345,
          8.836332848739241,
          9.098864924730677,
          9.390579217395777,
          9.69642011029552,
          10.013442550291737,
          10.371729474448962,
          10.74720288354375,
          11.127373940372749,
          11.52075973063573,
          11.917391145140408,
          12.316412394780077,
          12.721343086729126,
          13.133076809252797,
          13.553530602454067,
          13.975351598793882,
          14.40490097584386,
          14.843942256481592,
          15.296172159329975,
          15.753540619182584,
          16.232107250244766,
          16.71725931459229,
          17.222679183332964,
          17.741723445599952,
          18.267802316250574,
          18.81746722627311,
          19.374352423245043,
          19.931237620216972,
          20.488122817188618,
          21.045008014160548,
          21.602041443310956,
          22.176098057799344,
          22.75537981562587,
          23.334661573452685
         ],
         "y": [
          0,
          0,
          0,
          0,
          0,
          0,
          0,
          0,
          0,
          0,
          0,
          0,
          0,
          0,
          0,
          0,
          0,
          0,
          0,
          0,
          0,
          0,
          0,
          0,
          0,
          0,
          0,
          0,
          0,
          0,
          0,
          0,
          0,
          0,
          0,
          0,
          0,
          0,
          0,
          0,
          0,
          0
         ]
        },
        {
         "line": {
          "width": 0.5
         },
         "mode": "lines",
         "name": "RANI3.SA",
         "stackgroup": "one",
         "type": "scatter",
         "x": [
          7.413071320410464,
          7.428935355986014,
          7.530972409354055,
          7.658530235012296,
          7.794297465278026,
          7.969987264993337,
          8.166810723872135,
          8.37808868850131,
          8.599095925417345,
          8.836332848739241,
          9.098864924730677,
          9.390579217395777,
          9.69642011029552,
          10.013442550291737,
          10.371729474448962,
          10.74720288354375,
          11.127373940372749,
          11.52075973063573,
          11.917391145140408,
          12.316412394780077,
          12.721343086729126,
          13.133076809252797,
          13.553530602454067,
          13.975351598793882,
          14.40490097584386,
          14.843942256481592,
          15.296172159329975,
          15.753540619182584,
          16.232107250244766,
          16.71725931459229,
          17.222679183332964,
          17.741723445599952,
          18.267802316250574,
          18.81746722627311,
          19.374352423245043,
          19.931237620216972,
          20.488122817188618,
          21.045008014160548,
          21.602041443310956,
          22.176098057799344,
          22.75537981562587,
          23.334661573452685
         ],
         "y": [
          0,
          0,
          0,
          0,
          0,
          0,
          0,
          0,
          0,
          0,
          0,
          0,
          0,
          0,
          0,
          0,
          0,
          0,
          0,
          0,
          0,
          0,
          0,
          0,
          0,
          0,
          0,
          0.5395821466261073,
          2.4511091456344625,
          4.102201221775198,
          2.416589909347331,
          2.1126893267854876,
          0,
          0,
          0,
          0,
          0,
          0,
          0,
          0,
          0,
          0
         ]
        },
        {
         "line": {
          "width": 0.5
         },
         "mode": "lines",
         "name": "RAPT3.SA",
         "stackgroup": "one",
         "type": "scatter",
         "x": [
          7.413071320410464,
          7.428935355986014,
          7.530972409354055,
          7.658530235012296,
          7.794297465278026,
          7.969987264993337,
          8.166810723872135,
          8.37808868850131,
          8.599095925417345,
          8.836332848739241,
          9.098864924730677,
          9.390579217395777,
          9.69642011029552,
          10.013442550291737,
          10.371729474448962,
          10.74720288354375,
          11.127373940372749,
          11.52075973063573,
          11.917391145140408,
          12.316412394780077,
          12.721343086729126,
          13.133076809252797,
          13.553530602454067,
          13.975351598793882,
          14.40490097584386,
          14.843942256481592,
          15.296172159329975,
          15.753540619182584,
          16.232107250244766,
          16.71725931459229,
          17.222679183332964,
          17.741723445599952,
          18.267802316250574,
          18.81746722627311,
          19.374352423245043,
          19.931237620216972,
          20.488122817188618,
          21.045008014160548,
          21.602041443310956,
          22.176098057799344,
          22.75537981562587,
          23.334661573452685
         ],
         "y": [
          0,
          0,
          0,
          0,
          0,
          0,
          0,
          0,
          0,
          0,
          0,
          0,
          0,
          0,
          0,
          0,
          0,
          0,
          0,
          0,
          0,
          0,
          0,
          0,
          0,
          0,
          0,
          0,
          0,
          0,
          0,
          0,
          0,
          0,
          0,
          0,
          0,
          0,
          0,
          0,
          0,
          0
         ]
        },
        {
         "line": {
          "width": 0.5
         },
         "mode": "lines",
         "name": "REDE3.SA",
         "stackgroup": "one",
         "type": "scatter",
         "x": [
          7.413071320410464,
          7.428935355986014,
          7.530972409354055,
          7.658530235012296,
          7.794297465278026,
          7.969987264993337,
          8.166810723872135,
          8.37808868850131,
          8.599095925417345,
          8.836332848739241,
          9.098864924730677,
          9.390579217395777,
          9.69642011029552,
          10.013442550291737,
          10.371729474448962,
          10.74720288354375,
          11.127373940372749,
          11.52075973063573,
          11.917391145140408,
          12.316412394780077,
          12.721343086729126,
          13.133076809252797,
          13.553530602454067,
          13.975351598793882,
          14.40490097584386,
          14.843942256481592,
          15.296172159329975,
          15.753540619182584,
          16.232107250244766,
          16.71725931459229,
          17.222679183332964,
          17.741723445599952,
          18.267802316250574,
          18.81746722627311,
          19.374352423245043,
          19.931237620216972,
          20.488122817188618,
          21.045008014160548,
          21.602041443310956,
          22.176098057799344,
          22.75537981562587,
          23.334661573452685
         ],
         "y": [
          10.716116321841378,
          10.410894828815643,
          10.538666388728402,
          10.175945814581805,
          10.434770035316273,
          10.706179540343715,
          10.4290907385412,
          10.903093797809559,
          10.984260337967756,
          11.087120339607717,
          11.772593767470534,
          10.670015584703528,
          10.252518792577565,
          9.875259521659203,
          9.35541799958224,
          8.852041093327168,
          9.118276403724918,
          7.055138235918752,
          7.603063056817276,
          3.3602881016841835,
          2.1044984858571385,
          2.820770061002598,
          1.3970186787947667,
          0,
          0,
          0,
          0,
          0,
          0,
          0,
          0,
          0,
          0,
          0,
          0,
          0,
          0,
          0,
          0,
          0,
          0,
          0
         ]
        },
        {
         "line": {
          "width": 0.5
         },
         "mode": "lines",
         "name": "RENT3.SA",
         "stackgroup": "one",
         "type": "scatter",
         "x": [
          7.413071320410464,
          7.428935355986014,
          7.530972409354055,
          7.658530235012296,
          7.794297465278026,
          7.969987264993337,
          8.166810723872135,
          8.37808868850131,
          8.599095925417345,
          8.836332848739241,
          9.098864924730677,
          9.390579217395777,
          9.69642011029552,
          10.013442550291737,
          10.371729474448962,
          10.74720288354375,
          11.127373940372749,
          11.52075973063573,
          11.917391145140408,
          12.316412394780077,
          12.721343086729126,
          13.133076809252797,
          13.553530602454067,
          13.975351598793882,
          14.40490097584386,
          14.843942256481592,
          15.296172159329975,
          15.753540619182584,
          16.232107250244766,
          16.71725931459229,
          17.222679183332964,
          17.741723445599952,
          18.267802316250574,
          18.81746722627311,
          19.374352423245043,
          19.931237620216972,
          20.488122817188618,
          21.045008014160548,
          21.602041443310956,
          22.176098057799344,
          22.75537981562587,
          23.334661573452685
         ],
         "y": [
          0,
          0,
          0,
          0,
          0,
          0,
          0,
          0,
          0,
          0,
          0,
          0,
          0,
          0,
          0,
          0,
          0,
          0,
          0,
          0,
          0,
          0,
          0,
          0,
          0,
          0,
          0,
          0,
          0,
          0,
          0,
          0,
          0,
          0,
          0,
          0,
          0,
          0,
          0,
          0,
          0,
          0
         ]
        },
        {
         "line": {
          "width": 0.5
         },
         "mode": "lines",
         "name": "SANB3.SA",
         "stackgroup": "one",
         "type": "scatter",
         "x": [
          7.413071320410464,
          7.428935355986014,
          7.530972409354055,
          7.658530235012296,
          7.794297465278026,
          7.969987264993337,
          8.166810723872135,
          8.37808868850131,
          8.599095925417345,
          8.836332848739241,
          9.098864924730677,
          9.390579217395777,
          9.69642011029552,
          10.013442550291737,
          10.371729474448962,
          10.74720288354375,
          11.127373940372749,
          11.52075973063573,
          11.917391145140408,
          12.316412394780077,
          12.721343086729126,
          13.133076809252797,
          13.553530602454067,
          13.975351598793882,
          14.40490097584386,
          14.843942256481592,
          15.296172159329975,
          15.753540619182584,
          16.232107250244766,
          16.71725931459229,
          17.222679183332964,
          17.741723445599952,
          18.267802316250574,
          18.81746722627311,
          19.374352423245043,
          19.931237620216972,
          20.488122817188618,
          21.045008014160548,
          21.602041443310956,
          22.176098057799344,
          22.75537981562587,
          23.334661573452685
         ],
         "y": [
          0,
          0,
          0,
          0,
          0,
          0,
          0,
          0,
          0,
          0,
          0,
          0,
          0,
          0,
          0,
          0,
          0,
          0,
          0,
          0,
          0,
          0,
          0,
          0,
          0,
          0,
          0,
          0,
          0,
          0,
          0,
          0,
          0,
          0,
          0,
          0,
          0,
          0,
          0,
          0,
          0,
          0
         ]
        },
        {
         "line": {
          "width": 0.5
         },
         "mode": "lines",
         "name": "SAPR3.SA",
         "stackgroup": "one",
         "type": "scatter",
         "x": [
          7.413071320410464,
          7.428935355986014,
          7.530972409354055,
          7.658530235012296,
          7.794297465278026,
          7.969987264993337,
          8.166810723872135,
          8.37808868850131,
          8.599095925417345,
          8.836332848739241,
          9.098864924730677,
          9.390579217395777,
          9.69642011029552,
          10.013442550291737,
          10.371729474448962,
          10.74720288354375,
          11.127373940372749,
          11.52075973063573,
          11.917391145140408,
          12.316412394780077,
          12.721343086729126,
          13.133076809252797,
          13.553530602454067,
          13.975351598793882,
          14.40490097584386,
          14.843942256481592,
          15.296172159329975,
          15.753540619182584,
          16.232107250244766,
          16.71725931459229,
          17.222679183332964,
          17.741723445599952,
          18.267802316250574,
          18.81746722627311,
          19.374352423245043,
          19.931237620216972,
          20.488122817188618,
          21.045008014160548,
          21.602041443310956,
          22.176098057799344,
          22.75537981562587,
          23.334661573452685
         ],
         "y": [
          0,
          0,
          0,
          0,
          0,
          0,
          0,
          0,
          0,
          0,
          0,
          0,
          0,
          0,
          0,
          0,
          0,
          0,
          0,
          0,
          0,
          0,
          0,
          0,
          0,
          0,
          0,
          0,
          0,
          0,
          0,
          0,
          0,
          0,
          0,
          0,
          0,
          0,
          0,
          0,
          0,
          0
         ]
        },
        {
         "line": {
          "width": 0.5
         },
         "mode": "lines",
         "name": "SBSP3.SA",
         "stackgroup": "one",
         "type": "scatter",
         "x": [
          7.413071320410464,
          7.428935355986014,
          7.530972409354055,
          7.658530235012296,
          7.794297465278026,
          7.969987264993337,
          8.166810723872135,
          8.37808868850131,
          8.599095925417345,
          8.836332848739241,
          9.098864924730677,
          9.390579217395777,
          9.69642011029552,
          10.013442550291737,
          10.371729474448962,
          10.74720288354375,
          11.127373940372749,
          11.52075973063573,
          11.917391145140408,
          12.316412394780077,
          12.721343086729126,
          13.133076809252797,
          13.553530602454067,
          13.975351598793882,
          14.40490097584386,
          14.843942256481592,
          15.296172159329975,
          15.753540619182584,
          16.232107250244766,
          16.71725931459229,
          17.222679183332964,
          17.741723445599952,
          18.267802316250574,
          18.81746722627311,
          19.374352423245043,
          19.931237620216972,
          20.488122817188618,
          21.045008014160548,
          21.602041443310956,
          22.176098057799344,
          22.75537981562587,
          23.334661573452685
         ],
         "y": [
          0,
          0,
          0,
          0,
          0,
          0,
          0,
          0,
          0,
          0,
          0,
          0,
          0,
          0,
          0,
          0,
          0,
          0,
          0,
          0,
          0,
          0,
          0,
          0,
          0,
          0,
          0,
          0,
          0,
          0,
          0,
          0,
          0,
          0,
          0,
          0,
          0,
          0,
          0,
          0,
          0,
          0
         ]
        },
        {
         "line": {
          "width": 0.5
         },
         "mode": "lines",
         "name": "SCAR3.SA",
         "stackgroup": "one",
         "type": "scatter",
         "x": [
          7.413071320410464,
          7.428935355986014,
          7.530972409354055,
          7.658530235012296,
          7.794297465278026,
          7.969987264993337,
          8.166810723872135,
          8.37808868850131,
          8.599095925417345,
          8.836332848739241,
          9.098864924730677,
          9.390579217395777,
          9.69642011029552,
          10.013442550291737,
          10.371729474448962,
          10.74720288354375,
          11.127373940372749,
          11.52075973063573,
          11.917391145140408,
          12.316412394780077,
          12.721343086729126,
          13.133076809252797,
          13.553530602454067,
          13.975351598793882,
          14.40490097584386,
          14.843942256481592,
          15.296172159329975,
          15.753540619182584,
          16.232107250244766,
          16.71725931459229,
          17.222679183332964,
          17.741723445599952,
          18.267802316250574,
          18.81746722627311,
          19.374352423245043,
          19.931237620216972,
          20.488122817188618,
          21.045008014160548,
          21.602041443310956,
          22.176098057799344,
          22.75537981562587,
          23.334661573452685
         ],
         "y": [
          0,
          0,
          0,
          0,
          0,
          0,
          0,
          0,
          0,
          0,
          0,
          0,
          0,
          0,
          0,
          0,
          0,
          0,
          0,
          0,
          0,
          0,
          0,
          0,
          0,
          0,
          0,
          0,
          0,
          0,
          0,
          0,
          0,
          0,
          0,
          0,
          0,
          0,
          0,
          0,
          0,
          0
         ]
        },
        {
         "line": {
          "width": 0.5
         },
         "mode": "lines",
         "name": "STBP3.SA",
         "stackgroup": "one",
         "type": "scatter",
         "x": [
          7.413071320410464,
          7.428935355986014,
          7.530972409354055,
          7.658530235012296,
          7.794297465278026,
          7.969987264993337,
          8.166810723872135,
          8.37808868850131,
          8.599095925417345,
          8.836332848739241,
          9.098864924730677,
          9.390579217395777,
          9.69642011029552,
          10.013442550291737,
          10.371729474448962,
          10.74720288354375,
          11.127373940372749,
          11.52075973063573,
          11.917391145140408,
          12.316412394780077,
          12.721343086729126,
          13.133076809252797,
          13.553530602454067,
          13.975351598793882,
          14.40490097584386,
          14.843942256481592,
          15.296172159329975,
          15.753540619182584,
          16.232107250244766,
          16.71725931459229,
          17.222679183332964,
          17.741723445599952,
          18.267802316250574,
          18.81746722627311,
          19.374352423245043,
          19.931237620216972,
          20.488122817188618,
          21.045008014160548,
          21.602041443310956,
          22.176098057799344,
          22.75537981562587,
          23.334661573452685
         ],
         "y": [
          0,
          0,
          0,
          0,
          0,
          0,
          0,
          0,
          0,
          0,
          0,
          0,
          0,
          0,
          0,
          0,
          0,
          0,
          0,
          0,
          0,
          0,
          0,
          0,
          0,
          0,
          0,
          0,
          0,
          0,
          0,
          0,
          0,
          0,
          0,
          0,
          0,
          0,
          0,
          0,
          0,
          0
         ]
        },
        {
         "line": {
          "width": 0.5
         },
         "mode": "lines",
         "name": "SUZB3.SA",
         "stackgroup": "one",
         "type": "scatter",
         "x": [
          7.413071320410464,
          7.428935355986014,
          7.530972409354055,
          7.658530235012296,
          7.794297465278026,
          7.969987264993337,
          8.166810723872135,
          8.37808868850131,
          8.599095925417345,
          8.836332848739241,
          9.098864924730677,
          9.390579217395777,
          9.69642011029552,
          10.013442550291737,
          10.371729474448962,
          10.74720288354375,
          11.127373940372749,
          11.52075973063573,
          11.917391145140408,
          12.316412394780077,
          12.721343086729126,
          13.133076809252797,
          13.553530602454067,
          13.975351598793882,
          14.40490097584386,
          14.843942256481592,
          15.296172159329975,
          15.753540619182584,
          16.232107250244766,
          16.71725931459229,
          17.222679183332964,
          17.741723445599952,
          18.267802316250574,
          18.81746722627311,
          19.374352423245043,
          19.931237620216972,
          20.488122817188618,
          21.045008014160548,
          21.602041443310956,
          22.176098057799344,
          22.75537981562587,
          23.334661573452685
         ],
         "y": [
          8.103081373135335,
          7.0805655716549305,
          6.10955824988034,
          4.284103259389078,
          4.307516198328278,
          4.7174616894075285,
          4.700509956093618,
          4.3940268163976315,
          4.549812186979557,
          4.410506940894213,
          3.559385641228679,
          4.051275750435265,
          3.139947322525758,
          1.9505095428367005,
          1.4638489788390467,
          1.7931760241127328,
          2.307975223069571,
          0.6553454736139586,
          2.844668676644296,
          3.664793038745269,
          1.5145031169040706,
          2.359047879251989,
          0.6303253196534868,
          0,
          0,
          0,
          0,
          0,
          0,
          0.41318367358901525,
          0.4243454111283667,
          0,
          0,
          0,
          0,
          0,
          0,
          0,
          0,
          0,
          0,
          0
         ]
        },
        {
         "line": {
          "width": 0.5
         },
         "mode": "lines",
         "name": "SYNE3.SA",
         "stackgroup": "one",
         "type": "scatter",
         "x": [
          7.413071320410464,
          7.428935355986014,
          7.530972409354055,
          7.658530235012296,
          7.794297465278026,
          7.969987264993337,
          8.166810723872135,
          8.37808868850131,
          8.599095925417345,
          8.836332848739241,
          9.098864924730677,
          9.390579217395777,
          9.69642011029552,
          10.013442550291737,
          10.371729474448962,
          10.74720288354375,
          11.127373940372749,
          11.52075973063573,
          11.917391145140408,
          12.316412394780077,
          12.721343086729126,
          13.133076809252797,
          13.553530602454067,
          13.975351598793882,
          14.40490097584386,
          14.843942256481592,
          15.296172159329975,
          15.753540619182584,
          16.232107250244766,
          16.71725931459229,
          17.222679183332964,
          17.741723445599952,
          18.267802316250574,
          18.81746722627311,
          19.374352423245043,
          19.931237620216972,
          20.488122817188618,
          21.045008014160548,
          21.602041443310956,
          22.176098057799344,
          22.75537981562587,
          23.334661573452685
         ],
         "y": [
          0,
          0,
          0,
          0,
          0,
          0,
          0,
          0,
          0,
          0,
          0,
          0,
          0,
          0,
          0,
          0,
          0,
          0,
          0,
          0,
          0,
          0,
          0,
          0,
          0,
          0,
          0,
          0,
          0,
          0,
          0,
          0,
          0,
          0,
          0,
          0,
          0,
          0,
          0,
          0,
          0,
          0
         ]
        },
        {
         "line": {
          "width": 0.5
         },
         "mode": "lines",
         "name": "TAEE3.SA",
         "stackgroup": "one",
         "type": "scatter",
         "x": [
          7.413071320410464,
          7.428935355986014,
          7.530972409354055,
          7.658530235012296,
          7.794297465278026,
          7.969987264993337,
          8.166810723872135,
          8.37808868850131,
          8.599095925417345,
          8.836332848739241,
          9.098864924730677,
          9.390579217395777,
          9.69642011029552,
          10.013442550291737,
          10.371729474448962,
          10.74720288354375,
          11.127373940372749,
          11.52075973063573,
          11.917391145140408,
          12.316412394780077,
          12.721343086729126,
          13.133076809252797,
          13.553530602454067,
          13.975351598793882,
          14.40490097584386,
          14.843942256481592,
          15.296172159329975,
          15.753540619182584,
          16.232107250244766,
          16.71725931459229,
          17.222679183332964,
          17.741723445599952,
          18.267802316250574,
          18.81746722627311,
          19.374352423245043,
          19.931237620216972,
          20.488122817188618,
          21.045008014160548,
          21.602041443310956,
          22.176098057799344,
          22.75537981562587,
          23.334661573452685
         ],
         "y": [
          13.993119492233458,
          14.118097489085871,
          14.866743440093884,
          15.40721998125659,
          17.415365476518488,
          16.236833288228127,
          9.094546400586513,
          7.729121318057705,
          8.762792027090118,
          9.66039064758397,
          11.732837856252129,
          10.465304912658983,
          12.28876575861095,
          12.97617681286326,
          13.937031993568619,
          15.057560280632714,
          15.085212041260975,
          15.43211107874182,
          10.11567359180903,
          9.413307120887595,
          8.50871900375012,
          7.373822891574198,
          7.0497060788381765,
          6.580700661332328,
          3.0413038437531736,
          0,
          0,
          0,
          0,
          0,
          0,
          0,
          0,
          0,
          0,
          0,
          0,
          0,
          0,
          0,
          0,
          0
         ]
        },
        {
         "line": {
          "width": 0.5
         },
         "mode": "lines",
         "name": "TECN3.SA",
         "stackgroup": "one",
         "type": "scatter",
         "x": [
          7.413071320410464,
          7.428935355986014,
          7.530972409354055,
          7.658530235012296,
          7.794297465278026,
          7.969987264993337,
          8.166810723872135,
          8.37808868850131,
          8.599095925417345,
          8.836332848739241,
          9.098864924730677,
          9.390579217395777,
          9.69642011029552,
          10.013442550291737,
          10.371729474448962,
          10.74720288354375,
          11.127373940372749,
          11.52075973063573,
          11.917391145140408,
          12.316412394780077,
          12.721343086729126,
          13.133076809252797,
          13.553530602454067,
          13.975351598793882,
          14.40490097584386,
          14.843942256481592,
          15.296172159329975,
          15.753540619182584,
          16.232107250244766,
          16.71725931459229,
          17.222679183332964,
          17.741723445599952,
          18.267802316250574,
          18.81746722627311,
          19.374352423245043,
          19.931237620216972,
          20.488122817188618,
          21.045008014160548,
          21.602041443310956,
          22.176098057799344,
          22.75537981562587,
          23.334661573452685
         ],
         "y": [
          0,
          0,
          0,
          0,
          0,
          0,
          0,
          0,
          0,
          0,
          0,
          0,
          0,
          0,
          0,
          0,
          0,
          0,
          0,
          0,
          0,
          0,
          0,
          0,
          0,
          0,
          0,
          0,
          0,
          0,
          0,
          0,
          0,
          0,
          0,
          0,
          0,
          0,
          0,
          0,
          0,
          0
         ]
        },
        {
         "line": {
          "width": 0.5
         },
         "mode": "lines",
         "name": "TEND3.SA",
         "stackgroup": "one",
         "type": "scatter",
         "x": [
          7.413071320410464,
          7.428935355986014,
          7.530972409354055,
          7.658530235012296,
          7.794297465278026,
          7.969987264993337,
          8.166810723872135,
          8.37808868850131,
          8.599095925417345,
          8.836332848739241,
          9.098864924730677,
          9.390579217395777,
          9.69642011029552,
          10.013442550291737,
          10.371729474448962,
          10.74720288354375,
          11.127373940372749,
          11.52075973063573,
          11.917391145140408,
          12.316412394780077,
          12.721343086729126,
          13.133076809252797,
          13.553530602454067,
          13.975351598793882,
          14.40490097584386,
          14.843942256481592,
          15.296172159329975,
          15.753540619182584,
          16.232107250244766,
          16.71725931459229,
          17.222679183332964,
          17.741723445599952,
          18.267802316250574,
          18.81746722627311,
          19.374352423245043,
          19.931237620216972,
          20.488122817188618,
          21.045008014160548,
          21.602041443310956,
          22.176098057799344,
          22.75537981562587,
          23.334661573452685
         ],
         "y": [
          0,
          0,
          0,
          0,
          0,
          0,
          0,
          0,
          0,
          0,
          0,
          0,
          0,
          0,
          0,
          0,
          0,
          0,
          0,
          0,
          0,
          0,
          0,
          0,
          0,
          0,
          0,
          0,
          0,
          0,
          0,
          0,
          0,
          0,
          0,
          0,
          0,
          0,
          0,
          0,
          0,
          0
         ]
        },
        {
         "line": {
          "width": 0.5
         },
         "mode": "lines",
         "name": "TGMA3.SA",
         "stackgroup": "one",
         "type": "scatter",
         "x": [
          7.413071320410464,
          7.428935355986014,
          7.530972409354055,
          7.658530235012296,
          7.794297465278026,
          7.969987264993337,
          8.166810723872135,
          8.37808868850131,
          8.599095925417345,
          8.836332848739241,
          9.098864924730677,
          9.390579217395777,
          9.69642011029552,
          10.013442550291737,
          10.371729474448962,
          10.74720288354375,
          11.127373940372749,
          11.52075973063573,
          11.917391145140408,
          12.316412394780077,
          12.721343086729126,
          13.133076809252797,
          13.553530602454067,
          13.975351598793882,
          14.40490097584386,
          14.843942256481592,
          15.296172159329975,
          15.753540619182584,
          16.232107250244766,
          16.71725931459229,
          17.222679183332964,
          17.741723445599952,
          18.267802316250574,
          18.81746722627311,
          19.374352423245043,
          19.931237620216972,
          20.488122817188618,
          21.045008014160548,
          21.602041443310956,
          22.176098057799344,
          22.75537981562587,
          23.334661573452685
         ],
         "y": [
          0,
          0,
          0,
          0,
          0,
          0,
          0,
          0,
          0,
          0,
          0,
          0,
          0,
          0,
          0,
          0,
          0,
          0,
          0,
          0,
          0,
          0,
          0,
          0,
          0,
          0,
          0,
          0,
          0,
          0,
          0,
          0,
          0,
          0,
          0,
          0,
          0,
          0,
          0,
          0,
          0,
          0
         ]
        },
        {
         "line": {
          "width": 0.5
         },
         "mode": "lines",
         "name": "TIMS3.SA",
         "stackgroup": "one",
         "type": "scatter",
         "x": [
          7.413071320410464,
          7.428935355986014,
          7.530972409354055,
          7.658530235012296,
          7.794297465278026,
          7.969987264993337,
          8.166810723872135,
          8.37808868850131,
          8.599095925417345,
          8.836332848739241,
          9.098864924730677,
          9.390579217395777,
          9.69642011029552,
          10.013442550291737,
          10.371729474448962,
          10.74720288354375,
          11.127373940372749,
          11.52075973063573,
          11.917391145140408,
          12.316412394780077,
          12.721343086729126,
          13.133076809252797,
          13.553530602454067,
          13.975351598793882,
          14.40490097584386,
          14.843942256481592,
          15.296172159329975,
          15.753540619182584,
          16.232107250244766,
          16.71725931459229,
          17.222679183332964,
          17.741723445599952,
          18.267802316250574,
          18.81746722627311,
          19.374352423245043,
          19.931237620216972,
          20.488122817188618,
          21.045008014160548,
          21.602041443310956,
          22.176098057799344,
          22.75537981562587,
          23.334661573452685
         ],
         "y": [
          0,
          0,
          0,
          0,
          0,
          0,
          0,
          0,
          0,
          0,
          0,
          0,
          0,
          0,
          0,
          0,
          0,
          0,
          0,
          0,
          0,
          0,
          0,
          0,
          0,
          0,
          0,
          0,
          0,
          0,
          0,
          0,
          0,
          0,
          0,
          0,
          0,
          0,
          0,
          0,
          0,
          0
         ]
        },
        {
         "line": {
          "width": 0.5
         },
         "mode": "lines",
         "name": "TOTS3.SA",
         "stackgroup": "one",
         "type": "scatter",
         "x": [
          7.413071320410464,
          7.428935355986014,
          7.530972409354055,
          7.658530235012296,
          7.794297465278026,
          7.969987264993337,
          8.166810723872135,
          8.37808868850131,
          8.599095925417345,
          8.836332848739241,
          9.098864924730677,
          9.390579217395777,
          9.69642011029552,
          10.013442550291737,
          10.371729474448962,
          10.74720288354375,
          11.127373940372749,
          11.52075973063573,
          11.917391145140408,
          12.316412394780077,
          12.721343086729126,
          13.133076809252797,
          13.553530602454067,
          13.975351598793882,
          14.40490097584386,
          14.843942256481592,
          15.296172159329975,
          15.753540619182584,
          16.232107250244766,
          16.71725931459229,
          17.222679183332964,
          17.741723445599952,
          18.267802316250574,
          18.81746722627311,
          19.374352423245043,
          19.931237620216972,
          20.488122817188618,
          21.045008014160548,
          21.602041443310956,
          22.176098057799344,
          22.75537981562587,
          23.334661573452685
         ],
         "y": [
          0,
          0,
          0,
          0,
          0,
          0,
          0,
          0,
          0,
          0,
          0,
          0,
          0,
          0,
          0,
          0,
          0,
          0,
          0,
          0,
          0,
          0,
          0,
          0,
          0,
          0,
          0,
          0,
          0,
          0,
          0,
          0,
          0,
          0,
          0,
          0,
          0,
          0,
          0,
          0,
          0,
          0
         ]
        },
        {
         "line": {
          "width": 0.5
         },
         "mode": "lines",
         "name": "TRIS3.SA",
         "stackgroup": "one",
         "type": "scatter",
         "x": [
          7.413071320410464,
          7.428935355986014,
          7.530972409354055,
          7.658530235012296,
          7.794297465278026,
          7.969987264993337,
          8.166810723872135,
          8.37808868850131,
          8.599095925417345,
          8.836332848739241,
          9.098864924730677,
          9.390579217395777,
          9.69642011029552,
          10.013442550291737,
          10.371729474448962,
          10.74720288354375,
          11.127373940372749,
          11.52075973063573,
          11.917391145140408,
          12.316412394780077,
          12.721343086729126,
          13.133076809252797,
          13.553530602454067,
          13.975351598793882,
          14.40490097584386,
          14.843942256481592,
          15.296172159329975,
          15.753540619182584,
          16.232107250244766,
          16.71725931459229,
          17.222679183332964,
          17.741723445599952,
          18.267802316250574,
          18.81746722627311,
          19.374352423245043,
          19.931237620216972,
          20.488122817188618,
          21.045008014160548,
          21.602041443310956,
          22.176098057799344,
          22.75537981562587,
          23.334661573452685
         ],
         "y": [
          0,
          0,
          0,
          0,
          0,
          0,
          0,
          0,
          0,
          0,
          0,
          0,
          0,
          0,
          0,
          0,
          0,
          0,
          0,
          0,
          0,
          0,
          0,
          0,
          0,
          0,
          0,
          0,
          0,
          0,
          0,
          0,
          0,
          0,
          0,
          0,
          0,
          0,
          0,
          0,
          0,
          0
         ]
        },
        {
         "line": {
          "width": 0.5
         },
         "mode": "lines",
         "name": "TRPL3.SA",
         "stackgroup": "one",
         "type": "scatter",
         "x": [
          7.413071320410464,
          7.428935355986014,
          7.530972409354055,
          7.658530235012296,
          7.794297465278026,
          7.969987264993337,
          8.166810723872135,
          8.37808868850131,
          8.599095925417345,
          8.836332848739241,
          9.098864924730677,
          9.390579217395777,
          9.69642011029552,
          10.013442550291737,
          10.371729474448962,
          10.74720288354375,
          11.127373940372749,
          11.52075973063573,
          11.917391145140408,
          12.316412394780077,
          12.721343086729126,
          13.133076809252797,
          13.553530602454067,
          13.975351598793882,
          14.40490097584386,
          14.843942256481592,
          15.296172159329975,
          15.753540619182584,
          16.232107250244766,
          16.71725931459229,
          17.222679183332964,
          17.741723445599952,
          18.267802316250574,
          18.81746722627311,
          19.374352423245043,
          19.931237620216972,
          20.488122817188618,
          21.045008014160548,
          21.602041443310956,
          22.176098057799344,
          22.75537981562587,
          23.334661573452685
         ],
         "y": [
          15.232159632566528,
          14.643462590109605,
          14.243881423388046,
          12.071439969644642,
          10.839985358752347,
          11.39979645904953,
          12.282011892317737,
          13.520946259521335,
          11.773871057823701,
          11.415408579562422,
          12.183938629925885,
          10.056964061337514,
          9.073089195503108,
          7.583636704601263,
          6.225764256350701,
          4.638980884365065,
          3.9259041273876063,
          3.25315550412629,
          4.355767635034162,
          0.6399440499926318,
          0,
          1.0223364752589048,
          2.0935663048334727,
          0,
          0,
          0,
          0,
          0,
          0,
          0,
          0,
          0,
          0,
          0,
          0,
          0,
          0,
          0,
          0,
          0,
          0,
          0
         ]
        },
        {
         "line": {
          "width": 0.5
         },
         "mode": "lines",
         "name": "TUPY3.SA",
         "stackgroup": "one",
         "type": "scatter",
         "x": [
          7.413071320410464,
          7.428935355986014,
          7.530972409354055,
          7.658530235012296,
          7.794297465278026,
          7.969987264993337,
          8.166810723872135,
          8.37808868850131,
          8.599095925417345,
          8.836332848739241,
          9.098864924730677,
          9.390579217395777,
          9.69642011029552,
          10.013442550291737,
          10.371729474448962,
          10.74720288354375,
          11.127373940372749,
          11.52075973063573,
          11.917391145140408,
          12.316412394780077,
          12.721343086729126,
          13.133076809252797,
          13.553530602454067,
          13.975351598793882,
          14.40490097584386,
          14.843942256481592,
          15.296172159329975,
          15.753540619182584,
          16.232107250244766,
          16.71725931459229,
          17.222679183332964,
          17.741723445599952,
          18.267802316250574,
          18.81746722627311,
          19.374352423245043,
          19.931237620216972,
          20.488122817188618,
          21.045008014160548,
          21.602041443310956,
          22.176098057799344,
          22.75537981562587,
          23.334661573452685
         ],
         "y": [
          0,
          0,
          0,
          0,
          0,
          0,
          0,
          0,
          0,
          0,
          0,
          0,
          0,
          0,
          0,
          0,
          0,
          0,
          0,
          0,
          0,
          0,
          0,
          0,
          0,
          0,
          0,
          0,
          0,
          0,
          0,
          0,
          0,
          0,
          0,
          0,
          0,
          0,
          0,
          0,
          0,
          0
         ]
        },
        {
         "line": {
          "width": 0.5
         },
         "mode": "lines",
         "name": "UGPA3.SA",
         "stackgroup": "one",
         "type": "scatter",
         "x": [
          7.413071320410464,
          7.428935355986014,
          7.530972409354055,
          7.658530235012296,
          7.794297465278026,
          7.969987264993337,
          8.166810723872135,
          8.37808868850131,
          8.599095925417345,
          8.836332848739241,
          9.098864924730677,
          9.390579217395777,
          9.69642011029552,
          10.013442550291737,
          10.371729474448962,
          10.74720288354375,
          11.127373940372749,
          11.52075973063573,
          11.917391145140408,
          12.316412394780077,
          12.721343086729126,
          13.133076809252797,
          13.553530602454067,
          13.975351598793882,
          14.40490097584386,
          14.843942256481592,
          15.296172159329975,
          15.753540619182584,
          16.232107250244766,
          16.71725931459229,
          17.222679183332964,
          17.741723445599952,
          18.267802316250574,
          18.81746722627311,
          19.374352423245043,
          19.931237620216972,
          20.488122817188618,
          21.045008014160548,
          21.602041443310956,
          22.176098057799344,
          22.75537981562587,
          23.334661573452685
         ],
         "y": [
          0,
          0,
          0,
          0,
          0,
          0,
          0,
          0,
          0,
          0,
          0,
          0,
          0,
          0,
          0,
          0,
          0,
          0,
          0,
          0,
          0,
          0,
          0,
          0,
          0,
          0,
          0,
          0,
          0,
          0,
          0,
          0,
          0,
          0,
          0,
          0,
          0,
          0,
          0,
          0,
          0,
          0
         ]
        },
        {
         "line": {
          "width": 0.5
         },
         "mode": "lines",
         "name": "VALE3.SA",
         "stackgroup": "one",
         "type": "scatter",
         "x": [
          7.413071320410464,
          7.428935355986014,
          7.530972409354055,
          7.658530235012296,
          7.794297465278026,
          7.969987264993337,
          8.166810723872135,
          8.37808868850131,
          8.599095925417345,
          8.836332848739241,
          9.098864924730677,
          9.390579217395777,
          9.69642011029552,
          10.013442550291737,
          10.371729474448962,
          10.74720288354375,
          11.127373940372749,
          11.52075973063573,
          11.917391145140408,
          12.316412394780077,
          12.721343086729126,
          13.133076809252797,
          13.553530602454067,
          13.975351598793882,
          14.40490097584386,
          14.843942256481592,
          15.296172159329975,
          15.753540619182584,
          16.232107250244766,
          16.71725931459229,
          17.222679183332964,
          17.741723445599952,
          18.267802316250574,
          18.81746722627311,
          19.374352423245043,
          19.931237620216972,
          20.488122817188618,
          21.045008014160548,
          21.602041443310956,
          22.176098057799344,
          22.75537981562587,
          23.334661573452685
         ],
         "y": [
          0,
          0,
          0,
          0,
          0,
          0,
          0,
          0,
          0,
          0,
          0,
          0,
          0,
          0,
          0,
          0,
          0,
          0,
          0,
          0,
          0,
          0,
          0,
          0,
          0,
          0,
          0,
          0,
          0,
          0,
          0,
          0,
          0,
          0,
          0,
          0,
          0,
          0,
          0,
          0,
          0,
          0
         ]
        },
        {
         "line": {
          "width": 0.5
         },
         "mode": "lines",
         "name": "VBBR3.SA",
         "stackgroup": "one",
         "type": "scatter",
         "x": [
          7.413071320410464,
          7.428935355986014,
          7.530972409354055,
          7.658530235012296,
          7.794297465278026,
          7.969987264993337,
          8.166810723872135,
          8.37808868850131,
          8.599095925417345,
          8.836332848739241,
          9.098864924730677,
          9.390579217395777,
          9.69642011029552,
          10.013442550291737,
          10.371729474448962,
          10.74720288354375,
          11.127373940372749,
          11.52075973063573,
          11.917391145140408,
          12.316412394780077,
          12.721343086729126,
          13.133076809252797,
          13.553530602454067,
          13.975351598793882,
          14.40490097584386,
          14.843942256481592,
          15.296172159329975,
          15.753540619182584,
          16.232107250244766,
          16.71725931459229,
          17.222679183332964,
          17.741723445599952,
          18.267802316250574,
          18.81746722627311,
          19.374352423245043,
          19.931237620216972,
          20.488122817188618,
          21.045008014160548,
          21.602041443310956,
          22.176098057799344,
          22.75537981562587,
          23.334661573452685
         ],
         "y": [
          0,
          0,
          0,
          0,
          0,
          0,
          0,
          0,
          0,
          0,
          0,
          0,
          0,
          0,
          0,
          0,
          0,
          0,
          0,
          0,
          0,
          0,
          0,
          0,
          0,
          0,
          0,
          0,
          0,
          0,
          0,
          0,
          0,
          0,
          0,
          0,
          0,
          0,
          0,
          0,
          0,
          0
         ]
        },
        {
         "line": {
          "width": 0.5
         },
         "mode": "lines",
         "name": "VIVA3.SA",
         "stackgroup": "one",
         "type": "scatter",
         "x": [
          7.413071320410464,
          7.428935355986014,
          7.530972409354055,
          7.658530235012296,
          7.794297465278026,
          7.969987264993337,
          8.166810723872135,
          8.37808868850131,
          8.599095925417345,
          8.836332848739241,
          9.098864924730677,
          9.390579217395777,
          9.69642011029552,
          10.013442550291737,
          10.371729474448962,
          10.74720288354375,
          11.127373940372749,
          11.52075973063573,
          11.917391145140408,
          12.316412394780077,
          12.721343086729126,
          13.133076809252797,
          13.553530602454067,
          13.975351598793882,
          14.40490097584386,
          14.843942256481592,
          15.296172159329975,
          15.753540619182584,
          16.232107250244766,
          16.71725931459229,
          17.222679183332964,
          17.741723445599952,
          18.267802316250574,
          18.81746722627311,
          19.374352423245043,
          19.931237620216972,
          20.488122817188618,
          21.045008014160548,
          21.602041443310956,
          22.176098057799344,
          22.75537981562587,
          23.334661573452685
         ],
         "y": [
          0,
          0,
          0,
          0,
          0,
          0,
          0,
          0,
          0,
          0,
          0,
          0,
          0,
          0,
          0,
          0,
          0,
          0,
          0,
          0,
          0,
          0,
          0,
          0,
          0,
          0,
          0,
          0,
          0,
          0,
          0,
          0,
          0,
          0,
          0,
          0,
          0,
          0,
          0,
          0,
          0,
          0
         ]
        },
        {
         "line": {
          "width": 0.5
         },
         "mode": "lines",
         "name": "VIVT3.SA",
         "stackgroup": "one",
         "type": "scatter",
         "x": [
          7.413071320410464,
          7.428935355986014,
          7.530972409354055,
          7.658530235012296,
          7.794297465278026,
          7.969987264993337,
          8.166810723872135,
          8.37808868850131,
          8.599095925417345,
          8.836332848739241,
          9.098864924730677,
          9.390579217395777,
          9.69642011029552,
          10.013442550291737,
          10.371729474448962,
          10.74720288354375,
          11.127373940372749,
          11.52075973063573,
          11.917391145140408,
          12.316412394780077,
          12.721343086729126,
          13.133076809252797,
          13.553530602454067,
          13.975351598793882,
          14.40490097584386,
          14.843942256481592,
          15.296172159329975,
          15.753540619182584,
          16.232107250244766,
          16.71725931459229,
          17.222679183332964,
          17.741723445599952,
          18.267802316250574,
          18.81746722627311,
          19.374352423245043,
          19.931237620216972,
          20.488122817188618,
          21.045008014160548,
          21.602041443310956,
          22.176098057799344,
          22.75537981562587,
          23.334661573452685
         ],
         "y": [
          12.176957921044544,
          11.666530141288058,
          11.058778614864615,
          10.307759519660673,
          9.072751790946675,
          7.226678466014216,
          7.929458103454944,
          8.34482190838436,
          7.590011391914124,
          6.191986772815785,
          5.828141778904062,
          5.175104179052468,
          2.256764495009741,
          1.6648181166325124,
          0,
          0,
          0,
          0,
          0,
          0,
          0,
          0,
          0,
          0,
          0,
          0,
          0,
          0,
          0,
          0,
          0,
          0,
          0,
          0,
          0,
          0,
          0,
          0,
          0,
          0,
          0,
          0
         ]
        },
        {
         "line": {
          "width": 0.5
         },
         "mode": "lines",
         "name": "VLID3.SA",
         "stackgroup": "one",
         "type": "scatter",
         "x": [
          7.413071320410464,
          7.428935355986014,
          7.530972409354055,
          7.658530235012296,
          7.794297465278026,
          7.969987264993337,
          8.166810723872135,
          8.37808868850131,
          8.599095925417345,
          8.836332848739241,
          9.098864924730677,
          9.390579217395777,
          9.69642011029552,
          10.013442550291737,
          10.371729474448962,
          10.74720288354375,
          11.127373940372749,
          11.52075973063573,
          11.917391145140408,
          12.316412394780077,
          12.721343086729126,
          13.133076809252797,
          13.553530602454067,
          13.975351598793882,
          14.40490097584386,
          14.843942256481592,
          15.296172159329975,
          15.753540619182584,
          16.232107250244766,
          16.71725931459229,
          17.222679183332964,
          17.741723445599952,
          18.267802316250574,
          18.81746722627311,
          19.374352423245043,
          19.931237620216972,
          20.488122817188618,
          21.045008014160548,
          21.602041443310956,
          22.176098057799344,
          22.75537981562587,
          23.334661573452685
         ],
         "y": [
          0,
          0,
          0,
          0,
          0,
          0,
          0,
          0,
          0,
          0,
          0,
          0,
          0,
          0,
          0,
          0,
          0,
          0,
          0,
          0,
          0,
          0,
          0,
          0,
          0,
          0,
          0,
          0,
          0,
          0,
          0,
          0,
          0,
          0,
          0,
          0,
          0,
          0,
          0,
          0,
          0,
          0
         ]
        },
        {
         "line": {
          "width": 0.5
         },
         "mode": "lines",
         "name": "VULC3.SA",
         "stackgroup": "one",
         "type": "scatter",
         "x": [
          7.413071320410464,
          7.428935355986014,
          7.530972409354055,
          7.658530235012296,
          7.794297465278026,
          7.969987264993337,
          8.166810723872135,
          8.37808868850131,
          8.599095925417345,
          8.836332848739241,
          9.098864924730677,
          9.390579217395777,
          9.69642011029552,
          10.013442550291737,
          10.371729474448962,
          10.74720288354375,
          11.127373940372749,
          11.52075973063573,
          11.917391145140408,
          12.316412394780077,
          12.721343086729126,
          13.133076809252797,
          13.553530602454067,
          13.975351598793882,
          14.40490097584386,
          14.843942256481592,
          15.296172159329975,
          15.753540619182584,
          16.232107250244766,
          16.71725931459229,
          17.222679183332964,
          17.741723445599952,
          18.267802316250574,
          18.81746722627311,
          19.374352423245043,
          19.931237620216972,
          20.488122817188618,
          21.045008014160548,
          21.602041443310956,
          22.176098057799344,
          22.75537981562587,
          23.334661573452685
         ],
         "y": [
          0,
          0,
          0,
          0,
          0,
          0,
          0,
          0,
          0,
          0,
          0,
          0,
          0,
          0,
          0,
          0,
          0,
          0,
          0,
          0,
          0,
          0,
          0,
          0,
          0,
          0,
          0,
          0,
          0,
          0,
          0,
          0,
          0,
          0,
          0,
          0,
          0,
          0,
          0,
          0,
          0,
          0
         ]
        },
        {
         "line": {
          "width": 0.5
         },
         "mode": "lines",
         "name": "WIZC3.SA",
         "stackgroup": "one",
         "type": "scatter",
         "x": [
          7.413071320410464,
          7.428935355986014,
          7.530972409354055,
          7.658530235012296,
          7.794297465278026,
          7.969987264993337,
          8.166810723872135,
          8.37808868850131,
          8.599095925417345,
          8.836332848739241,
          9.098864924730677,
          9.390579217395777,
          9.69642011029552,
          10.013442550291737,
          10.371729474448962,
          10.74720288354375,
          11.127373940372749,
          11.52075973063573,
          11.917391145140408,
          12.316412394780077,
          12.721343086729126,
          13.133076809252797,
          13.553530602454067,
          13.975351598793882,
          14.40490097584386,
          14.843942256481592,
          15.296172159329975,
          15.753540619182584,
          16.232107250244766,
          16.71725931459229,
          17.222679183332964,
          17.741723445599952,
          18.267802316250574,
          18.81746722627311,
          19.374352423245043,
          19.931237620216972,
          20.488122817188618,
          21.045008014160548,
          21.602041443310956,
          22.176098057799344,
          22.75537981562587,
          23.334661573452685
         ],
         "y": [
          0,
          0,
          0,
          0,
          0,
          0,
          0,
          0,
          0,
          0,
          0,
          0,
          0,
          0,
          0,
          0,
          0,
          0,
          0,
          0,
          0,
          0,
          0,
          0,
          0,
          0,
          0,
          0,
          0,
          0,
          0,
          0,
          0,
          0,
          0,
          0,
          0,
          0,
          0,
          0,
          0,
          0
         ]
        },
        {
         "line": {
          "width": 0.5
         },
         "mode": "lines",
         "name": "YDUQ3.SA",
         "stackgroup": "one",
         "type": "scatter",
         "x": [
          7.413071320410464,
          7.428935355986014,
          7.530972409354055,
          7.658530235012296,
          7.794297465278026,
          7.969987264993337,
          8.166810723872135,
          8.37808868850131,
          8.599095925417345,
          8.836332848739241,
          9.098864924730677,
          9.390579217395777,
          9.69642011029552,
          10.013442550291737,
          10.371729474448962,
          10.74720288354375,
          11.127373940372749,
          11.52075973063573,
          11.917391145140408,
          12.316412394780077,
          12.721343086729126,
          13.133076809252797,
          13.553530602454067,
          13.975351598793882,
          14.40490097584386,
          14.843942256481592,
          15.296172159329975,
          15.753540619182584,
          16.232107250244766,
          16.71725931459229,
          17.222679183332964,
          17.741723445599952,
          18.267802316250574,
          18.81746722627311,
          19.374352423245043,
          19.931237620216972,
          20.488122817188618,
          21.045008014160548,
          21.602041443310956,
          22.176098057799344,
          22.75537981562587,
          23.334661573452685
         ],
         "y": [
          0,
          0,
          0,
          0,
          0,
          0,
          0,
          0,
          0,
          0,
          0,
          0,
          0,
          0,
          0,
          0,
          0,
          0,
          0,
          0,
          0,
          0,
          0,
          0,
          0,
          0,
          0,
          0,
          0,
          0,
          0,
          0,
          0,
          0,
          0,
          0,
          0,
          0,
          0,
          0,
          0,
          0
         ]
        }
       ],
       "layout": {
        "template": {
         "data": {
          "candlestick": [
           {
            "decreasing": {
             "line": {
              "color": "#000033"
             }
            },
            "increasing": {
             "line": {
              "color": "#000032"
             }
            },
            "type": "candlestick"
           }
          ],
          "contour": [
           {
            "colorscale": [
             [
              0,
              "#000011"
             ],
             [
              0.1111111111111111,
              "#000012"
             ],
             [
              0.2222222222222222,
              "#000013"
             ],
             [
              0.3333333333333333,
              "#000014"
             ],
             [
              0.4444444444444444,
              "#000015"
             ],
             [
              0.5555555555555556,
              "#000016"
             ],
             [
              0.6666666666666666,
              "#000017"
             ],
             [
              0.7777777777777778,
              "#000018"
             ],
             [
              0.8888888888888888,
              "#000019"
             ],
             [
              1,
              "#000020"
             ]
            ],
            "type": "contour"
           }
          ],
          "contourcarpet": [
           {
            "colorscale": [
             [
              0,
              "#000011"
             ],
             [
              0.1111111111111111,
              "#000012"
             ],
             [
              0.2222222222222222,
              "#000013"
             ],
             [
              0.3333333333333333,
              "#000014"
             ],
             [
              0.4444444444444444,
              "#000015"
             ],
             [
              0.5555555555555556,
              "#000016"
             ],
             [
              0.6666666666666666,
              "#000017"
             ],
             [
              0.7777777777777778,
              "#000018"
             ],
             [
              0.8888888888888888,
              "#000019"
             ],
             [
              1,
              "#000020"
             ]
            ],
            "type": "contourcarpet"
           }
          ],
          "heatmap": [
           {
            "colorscale": [
             [
              0,
              "#000011"
             ],
             [
              0.1111111111111111,
              "#000012"
             ],
             [
              0.2222222222222222,
              "#000013"
             ],
             [
              0.3333333333333333,
              "#000014"
             ],
             [
              0.4444444444444444,
              "#000015"
             ],
             [
              0.5555555555555556,
              "#000016"
             ],
             [
              0.6666666666666666,
              "#000017"
             ],
             [
              0.7777777777777778,
              "#000018"
             ],
             [
              0.8888888888888888,
              "#000019"
             ],
             [
              1,
              "#000020"
             ]
            ],
            "type": "heatmap"
           }
          ],
          "histogram2d": [
           {
            "colorscale": [
             [
              0,
              "#000011"
             ],
             [
              0.1111111111111111,
              "#000012"
             ],
             [
              0.2222222222222222,
              "#000013"
             ],
             [
              0.3333333333333333,
              "#000014"
             ],
             [
              0.4444444444444444,
              "#000015"
             ],
             [
              0.5555555555555556,
              "#000016"
             ],
             [
              0.6666666666666666,
              "#000017"
             ],
             [
              0.7777777777777778,
              "#000018"
             ],
             [
              0.8888888888888888,
              "#000019"
             ],
             [
              1,
              "#000020"
             ]
            ],
            "type": "histogram2d"
           }
          ],
          "icicle": [
           {
            "textfont": {
             "color": "white"
            },
            "type": "icicle"
           }
          ],
          "sankey": [
           {
            "textfont": {
             "color": "#000036"
            },
            "type": "sankey"
           }
          ],
          "scatter": [
           {
            "marker": {
             "line": {
              "width": 0
             }
            },
            "type": "scatter"
           }
          ],
          "table": [
           {
            "cells": {
             "fill": {
              "color": "#000038"
             },
             "font": {
              "color": "#000037"
             },
             "line": {
              "color": "#000039"
             }
            },
            "header": {
             "fill": {
              "color": "#000040"
             },
             "font": {
              "color": "#000036"
             },
             "line": {
              "color": "#000039"
             }
            },
            "type": "table"
           }
          ],
          "waterfall": [
           {
            "connector": {
             "line": {
              "color": "#000036",
              "width": 2
             }
            },
            "decreasing": {
             "marker": {
              "color": "#000033"
             }
            },
            "increasing": {
             "marker": {
              "color": "#000032"
             }
            },
            "totals": {
             "marker": {
              "color": "#000034"
             }
            },
            "type": "waterfall"
           }
          ]
         },
         "layout": {
          "coloraxis": {
           "colorscale": [
            [
             0,
             "#000011"
            ],
            [
             0.1111111111111111,
             "#000012"
            ],
            [
             0.2222222222222222,
             "#000013"
            ],
            [
             0.3333333333333333,
             "#000014"
            ],
            [
             0.4444444444444444,
             "#000015"
            ],
            [
             0.5555555555555556,
             "#000016"
            ],
            [
             0.6666666666666666,
             "#000017"
            ],
            [
             0.7777777777777778,
             "#000018"
            ],
            [
             0.8888888888888888,
             "#000019"
            ],
            [
             1,
             "#000020"
            ]
           ]
          },
          "colorscale": {
           "diverging": [
            [
             0,
             "#000021"
            ],
            [
             0.1,
             "#000022"
            ],
            [
             0.2,
             "#000023"
            ],
            [
             0.3,
             "#000024"
            ],
            [
             0.4,
             "#000025"
            ],
            [
             0.5,
             "#000026"
            ],
            [
             0.6,
             "#000027"
            ],
            [
             0.7,
             "#000028"
            ],
            [
             0.8,
             "#000029"
            ],
            [
             0.9,
             "#000030"
            ],
            [
             1,
             "#000031"
            ]
           ],
           "sequential": [
            [
             0,
             "#000011"
            ],
            [
             0.1111111111111111,
             "#000012"
            ],
            [
             0.2222222222222222,
             "#000013"
            ],
            [
             0.3333333333333333,
             "#000014"
            ],
            [
             0.4444444444444444,
             "#000015"
            ],
            [
             0.5555555555555556,
             "#000016"
            ],
            [
             0.6666666666666666,
             "#000017"
            ],
            [
             0.7777777777777778,
             "#000018"
            ],
            [
             0.8888888888888888,
             "#000019"
            ],
            [
             1,
             "#000020"
            ]
           ],
           "sequentialminus": [
            [
             0,
             "#000011"
            ],
            [
             0.1111111111111111,
             "#000012"
            ],
            [
             0.2222222222222222,
             "#000013"
            ],
            [
             0.3333333333333333,
             "#000014"
            ],
            [
             0.4444444444444444,
             "#000015"
            ],
            [
             0.5555555555555556,
             "#000016"
            ],
            [
             0.6666666666666666,
             "#000017"
            ],
            [
             0.7777777777777778,
             "#000018"
            ],
            [
             0.8888888888888888,
             "#000019"
            ],
            [
             1,
             "#000020"
            ]
           ]
          },
          "colorway": [
           "#000001",
           "#000002",
           "#000003",
           "#000004",
           "#000005",
           "#000006",
           "#000007",
           "#000008",
           "#000009",
           "#000010"
          ]
         }
        },
        "title": {
         "text": "Stocks Distribution in Portfolio - CVaR"
        },
        "xaxis": {
         "title": {
          "text": "CVaR (%)"
         }
        },
        "yaxis": {
         "title": {
          "text": "Distribution (%)"
         }
        }
       }
      }
     },
     "metadata": {},
     "output_type": "display_data"
    },
    {
     "name": "stdout",
     "output_type": "stream",
     "text": [
      "Initial Investment: 5000\n",
      "For risk = 20, the current value of the investment is 5778.34\n",
      "Initial Investment: 5000\n",
      "For risk = 30, the current value of the investment is 5879.49\n",
      "Initial Investment: 5000\n",
      "For risk = 40, the current value of the investment is 5879.49\n",
      "Initial Investment: 5000\n",
      "For risk = 50, the current value of the investment is 5879.49\n",
      "Initial Investment: 5000\n",
      "For risk = 60, the current value of the investment is 5879.49\n"
     ]
    },
    {
     "data": {
      "application/vnd.plotly.v1+json": {
       "config": {
        "plotlyServerURL": "https://plot.ly"
       },
       "data": [
        {
         "mode": "lines",
         "name": "Risk = 20",
         "type": "scatter",
         "x": [
          "2023-11-01T00:00:00",
          "2023-11-03T00:00:00",
          "2023-11-06T00:00:00",
          "2023-11-07T00:00:00",
          "2023-11-08T00:00:00",
          "2023-11-09T00:00:00",
          "2023-11-10T00:00:00",
          "2023-11-13T00:00:00",
          "2023-11-14T00:00:00",
          "2023-11-16T00:00:00",
          "2023-11-17T00:00:00",
          "2023-11-20T00:00:00",
          "2023-11-21T00:00:00",
          "2023-11-22T00:00:00",
          "2023-11-23T00:00:00",
          "2023-11-24T00:00:00",
          "2023-11-27T00:00:00",
          "2023-11-28T00:00:00",
          "2023-11-29T00:00:00",
          "2023-11-30T00:00:00",
          "2023-12-01T00:00:00",
          "2023-12-04T00:00:00",
          "2023-12-05T00:00:00",
          "2023-12-06T00:00:00",
          "2023-12-07T00:00:00",
          "2023-12-08T00:00:00",
          "2023-12-11T00:00:00",
          "2023-12-12T00:00:00",
          "2023-12-13T00:00:00",
          "2023-12-14T00:00:00",
          "2023-12-15T00:00:00",
          "2023-12-18T00:00:00",
          "2023-12-19T00:00:00",
          "2023-12-20T00:00:00",
          "2023-12-21T00:00:00",
          "2023-12-22T00:00:00",
          "2023-12-26T00:00:00",
          "2023-12-27T00:00:00",
          "2023-12-28T00:00:00"
         ],
         "y": [
          4999.499999999999,
          5086.606277783273,
          4953.494970357823,
          5030.513945512837,
          5113.218167924912,
          5128.183087030503,
          5130.982687180058,
          5194.409955933162,
          5200.948323085226,
          5160.270011424122,
          5210.158512030235,
          5226.384944540167,
          5217.45103435739,
          5124.931460569176,
          5224.224914185912,
          5197.163666689468,
          5212.232220211689,
          5211.782862856884,
          5026.467200030952,
          5099.87467483794,
          5169.2039409706895,
          5181.749390229072,
          5189.98908227373,
          5201.169620198417,
          5202.154657080829,
          5216.583896658814,
          5210.725807296456,
          5198.007477205196,
          5270.066841220189,
          5311.920126989346,
          5355.829808696129,
          5303.262693328496,
          5329.234994311044,
          5368.73805664924,
          5422.031358563619,
          5429.340917919747,
          5580.752168276887,
          5721.985505050433,
          5778.337276813823
         ]
        },
        {
         "mode": "lines",
         "name": "Risk = 30",
         "type": "scatter",
         "x": [
          "2023-11-01T00:00:00",
          "2023-11-03T00:00:00",
          "2023-11-06T00:00:00",
          "2023-11-07T00:00:00",
          "2023-11-08T00:00:00",
          "2023-11-09T00:00:00",
          "2023-11-10T00:00:00",
          "2023-11-13T00:00:00",
          "2023-11-14T00:00:00",
          "2023-11-16T00:00:00",
          "2023-11-17T00:00:00",
          "2023-11-20T00:00:00",
          "2023-11-21T00:00:00",
          "2023-11-22T00:00:00",
          "2023-11-23T00:00:00",
          "2023-11-24T00:00:00",
          "2023-11-27T00:00:00",
          "2023-11-28T00:00:00",
          "2023-11-29T00:00:00",
          "2023-11-30T00:00:00",
          "2023-12-01T00:00:00",
          "2023-12-04T00:00:00",
          "2023-12-05T00:00:00",
          "2023-12-06T00:00:00",
          "2023-12-07T00:00:00",
          "2023-12-08T00:00:00",
          "2023-12-11T00:00:00",
          "2023-12-12T00:00:00",
          "2023-12-13T00:00:00",
          "2023-12-14T00:00:00",
          "2023-12-15T00:00:00",
          "2023-12-18T00:00:00",
          "2023-12-19T00:00:00",
          "2023-12-20T00:00:00",
          "2023-12-21T00:00:00",
          "2023-12-22T00:00:00",
          "2023-12-26T00:00:00",
          "2023-12-27T00:00:00",
          "2023-12-28T00:00:00"
         ],
         "y": [
          5000,
          5104.545013453877,
          4952.924924986681,
          5037.158343171234,
          5121.391761355786,
          5148.346429468843,
          5144.977336948454,
          5252.796009400684,
          5229.2107551330055,
          5192.14784548381,
          5219.1025135968675,
          5249.426595555305,
          5249.426595555305,
          5128.1305890465455,
          5239.318675344156,
          5219.1025135968675,
          5222.471927442247,
          5219.1025135968675,
          4986.618420790498,
          5074.22125282043,
          5192.14784548381,
          5188.77843163843,
          5188.77843163843,
          5205.625179540339,
          5219.1025135968675,
          5235.949261498776,
          5222.471927442247,
          5212.364007231097,
          5289.85859772489,
          5323.552093528708,
          5390.938763811351,
          5313.444173317559,
          5343.767933951006,
          5384.199936120592,
          5454.956341573606,
          5454.956341573606,
          5640.269604519629,
          5791.890014311814,
          5879.492846341747
         ]
        },
        {
         "mode": "lines",
         "name": "Risk = 40",
         "type": "scatter",
         "x": [
          "2023-11-01T00:00:00",
          "2023-11-03T00:00:00",
          "2023-11-06T00:00:00",
          "2023-11-07T00:00:00",
          "2023-11-08T00:00:00",
          "2023-11-09T00:00:00",
          "2023-11-10T00:00:00",
          "2023-11-13T00:00:00",
          "2023-11-14T00:00:00",
          "2023-11-16T00:00:00",
          "2023-11-17T00:00:00",
          "2023-11-20T00:00:00",
          "2023-11-21T00:00:00",
          "2023-11-22T00:00:00",
          "2023-11-23T00:00:00",
          "2023-11-24T00:00:00",
          "2023-11-27T00:00:00",
          "2023-11-28T00:00:00",
          "2023-11-29T00:00:00",
          "2023-11-30T00:00:00",
          "2023-12-01T00:00:00",
          "2023-12-04T00:00:00",
          "2023-12-05T00:00:00",
          "2023-12-06T00:00:00",
          "2023-12-07T00:00:00",
          "2023-12-08T00:00:00",
          "2023-12-11T00:00:00",
          "2023-12-12T00:00:00",
          "2023-12-13T00:00:00",
          "2023-12-14T00:00:00",
          "2023-12-15T00:00:00",
          "2023-12-18T00:00:00",
          "2023-12-19T00:00:00",
          "2023-12-20T00:00:00",
          "2023-12-21T00:00:00",
          "2023-12-22T00:00:00",
          "2023-12-26T00:00:00",
          "2023-12-27T00:00:00",
          "2023-12-28T00:00:00"
         ],
         "y": [
          5000,
          5104.545013453877,
          4952.924924986681,
          5037.158343171234,
          5121.391761355786,
          5148.346429468843,
          5144.977336948454,
          5252.796009400684,
          5229.2107551330055,
          5192.14784548381,
          5219.1025135968675,
          5249.426595555305,
          5249.426595555305,
          5128.1305890465455,
          5239.318675344156,
          5219.1025135968675,
          5222.471927442247,
          5219.1025135968675,
          4986.618420790498,
          5074.22125282043,
          5192.14784548381,
          5188.77843163843,
          5188.77843163843,
          5205.625179540339,
          5219.1025135968675,
          5235.949261498776,
          5222.471927442247,
          5212.364007231097,
          5289.85859772489,
          5323.552093528708,
          5390.938763811351,
          5313.444173317559,
          5343.767933951006,
          5384.199936120592,
          5454.956341573606,
          5454.956341573606,
          5640.269604519629,
          5791.890014311814,
          5879.492846341747
         ]
        },
        {
         "mode": "lines",
         "name": "Risk = 50",
         "type": "scatter",
         "x": [
          "2023-11-01T00:00:00",
          "2023-11-03T00:00:00",
          "2023-11-06T00:00:00",
          "2023-11-07T00:00:00",
          "2023-11-08T00:00:00",
          "2023-11-09T00:00:00",
          "2023-11-10T00:00:00",
          "2023-11-13T00:00:00",
          "2023-11-14T00:00:00",
          "2023-11-16T00:00:00",
          "2023-11-17T00:00:00",
          "2023-11-20T00:00:00",
          "2023-11-21T00:00:00",
          "2023-11-22T00:00:00",
          "2023-11-23T00:00:00",
          "2023-11-24T00:00:00",
          "2023-11-27T00:00:00",
          "2023-11-28T00:00:00",
          "2023-11-29T00:00:00",
          "2023-11-30T00:00:00",
          "2023-12-01T00:00:00",
          "2023-12-04T00:00:00",
          "2023-12-05T00:00:00",
          "2023-12-06T00:00:00",
          "2023-12-07T00:00:00",
          "2023-12-08T00:00:00",
          "2023-12-11T00:00:00",
          "2023-12-12T00:00:00",
          "2023-12-13T00:00:00",
          "2023-12-14T00:00:00",
          "2023-12-15T00:00:00",
          "2023-12-18T00:00:00",
          "2023-12-19T00:00:00",
          "2023-12-20T00:00:00",
          "2023-12-21T00:00:00",
          "2023-12-22T00:00:00",
          "2023-12-26T00:00:00",
          "2023-12-27T00:00:00",
          "2023-12-28T00:00:00"
         ],
         "y": [
          5000,
          5104.545013453877,
          4952.924924986681,
          5037.158343171234,
          5121.391761355786,
          5148.346429468843,
          5144.977336948454,
          5252.796009400684,
          5229.2107551330055,
          5192.14784548381,
          5219.1025135968675,
          5249.426595555305,
          5249.426595555305,
          5128.1305890465455,
          5239.318675344156,
          5219.1025135968675,
          5222.471927442247,
          5219.1025135968675,
          4986.618420790498,
          5074.22125282043,
          5192.14784548381,
          5188.77843163843,
          5188.77843163843,
          5205.625179540339,
          5219.1025135968675,
          5235.949261498776,
          5222.471927442247,
          5212.364007231097,
          5289.85859772489,
          5323.552093528708,
          5390.938763811351,
          5313.444173317559,
          5343.767933951006,
          5384.199936120592,
          5454.956341573606,
          5454.956341573606,
          5640.269604519629,
          5791.890014311814,
          5879.492846341747
         ]
        },
        {
         "mode": "lines",
         "name": "Risk = 60",
         "type": "scatter",
         "x": [
          "2023-11-01T00:00:00",
          "2023-11-03T00:00:00",
          "2023-11-06T00:00:00",
          "2023-11-07T00:00:00",
          "2023-11-08T00:00:00",
          "2023-11-09T00:00:00",
          "2023-11-10T00:00:00",
          "2023-11-13T00:00:00",
          "2023-11-14T00:00:00",
          "2023-11-16T00:00:00",
          "2023-11-17T00:00:00",
          "2023-11-20T00:00:00",
          "2023-11-21T00:00:00",
          "2023-11-22T00:00:00",
          "2023-11-23T00:00:00",
          "2023-11-24T00:00:00",
          "2023-11-27T00:00:00",
          "2023-11-28T00:00:00",
          "2023-11-29T00:00:00",
          "2023-11-30T00:00:00",
          "2023-12-01T00:00:00",
          "2023-12-04T00:00:00",
          "2023-12-05T00:00:00",
          "2023-12-06T00:00:00",
          "2023-12-07T00:00:00",
          "2023-12-08T00:00:00",
          "2023-12-11T00:00:00",
          "2023-12-12T00:00:00",
          "2023-12-13T00:00:00",
          "2023-12-14T00:00:00",
          "2023-12-15T00:00:00",
          "2023-12-18T00:00:00",
          "2023-12-19T00:00:00",
          "2023-12-20T00:00:00",
          "2023-12-21T00:00:00",
          "2023-12-22T00:00:00",
          "2023-12-26T00:00:00",
          "2023-12-27T00:00:00",
          "2023-12-28T00:00:00"
         ],
         "y": [
          5000,
          5104.545013453877,
          4952.924924986681,
          5037.158343171234,
          5121.391761355786,
          5148.346429468843,
          5144.977336948454,
          5252.796009400684,
          5229.2107551330055,
          5192.14784548381,
          5219.1025135968675,
          5249.426595555305,
          5249.426595555305,
          5128.1305890465455,
          5239.318675344156,
          5219.1025135968675,
          5222.471927442247,
          5219.1025135968675,
          4986.618420790498,
          5074.22125282043,
          5192.14784548381,
          5188.77843163843,
          5188.77843163843,
          5205.625179540339,
          5219.1025135968675,
          5235.949261498776,
          5222.471927442247,
          5212.364007231097,
          5289.85859772489,
          5323.552093528708,
          5390.938763811351,
          5313.444173317559,
          5343.767933951006,
          5384.199936120592,
          5454.956341573606,
          5454.956341573606,
          5640.269604519629,
          5791.890014311814,
          5879.492846341747
         ]
        }
       ],
       "layout": {
        "template": {
         "data": {
          "candlestick": [
           {
            "decreasing": {
             "line": {
              "color": "#000033"
             }
            },
            "increasing": {
             "line": {
              "color": "#000032"
             }
            },
            "type": "candlestick"
           }
          ],
          "contour": [
           {
            "colorscale": [
             [
              0,
              "#000011"
             ],
             [
              0.1111111111111111,
              "#000012"
             ],
             [
              0.2222222222222222,
              "#000013"
             ],
             [
              0.3333333333333333,
              "#000014"
             ],
             [
              0.4444444444444444,
              "#000015"
             ],
             [
              0.5555555555555556,
              "#000016"
             ],
             [
              0.6666666666666666,
              "#000017"
             ],
             [
              0.7777777777777778,
              "#000018"
             ],
             [
              0.8888888888888888,
              "#000019"
             ],
             [
              1,
              "#000020"
             ]
            ],
            "type": "contour"
           }
          ],
          "contourcarpet": [
           {
            "colorscale": [
             [
              0,
              "#000011"
             ],
             [
              0.1111111111111111,
              "#000012"
             ],
             [
              0.2222222222222222,
              "#000013"
             ],
             [
              0.3333333333333333,
              "#000014"
             ],
             [
              0.4444444444444444,
              "#000015"
             ],
             [
              0.5555555555555556,
              "#000016"
             ],
             [
              0.6666666666666666,
              "#000017"
             ],
             [
              0.7777777777777778,
              "#000018"
             ],
             [
              0.8888888888888888,
              "#000019"
             ],
             [
              1,
              "#000020"
             ]
            ],
            "type": "contourcarpet"
           }
          ],
          "heatmap": [
           {
            "colorscale": [
             [
              0,
              "#000011"
             ],
             [
              0.1111111111111111,
              "#000012"
             ],
             [
              0.2222222222222222,
              "#000013"
             ],
             [
              0.3333333333333333,
              "#000014"
             ],
             [
              0.4444444444444444,
              "#000015"
             ],
             [
              0.5555555555555556,
              "#000016"
             ],
             [
              0.6666666666666666,
              "#000017"
             ],
             [
              0.7777777777777778,
              "#000018"
             ],
             [
              0.8888888888888888,
              "#000019"
             ],
             [
              1,
              "#000020"
             ]
            ],
            "type": "heatmap"
           }
          ],
          "histogram2d": [
           {
            "colorscale": [
             [
              0,
              "#000011"
             ],
             [
              0.1111111111111111,
              "#000012"
             ],
             [
              0.2222222222222222,
              "#000013"
             ],
             [
              0.3333333333333333,
              "#000014"
             ],
             [
              0.4444444444444444,
              "#000015"
             ],
             [
              0.5555555555555556,
              "#000016"
             ],
             [
              0.6666666666666666,
              "#000017"
             ],
             [
              0.7777777777777778,
              "#000018"
             ],
             [
              0.8888888888888888,
              "#000019"
             ],
             [
              1,
              "#000020"
             ]
            ],
            "type": "histogram2d"
           }
          ],
          "icicle": [
           {
            "textfont": {
             "color": "white"
            },
            "type": "icicle"
           }
          ],
          "sankey": [
           {
            "textfont": {
             "color": "#000036"
            },
            "type": "sankey"
           }
          ],
          "scatter": [
           {
            "marker": {
             "line": {
              "width": 0
             }
            },
            "type": "scatter"
           }
          ],
          "table": [
           {
            "cells": {
             "fill": {
              "color": "#000038"
             },
             "font": {
              "color": "#000037"
             },
             "line": {
              "color": "#000039"
             }
            },
            "header": {
             "fill": {
              "color": "#000040"
             },
             "font": {
              "color": "#000036"
             },
             "line": {
              "color": "#000039"
             }
            },
            "type": "table"
           }
          ],
          "waterfall": [
           {
            "connector": {
             "line": {
              "color": "#000036",
              "width": 2
             }
            },
            "decreasing": {
             "marker": {
              "color": "#000033"
             }
            },
            "increasing": {
             "marker": {
              "color": "#000032"
             }
            },
            "totals": {
             "marker": {
              "color": "#000034"
             }
            },
            "type": "waterfall"
           }
          ]
         },
         "layout": {
          "coloraxis": {
           "colorscale": [
            [
             0,
             "#000011"
            ],
            [
             0.1111111111111111,
             "#000012"
            ],
            [
             0.2222222222222222,
             "#000013"
            ],
            [
             0.3333333333333333,
             "#000014"
            ],
            [
             0.4444444444444444,
             "#000015"
            ],
            [
             0.5555555555555556,
             "#000016"
            ],
            [
             0.6666666666666666,
             "#000017"
            ],
            [
             0.7777777777777778,
             "#000018"
            ],
            [
             0.8888888888888888,
             "#000019"
            ],
            [
             1,
             "#000020"
            ]
           ]
          },
          "colorscale": {
           "diverging": [
            [
             0,
             "#000021"
            ],
            [
             0.1,
             "#000022"
            ],
            [
             0.2,
             "#000023"
            ],
            [
             0.3,
             "#000024"
            ],
            [
             0.4,
             "#000025"
            ],
            [
             0.5,
             "#000026"
            ],
            [
             0.6,
             "#000027"
            ],
            [
             0.7,
             "#000028"
            ],
            [
             0.8,
             "#000029"
            ],
            [
             0.9,
             "#000030"
            ],
            [
             1,
             "#000031"
            ]
           ],
           "sequential": [
            [
             0,
             "#000011"
            ],
            [
             0.1111111111111111,
             "#000012"
            ],
            [
             0.2222222222222222,
             "#000013"
            ],
            [
             0.3333333333333333,
             "#000014"
            ],
            [
             0.4444444444444444,
             "#000015"
            ],
            [
             0.5555555555555556,
             "#000016"
            ],
            [
             0.6666666666666666,
             "#000017"
            ],
            [
             0.7777777777777778,
             "#000018"
            ],
            [
             0.8888888888888888,
             "#000019"
            ],
            [
             1,
             "#000020"
            ]
           ],
           "sequentialminus": [
            [
             0,
             "#000011"
            ],
            [
             0.1111111111111111,
             "#000012"
            ],
            [
             0.2222222222222222,
             "#000013"
            ],
            [
             0.3333333333333333,
             "#000014"
            ],
            [
             0.4444444444444444,
             "#000015"
            ],
            [
             0.5555555555555556,
             "#000016"
            ],
            [
             0.6666666666666666,
             "#000017"
            ],
            [
             0.7777777777777778,
             "#000018"
            ],
            [
             0.8888888888888888,
             "#000019"
            ],
            [
             1,
             "#000020"
            ]
           ]
          },
          "colorway": [
           "#000001",
           "#000002",
           "#000003",
           "#000004",
           "#000005",
           "#000006",
           "#000007",
           "#000008",
           "#000009",
           "#000010"
          ]
         }
        },
        "title": {
         "text": "Portfolio Value Evolution"
        },
        "xaxis": {
         "title": {
          "text": "Time Period"
         }
        },
        "yaxis": {
         "title": {
          "text": "Portfolio Value"
         }
        }
       }
      }
     },
     "metadata": {},
     "output_type": "display_data"
    }
   ],
   "source": [
    "data_inicio = datetime(2020, 1, 1)\n",
    "data_fim = datetime.now()\n",
    "stock_type = [\"ON\"]\n",
    "stock_sector = list(df_stocks_info[\"Setor\"].unique())\n",
    "stock_tecnichal = [\"Compra Forte\"]\n",
    "df_filter = df_stocks_info.query(\n",
    "    \"Tipo in @stock_type and Setor in @stock_sector and Mensal in @stock_tecnichal\"\n",
    ")\n",
    "stocks_codes = [i + \".SA\" for i in df_filter.Códigos.unique()]\n",
    "days_before = 60\n",
    "end_date_backtest = datetime.now() - timedelta(days=days_before)\n",
    "invested_value = 5000\n",
    "risk_values = [20,30,40,50,60]\n",
    "\n",
    "backtest(\n",
    "        invested_value,\n",
    "        stocks_codes,\n",
    "        risk_values,\n",
    "        data_inicio,\n",
    "        end_date_backtest,\n",
    "        data_fim,\n",
    "    )"
   ]
  }
 ],
 "metadata": {
  "kernelspec": {
   "display_name": "Python 3 (ipykernel)",
   "language": "python",
   "name": "python3"
  },
  "language_info": {
   "codemirror_mode": {
    "name": "ipython",
    "version": 3
   },
   "file_extension": ".py",
   "mimetype": "text/x-python",
   "name": "python",
   "nbconvert_exporter": "python",
   "pygments_lexer": "ipython3",
   "version": "3.11.5"
  }
 },
 "nbformat": 4,
 "nbformat_minor": 5
}
